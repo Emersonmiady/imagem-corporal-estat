{
  "nbformat": 4,
  "nbformat_minor": 0,
  "metadata": {
    "colab": {
      "name": "imagem_corporal.ipynb",
      "provenance": [],
      "collapsed_sections": [
        "UesImnjrFMMa"
      ],
      "toc_visible": true,
      "mount_file_id": "1zUYZUeaY1Vpj6onSF6gHB8S3_TmjaoJJ",
      "authorship_tag": "ABX9TyMDHT2qOjQiM1OvZFBwnjND",
      "include_colab_link": true
    },
    "kernelspec": {
      "name": "python3",
      "display_name": "Python 3"
    }
  },
  "cells": [
    {
      "cell_type": "markdown",
      "metadata": {
        "id": "view-in-github",
        "colab_type": "text"
      },
      "source": [
        "<a href=\"https://colab.research.google.com/github/Emersonmiady/imagem-corporal-estat/blob/main/imagem_corporal.ipynb\" target=\"_parent\"><img src=\"https://colab.research.google.com/assets/colab-badge.svg\" alt=\"Open In Colab\"/></a>"
      ]
    },
    {
      "cell_type": "markdown",
      "metadata": {
        "id": "f2KZ_yklbKSq"
      },
      "source": [
        "\n",
        "# **Imagem corporal na adolescência: uma análise com a Estatística**\n"
      ]
    },
    {
      "cell_type": "markdown",
      "metadata": {
        "id": "7YNKLOxOkYEy"
      },
      "source": [
        "---\n",
        "## **Contextualização**\n"
      ]
    },
    {
      "cell_type": "markdown",
      "metadata": {
        "id": "ORelKEHL-o7-"
      },
      "source": [
        "### **O que é imagem corporal?**\n",
        "A imagem corporal é a impressão que uma pessoa tem do seu próprio corpo e os pensamentos e sentimentos a respeito. Também podemos pensar a imagem corporal como sendo a maneira como você se vê quando se olha no espelho ou quando você se imagina em sua mente.  Ela é a representação mental do nosso corpo, é a forma como nos vemos e pensamos fisicamente,  também é a forma como acreditamos que os outros nos vêem.\n",
        "\n",
        "<center><img src=\"https://github.com/Emersonmiady/imagem-corporal-ds/blob/main/img/body_impression.jpg?raw=true\" height=350>"
      ]
    },
    {
      "cell_type": "markdown",
      "metadata": {
        "id": "9QoLr1H0ji47"
      },
      "source": [
        "### **Como é construída?**\n",
        "A imagem corporal é uma noção que vamos adquirindo com o tempo, a partir das **nossas culturas e histórias pessoais**. Ela está muito ligada a nossas **experiências afetivas com os outros e as pessoas que nos cercam**.\n",
        "\n",
        "Quando somos jogados para conviver em sociedade, acabamos nos deparando com certos \"padrões de beleza\", e que muita das vezes, não são fáceis de serem adquiridos. Infelizmente aquilo é tratado como \"normal\", e a insatisfação pelo próprio corpo é algo que pode sim se desenvolver.\n",
        "\n",
        "<center><img src=\"https://github.com/Emersonmiady/imagem-corporal-ds/blob/main/img/beauty_and_social_medias.jpg?raw=true\" width=900 height=300></center>"
      ]
    },
    {
      "cell_type": "markdown",
      "metadata": {
        "id": "4vvJeZK8hv1I"
      },
      "source": [
        "### **Qual a sua importância?**\n",
        "Saber o que um indivíduo pensa sobre seu corpo é de extrema importância, pois uma imagem corporal negativa pode levar a sentimentos negativos, como a tristeza, melancolia e o desânimo. \n",
        "\n",
        "Pode levar ao constrangimento pessoal, fazendo com que a exposição publica se torne um terror psicológico, e assim, desencadeando um isolamento social constante.\n",
        "\n",
        "Caso essa visão se torne mais grave, é possível que desencadeie problemas mais sérios de saúde, como a anorexia, bulimia e depressão. Em casos extremos, o **suicídio** pode se tornar real...\n",
        "\n",
        "Em suma, existem muitas consequências negativas caso a sua imagem corporal não esteja saudável, e tudo isso desconfigura a própria personalidade, fazendo com que ela se esqueça da sua essência, suas emoções, do que ela \"realmente é\".\n",
        "\n",
        "<center><img src=\"https://github.com/Emersonmiady/imagem-corporal-ds/blob/main/img/depression.jpg?raw=true\" height=300></center>\n",
        "\n",
        "\n"
      ]
    },
    {
      "cell_type": "markdown",
      "metadata": {
        "id": "p9GLi1iswaJa"
      },
      "source": [
        "### **Um aviso**\n",
        "Caso você, leitor, que esteja passando por algum pensamento negativo a respeito do tema, repense se realmente vale a pena deixar de ser quem você é, de amar a si próprio... \n",
        "\n",
        "Na minha opinião, não é algo benéfico, não podemos nos apegar a essas imagens perfeitas \"para ser\" ou \"para existir\", temos que tomar consciência de que somos pessoas, e pessoas possuem qualidades não somente físicas, mas emocionais.\n",
        "\n",
        "Não precisamos seguir tendências, o que realmente importa é que somos pessoas legais e comuns como todas as outras. Todos temos problemas e defeitos, afinal, somos seres humanos, certo? \n",
        "\n",
        "Então anime-se, cuide da sua saúde e de sua imagem da melhor forma, a que mais te agrada e te faça se sentir livre! :)"
      ]
    },
    {
      "cell_type": "markdown",
      "metadata": {
        "id": "NrJSAisprU8j"
      },
      "source": [
        "---\n",
        "## **Um pouco sobre o projeto**"
      ]
    },
    {
      "cell_type": "markdown",
      "metadata": {
        "id": "GmyuCieuXafQ"
      },
      "source": [
        "### **Bibliotecas utilizadas**"
      ]
    },
    {
      "cell_type": "code",
      "metadata": {
        "id": "R1vLRbaoXsoF"
      },
      "source": [
        "# Importando as bibliotecas necessárias\n",
        "import pandas as pd\n",
        "import numpy as np\n",
        "import matplotlib.pyplot as plt\n",
        "import seaborn as sns\n",
        "from IPython.core.display import HTML\n",
        "from IPython.display import Javascript\n",
        "from scipy.stats import chi2\n",
        "from scipy.stats import chisquare\n",
        "from scipy.stats import chi2_contingency"
      ],
      "execution_count": null,
      "outputs": []
    },
    {
      "cell_type": "markdown",
      "metadata": {
        "id": "SH3GDMi9bCrZ"
      },
      "source": [
        "### **Funções criadas**"
      ]
    },
    {
      "cell_type": "code",
      "metadata": {
        "id": "sM2dGm4V5SMS"
      },
      "source": [
        "# Função para fazer a descrição do código da pergunta\n",
        "def make_description_of_question(id):\n",
        "  question_description = pd.DataFrame(columns=['VARIÁVEL',\n",
        "                                               'DESCRIÇÃO'])\n",
        "  variables = []\n",
        "  description = []\n",
        "  id_index = dictionary_df.query('VARIÁVEL == @id').index[0]\n",
        "  \n",
        "  dictionary_copy = dictionary_df.copy()\n",
        "  dictionary_copy['VARIÁVEL'] = pd.to_numeric(dictionary_copy['VARIÁVEL'], \n",
        "                                              errors='coerce', \n",
        "                                              downcast='integer')\n",
        "\n",
        "  first_answer_index = id_index + 1\n",
        "  iterator = 0\n",
        "  for variable in pd.isna(dictionary_copy.iloc[first_answer_index:, 0]):\n",
        "    if variable == False:\n",
        "      variables.append(dictionary_copy.iloc[first_answer_index + iterator, 0])\n",
        "      description.append(dictionary_copy.iloc[first_answer_index + iterator, 1])\n",
        "      iterator += 1\n",
        "    else:\n",
        "      break\n",
        "\n",
        "  question_description['VARIÁVEL'] = variables\n",
        "  question_description['DESCRIÇÃO'] = description\n",
        "\n",
        "  question_description.set_index('VARIÁVEL', inplace=True)\n",
        "\n",
        "  return question_description"
      ],
      "execution_count": null,
      "outputs": []
    },
    {
      "cell_type": "code",
      "metadata": {
        "id": "lrJ0pPCySorI"
      },
      "source": [
        "# Função para mostrar a descrição do código da pergunta\n",
        "def show_description_of_question(id):\n",
        "  print(f'ID da pergunta: {id}')\n",
        "  print(dict_student[id])\n",
        "  display(make_description_of_question(id))"
      ],
      "execution_count": null,
      "outputs": []
    },
    {
      "cell_type": "code",
      "metadata": {
        "id": "aW5h4oml5SP9"
      },
      "source": [
        "# Função para fazer uma tabela de frequências, já com o dicionário das variáveis\n",
        "def make_freq_table(id, df):\n",
        "  quest_dict = make_description_of_question(id)\n",
        "\n",
        "  freq_table = (df.copy()[id].value_counts()).to_frame(name='Frequência absoluta')\n",
        "  freq_table['Frequência relativa (%)'] = df.copy()[id].value_counts(normalize=True) * 100\n",
        "  freq_table['Frequência relativa (%)'] = round(freq_table['Frequência relativa (%)'], 2)\n",
        "  freq_table = freq_table.join(quest_dict).set_index('DESCRIÇÃO')\n",
        "  return freq_table"
      ],
      "execution_count": null,
      "outputs": []
    },
    {
      "cell_type": "code",
      "metadata": {
        "id": "mgM1XcwNRTSE"
      },
      "source": [
        "# Função para mostrar a tabela de frequências com a pergunta\n",
        "def show_freq_table(id, df):\n",
        "  print(dict_student[id], '\\n')\n",
        "  display(make_freq_table(id, df))"
      ],
      "execution_count": null,
      "outputs": []
    },
    {
      "cell_type": "code",
      "metadata": {
        "id": "Rp5HjfcQRpPb"
      },
      "source": [
        "# Função para traduzir as variáveis dentro da pergunta\n",
        "def translate_column_vars(id, df):\n",
        "  quest_dict = dict(make_description_of_question(id)['DESCRIÇÃO'])\n",
        "  df_copy = df.copy()\n",
        "  df_copy[id] = df_copy[id].map(quest_dict)\n",
        "  \n",
        "  return df_copy[id]"
      ],
      "execution_count": null,
      "outputs": []
    },
    {
      "cell_type": "code",
      "metadata": {
        "id": "1I9rM4h43HyX"
      },
      "source": [
        "# Função para fazer um pivot table entre 2 variáveis\n",
        "def make_pivot_table(id_1, id_2, df, margins=True, cmap='Blues'):\n",
        "  quest_name_1 = dict_student[id_1]\n",
        "  quest_name_2 = dict_student[id_2]\n",
        "\n",
        "  df_copy = df.copy()\n",
        "  df_copy[id_1] = translate_column_vars(id_1, df)\n",
        "  df_copy[id_2] = translate_column_vars(id_2, df)\n",
        "\n",
        "  if margins == True:\n",
        "    pivot_table = pd.crosstab(index=df_copy[id_1], columns=df_copy[id_2], \n",
        "                              rownames=[quest_name_1],\n",
        "                              colnames=[quest_name_2],\n",
        "                              margins=margins,\n",
        "                              margins_name='Total')\n",
        "  else:\n",
        "    pivot_table = pd.crosstab(index=df_copy[id_1], columns=df_copy[id_2], \n",
        "                              rownames=[quest_name_1],\n",
        "                              colnames=[quest_name_2])\n",
        "\n",
        "  return pivot_table"
      ],
      "execution_count": null,
      "outputs": []
    },
    {
      "cell_type": "code",
      "metadata": {
        "id": "O-Dr2PnIUxv-"
      },
      "source": [
        "# Função para mostrar o pivot table com a pergunta\n",
        "def show_pivot_table(id_1, id_2, df, margins=True, cmap='Blues'):\n",
        "  print(f'Tabela dinâmica entre \"{id_1}\" e \"{id_2}\"\\n')\n",
        "  display(make_pivot_table(id_1, id_2, df, margins, cmap))"
      ],
      "execution_count": null,
      "outputs": []
    },
    {
      "cell_type": "code",
      "metadata": {
        "id": "q5Er9RGkK_mA"
      },
      "source": [
        "# Função para fazer um pivot table percentual entre 2 variáveis\n",
        "def make_percentage_pivot_table(id_1, id_2, normalization, df):\n",
        "  quest_name_1 = dict_student[id_1]\n",
        "  quest_name_2 = dict_student[id_2]\n",
        "\n",
        "  df_copy = df.copy()\n",
        "  df_copy[id_1] = translate_column_vars(id_1, df)\n",
        "  df_copy[id_2] = translate_column_vars(id_2, df)\n",
        "\n",
        "  pivot_table = round((pd.crosstab(index=df_copy[id_1], columns=df_copy[id_2], \n",
        "                             normalize=normalization,\n",
        "                             rownames=[quest_name_1],\n",
        "                             colnames=[quest_name_2]) * 100), 2)\n",
        "\n",
        "  return pivot_table"
      ],
      "execution_count": null,
      "outputs": []
    },
    {
      "cell_type": "code",
      "metadata": {
        "id": "rMHUyIXg6V6A"
      },
      "source": [
        "# Função para \"meltar\" a tabela de contingência percentual\n",
        "def melt_pct_df(id_1, id_2, normalization, df):\n",
        "  wanted_df = make_percentage_pivot_table(id_1, id_2, normalization, \n",
        "                                          pense_student).reset_index()\n",
        "  wanted_df = pd.melt(wanted_df, id_vars=[dict_student[id_1]],\n",
        "                      value_vars=wanted_df.columns[1:],\n",
        "                      value_name='Frequência relativa (%)')\n",
        "  return wanted_df"
      ],
      "execution_count": null,
      "outputs": []
    },
    {
      "cell_type": "code",
      "metadata": {
        "id": "1j47Wc74XxUX"
      },
      "source": [
        "# Função para mostrar um pivot table percentual entre 2 variáveis\n",
        "def show_percentage_pivot_table(id_1, id_2, normalization, df, cmap='Blues'):\n",
        "  pivot_table = make_percentage_pivot_table(id_1, id_2, normalization, df)\n",
        "\n",
        "  if normalization == 'index':\n",
        "    print(f'Tabela dinâmica percentual por linha entre \"{id_1}\" e \"{id_2}\"\\n')\n",
        "    display(pivot_table.style.set_table_attributes(\"class='dataframe'\").background_gradient(cmap=cmap, \n",
        "                                                                                            axis=1).set_precision(2))\n",
        "  if normalization == 'columns':\n",
        "    print(f'Tabela dinâmica percentual por coluna entre \"{id_1}\" e \"{id_2}\"\\n')\n",
        "    display(pivot_table.style.set_table_attributes(\"class='dataframe'\").background_gradient(cmap=cmap, \n",
        "                                                                                            axis=0).set_precision(2))"
      ],
      "execution_count": null,
      "outputs": []
    },
    {
      "cell_type": "code",
      "metadata": {
        "id": "EKgG95SbRuru"
      },
      "source": [
        "# Função para fazer o teste qui-quadrado em uma única variável\n",
        "def do_chi2(array):\n",
        "  alpha = 0.05\n",
        "  dof = len(array) - 1\n",
        "  chisq, p_value = chisquare(array)\n",
        "\n",
        "  print('- Nível de significância:', alpha)\n",
        "  print('- P-valor:', p_value)\n",
        "  print('- Graus de liberdade:', dof)\n",
        "  print('- Valor qui-quadrado:', chisq)\n",
        "\n",
        "  critical_chi2 = chi2.ppf(q=1-alpha, df=dof)\n",
        "\n",
        "  if chisq < critical_chi2:\n",
        "    print('\\n- Resultado: aceitação da hipótese nula.')\n",
        "  else:\n",
        "    print('\\n- Resultado: rejeição da hipótese nula.')"
      ],
      "execution_count": null,
      "outputs": []
    },
    {
      "cell_type": "code",
      "metadata": {
        "id": "g9QfwyjRBPHz"
      },
      "source": [
        "# Função para fazer o teste qui-quadrado em 2 variáveis\n",
        "def do_chi2_contingency(df):\n",
        "  alpha = 0.05\n",
        "  chisq, p_value, dof, expected_values = chi2_contingency(df)\n",
        "\n",
        "  print('- Nível de significância:', alpha)\n",
        "  print('- P-valor:', p_value)\n",
        "  print('- Graus de liberdade:', dof)\n",
        "  print('- Valor qui-quadrado:', chisq)\n",
        "\n",
        "  critical_chi2 = chi2.ppf(q=1-alpha, df=dof)\n",
        "\n",
        "  if chisq < critical_chi2:\n",
        "    print('\\n- Resultado: aceitação da hipótese nula.')\n",
        "  else:\n",
        "    print('\\n- Resultado: rejeição da hipótese nula.')"
      ],
      "execution_count": null,
      "outputs": []
    },
    {
      "cell_type": "markdown",
      "metadata": {
        "id": "M8w6OVSuBfGz"
      },
      "source": [
        "### **Resumo**\n",
        "Assim como relatado acima, a imagem corporal é um tema que deve ter a sua devida atenção, principalmente com o avanço tecnológico nesses últimos anos, em que as redes sociais vêm, cada vez mais, fazendo parte das nossas vidas.\n",
        "\n",
        "Ter aquele \"corpo perfeito\" dos(as) nossos(as) amigos(as) ou influenciadores, publicados em suas redes sociais, podem acabar interferindo muito na visão do próprio corpo, prejudicando assim, a saúde física e mental. Além disso, podem existir outras pressões externas, como o bullying, que podem vir a atormentar ainda mais o psicológico sobre o assunto.\n",
        "\n",
        "Entender o que acontece na mente dos menores é muito importante, afinal, elas que tomarão conta do mundo no futuro, passando os conhecimentos para as próximas gerações.\n",
        "\n",
        "Sendo assim, neste projeto será realizado uma análise exploratória a respeito da imagem corporal dos jovens e um pouco sobre o bullying na adolescência.\n",
        "\n",
        "Para isso, vou estar utilizando uma base de dados do [IBGE](https://www.ibge.gov.br/pt/inicio.html), a 2ª amostra do [PeNSE 2015](https://www.ibge.gov.br/estatisticas/sociais/educacao/9134-pesquisa-nacional-de-saude-do-escolar.html?=&t=o-que-e). Mais informações da base abaixo."
      ]
    },
    {
      "cell_type": "markdown",
      "metadata": {
        "id": "WqlTPnCDVVzy"
      },
      "source": [
        "### **PeNSE 2015**"
      ]
    },
    {
      "cell_type": "markdown",
      "metadata": {
        "id": "BjpmST6gSRMp"
      },
      "source": [
        "#### **O que é**\n",
        "É um questionário no qual investiga informações que permitem conhecer e dimensionar os fatores de risco e proteção à saúde dos adolescentes. A pesquisa é realizada por amostragem, utilizando como referência para seleção o cadastro das escolas públicas e privadas do Instituto Nacional de Estudos e Pesquisas Educacionais Anísio Teixeira - INEP.  \n",
        "\n"
      ]
    },
    {
      "cell_type": "markdown",
      "metadata": {
        "id": "IokdULwWSqTO"
      },
      "source": [
        "#### **Histórico**\n",
        "A Pesquisa Nacional de Saúde do Escolar - PeNSE teve início em 2009, fruto de parceria com o Ministério da Saúde e apoio do Ministério da Educação. Na primeira edição, os escolares do 9º ano do ensino fundamental (antiga 8ª série) das escolas públicas e privadas dos Municípios das Capitais constituíram sua população-alvo. A escolha do 9º ano do ensino fundamental, cabe destacar, teve como justificativa o mínimo da escolarização necessária para responder questionário autoaplicável e também a proximidade da idade de referência preconizada pela Organização Mundial da Saúde - OMS (World Health Organization - WHO), que é de 13 a 15 anos. \n",
        "\n",
        "Em 2012, embora mantida sua população-alvo, a PeNSE passou a abarcar dados para o conjunto do País e as Grandes Regiões, e a investigar, também, algumas características do ambiente escolar e do entorno. \n",
        "\n",
        "Na edição de 2015, importantes inovações foram introduzidas na pesquisa, dentre as quais se destaca a disponibilização de informações oriundas de dois planos amostrais distintos: escolares frequentando o 9º ano do ensino fundamental e escolares de 13 a 17 anos de idade frequentando as etapas do 6º ao 9º ano do ensino fundamental (antigas 5ª a 8ª séries) e da 1ª a 3ª série do ensino médio. \n",
        "- A primeira amostra, tradicional da PeNSE, não só permite a comparação temporal entre os Municípios das Capitais nas três edições da pesquisa, como também possibilita a desagregação das informações por Unidades da Federação, oferecendo, assim, dados de saúde mais próximos da realidade local desses estudantes;\n",
        "- A segunda amostra, por sua vez, proporciona melhor identificação e acompanhamento de fatores relacionados ao desenvolvimento físico-biológico e ao tempo de exposição às condições de risco para o grupo etário considerado, e viabiliza maior comparabilidade com indicadores internacionais, em especial aqueles provenientes da OMS."
      ]
    },
    {
      "cell_type": "markdown",
      "metadata": {
        "id": "JT98w4HlSRPT"
      },
      "source": [
        "#### **Tópicos abordados**\n",
        "- A pesquisa fornece informações sobre as características básicas da população de estudo, incluindo aspectos socioeconômicos, como:\n",
        "  - Escolaridade dos pais;\n",
        "  - Inserção no mercado de trabalho e posse de bens e serviços;\n",
        "  - Contextos social e familiar;\n",
        "  - Fatores de risco comportamentais relacionados a hábitos alimentares, sedentarismo, tabagismo, consumo de álcool e outras drogas;\n",
        "  - Saúde sexual e reprodutiva; \n",
        "  - Exposição a acidentes e violências;\n",
        "  - Hábitos de higiene; \n",
        "  - Saúde bucal;\n",
        "  - Saúde mental;\n",
        "  - Percepção da imagem corporal, entre outros tópicos. \n",
        "- Características do ambiente escolar e do entorno são também contempladas, incluindo:\n",
        "  - Informações relacionadas à infraestrutura disponível para alimentação e atividade física; \n",
        "  - Acessibilidade; \n",
        "  - Saneamento básico; \n",
        "  - Existência de regras e normas de conduta adotadas pelas escolas; \n",
        "  - Políticas de assistência à saúde; \n",
        "  - Nível de segurança do entorno, entre outros aspectos."
      ]
    },
    {
      "cell_type": "markdown",
      "metadata": {
        "id": "c33MFa0qSRRW"
      },
      "source": [
        "#### **Mais algumas informações**\n",
        "- A periodicidade da pesquisa é eventual;\n",
        "- Sua abrangência geográfica é nacional: na edição de 2015, realizada com dois planos amostrais distintos, os resultados da amostra 1 estão disponíveis para Brasil, Grandes Regiões, Unidades da Federação e Municípios das Capitais; e para a amostra 2, Brasil e Grandes Regiões.\n",
        "- Aqui vai um vídeo curto explicativo, sobre a base de dados a ser estudada:"
      ]
    },
    {
      "cell_type": "code",
      "metadata": {
        "colab": {
          "base_uri": "https://localhost:8080/",
          "height": 501
        },
        "id": "IR4_YWgnYpaw",
        "outputId": "2ddaad96-0f4d-4275-8da3-5e30aa3207d3"
      },
      "source": [
        "# Exibindo um vídeo explicativo sobre o PeNSE 2015\n",
        "HTML('<center><iframe width=\"853\" height=\"480\" src=\"https://www.youtube.com/embed/z4BBCHZUvD4\" frameborder=\"0\" allow=\"accelerometer; autoplay; clipboard-write; encrypted-media; gyroscope; picture-in-picture\"></iframe></center>')"
      ],
      "execution_count": null,
      "outputs": [
        {
          "output_type": "execute_result",
          "data": {
            "text/html": [
              "<center><iframe width=\"853\" height=\"480\" src=\"https://www.youtube.com/embed/z4BBCHZUvD4\" frameborder=\"0\" allow=\"accelerometer; autoplay; clipboard-write; encrypted-media; gyroscope; picture-in-picture\"></iframe></center>"
            ],
            "text/plain": [
              "<IPython.core.display.HTML object>"
            ]
          },
          "metadata": {
            "tags": []
          },
          "execution_count": 14
        }
      ]
    },
    {
      "cell_type": "markdown",
      "metadata": {
        "id": "Errl5HKMXSm3"
      },
      "source": [
        "#### **Descrição dos dados**"
      ]
    },
    {
      "cell_type": "code",
      "metadata": {
        "colab": {
          "base_uri": "https://localhost:8080/",
          "height": 253
        },
        "id": "oNcbRHqmkbS_",
        "outputId": "124ca955-33c2-4acf-8a9d-05843d5b7867"
      },
      "source": [
        "# Importando os dados dos alunos para um DataFrame e visualizando uma prévia dos dados\n",
        "student_path = '/content/drive/MyDrive/Alura Bootcamp DS/Módulo 3/PeNSE_2015_AMOSTRA2/arquivos csv/PENSE_AMOSTRA2_ALUNO.CSV'\n",
        "\n",
        "pense_student = pd.read_csv(student_path, sep=';', thousands='.', decimal=',')\n",
        "pense_student.head()"
      ],
      "execution_count": null,
      "outputs": [
        {
          "output_type": "execute_result",
          "data": {
            "text/html": [
              "<div>\n",
              "<style scoped>\n",
              "    .dataframe tbody tr th:only-of-type {\n",
              "        vertical-align: middle;\n",
              "    }\n",
              "\n",
              "    .dataframe tbody tr th {\n",
              "        vertical-align: top;\n",
              "    }\n",
              "\n",
              "    .dataframe thead th {\n",
              "        text-align: right;\n",
              "    }\n",
              "</style>\n",
              "<table border=\"1\" class=\"dataframe\">\n",
              "  <thead>\n",
              "    <tr style=\"text-align: right;\">\n",
              "      <th></th>\n",
              "      <th>ANOPESQ</th>\n",
              "      <th>PAIS</th>\n",
              "      <th>REGEOGR</th>\n",
              "      <th>VB00004</th>\n",
              "      <th>VB01001</th>\n",
              "      <th>VB01002</th>\n",
              "      <th>VB01003</th>\n",
              "      <th>VB01004</th>\n",
              "      <th>VB01005</th>\n",
              "      <th>VB01006</th>\n",
              "      <th>VB01007</th>\n",
              "      <th>VB01008A</th>\n",
              "      <th>VB01010A</th>\n",
              "      <th>VB01011</th>\n",
              "      <th>VB01012</th>\n",
              "      <th>VB01013</th>\n",
              "      <th>VB01014</th>\n",
              "      <th>VB01015A</th>\n",
              "      <th>VB01016</th>\n",
              "      <th>VB01017</th>\n",
              "      <th>VB01018</th>\n",
              "      <th>VB01019</th>\n",
              "      <th>VB01020A</th>\n",
              "      <th>VB01021</th>\n",
              "      <th>VB01022</th>\n",
              "      <th>VB01023</th>\n",
              "      <th>VB01024</th>\n",
              "      <th>VB01025</th>\n",
              "      <th>VB01026</th>\n",
              "      <th>VB02001</th>\n",
              "      <th>VB02002</th>\n",
              "      <th>VB02004A</th>\n",
              "      <th>VB02010</th>\n",
              "      <th>VB02011</th>\n",
              "      <th>VB02013</th>\n",
              "      <th>VB02017A</th>\n",
              "      <th>VB02018A</th>\n",
              "      <th>VB02019A</th>\n",
              "      <th>VB02020A</th>\n",
              "      <th>VB02021</th>\n",
              "      <th>...</th>\n",
              "      <th>VB11005</th>\n",
              "      <th>VB11006</th>\n",
              "      <th>VB11007</th>\n",
              "      <th>VB12001</th>\n",
              "      <th>VB12002</th>\n",
              "      <th>VB12003</th>\n",
              "      <th>VB13001</th>\n",
              "      <th>VB13002A</th>\n",
              "      <th>VB13004A</th>\n",
              "      <th>VB13005</th>\n",
              "      <th>VB13006</th>\n",
              "      <th>VB13007</th>\n",
              "      <th>VB13008</th>\n",
              "      <th>VB13009</th>\n",
              "      <th>VB14001</th>\n",
              "      <th>VB14002</th>\n",
              "      <th>VB16001A01</th>\n",
              "      <th>VB16001A02</th>\n",
              "      <th>VB16001A03</th>\n",
              "      <th>VB16001A04</th>\n",
              "      <th>VB16001A05</th>\n",
              "      <th>VB16001A06</th>\n",
              "      <th>VB16001A07</th>\n",
              "      <th>VB16001A08</th>\n",
              "      <th>VB17001</th>\n",
              "      <th>VB17002</th>\n",
              "      <th>VB17003</th>\n",
              "      <th>VB17004</th>\n",
              "      <th>VB17005</th>\n",
              "      <th>VB17006</th>\n",
              "      <th>ESTRATO_EXP</th>\n",
              "      <th>ESTRATOGEOREG</th>\n",
              "      <th>PESO</th>\n",
              "      <th>V0006</th>\n",
              "      <th>V0007</th>\n",
              "      <th>V0008</th>\n",
              "      <th>V0041</th>\n",
              "      <th>aluno</th>\n",
              "      <th>escola</th>\n",
              "      <th>turma</th>\n",
              "    </tr>\n",
              "  </thead>\n",
              "  <tbody>\n",
              "    <tr>\n",
              "      <th>0</th>\n",
              "      <td>2015</td>\n",
              "      <td>76</td>\n",
              "      <td>1</td>\n",
              "      <td>1</td>\n",
              "      <td>2</td>\n",
              "      <td>1</td>\n",
              "      <td>13</td>\n",
              "      <td>7</td>\n",
              "      <td>7</td>\n",
              "      <td>1</td>\n",
              "      <td>2</td>\n",
              "      <td>7</td>\n",
              "      <td>3</td>\n",
              "      <td>2</td>\n",
              "      <td>-1</td>\n",
              "      <td>1</td>\n",
              "      <td>1</td>\n",
              "      <td>1</td>\n",
              "      <td>1</td>\n",
              "      <td>1</td>\n",
              "      <td>2</td>\n",
              "      <td>4</td>\n",
              "      <td>2</td>\n",
              "      <td>4</td>\n",
              "      <td>1</td>\n",
              "      <td>2</td>\n",
              "      <td>2</td>\n",
              "      <td>5</td>\n",
              "      <td>1</td>\n",
              "      <td>8</td>\n",
              "      <td>3</td>\n",
              "      <td>4</td>\n",
              "      <td>3</td>\n",
              "      <td>6</td>\n",
              "      <td>6</td>\n",
              "      <td>1</td>\n",
              "      <td>6</td>\n",
              "      <td>1</td>\n",
              "      <td>-1</td>\n",
              "      <td>2</td>\n",
              "      <td>...</td>\n",
              "      <td>2</td>\n",
              "      <td>1</td>\n",
              "      <td>2</td>\n",
              "      <td>1</td>\n",
              "      <td>1</td>\n",
              "      <td>4</td>\n",
              "      <td>2</td>\n",
              "      <td>-1</td>\n",
              "      <td>3</td>\n",
              "      <td>1</td>\n",
              "      <td>1</td>\n",
              "      <td>-1</td>\n",
              "      <td>1</td>\n",
              "      <td>1</td>\n",
              "      <td>2</td>\n",
              "      <td>2</td>\n",
              "      <td>1</td>\n",
              "      <td>2</td>\n",
              "      <td>2</td>\n",
              "      <td>2</td>\n",
              "      <td>2</td>\n",
              "      <td>2</td>\n",
              "      <td>2</td>\n",
              "      <td>2</td>\n",
              "      <td>371.0</td>\n",
              "      <td>1570.0</td>\n",
              "      <td>37.1</td>\n",
              "      <td>157.0</td>\n",
              "      <td>2</td>\n",
              "      <td>1</td>\n",
              "      <td>1223</td>\n",
              "      <td>1</td>\n",
              "      <td>299.735235</td>\n",
              "      <td>1</td>\n",
              "      <td>2</td>\n",
              "      <td>4</td>\n",
              "      <td>1</td>\n",
              "      <td>1</td>\n",
              "      <td>1</td>\n",
              "      <td>296</td>\n",
              "    </tr>\n",
              "    <tr>\n",
              "      <th>1</th>\n",
              "      <td>2015</td>\n",
              "      <td>76</td>\n",
              "      <td>1</td>\n",
              "      <td>1</td>\n",
              "      <td>2</td>\n",
              "      <td>1</td>\n",
              "      <td>14</td>\n",
              "      <td>4</td>\n",
              "      <td>7</td>\n",
              "      <td>1</td>\n",
              "      <td>1</td>\n",
              "      <td>7</td>\n",
              "      <td>3</td>\n",
              "      <td>2</td>\n",
              "      <td>-1</td>\n",
              "      <td>1</td>\n",
              "      <td>1</td>\n",
              "      <td>1</td>\n",
              "      <td>1</td>\n",
              "      <td>1</td>\n",
              "      <td>2</td>\n",
              "      <td>2</td>\n",
              "      <td>2</td>\n",
              "      <td>4</td>\n",
              "      <td>1</td>\n",
              "      <td>2</td>\n",
              "      <td>2</td>\n",
              "      <td>5</td>\n",
              "      <td>3</td>\n",
              "      <td>8</td>\n",
              "      <td>2</td>\n",
              "      <td>1</td>\n",
              "      <td>8</td>\n",
              "      <td>8</td>\n",
              "      <td>6</td>\n",
              "      <td>1</td>\n",
              "      <td>1</td>\n",
              "      <td>5</td>\n",
              "      <td>-1</td>\n",
              "      <td>2</td>\n",
              "      <td>...</td>\n",
              "      <td>2</td>\n",
              "      <td>3</td>\n",
              "      <td>2</td>\n",
              "      <td>4</td>\n",
              "      <td>4</td>\n",
              "      <td>4</td>\n",
              "      <td>1</td>\n",
              "      <td>2</td>\n",
              "      <td>3</td>\n",
              "      <td>3</td>\n",
              "      <td>1</td>\n",
              "      <td>-1</td>\n",
              "      <td>1</td>\n",
              "      <td>1</td>\n",
              "      <td>2</td>\n",
              "      <td>2</td>\n",
              "      <td>2</td>\n",
              "      <td>2</td>\n",
              "      <td>2</td>\n",
              "      <td>1</td>\n",
              "      <td>2</td>\n",
              "      <td>2</td>\n",
              "      <td>2</td>\n",
              "      <td>2</td>\n",
              "      <td>502.0</td>\n",
              "      <td>1520.0</td>\n",
              "      <td>50.2</td>\n",
              "      <td>152.0</td>\n",
              "      <td>2</td>\n",
              "      <td>2</td>\n",
              "      <td>1223</td>\n",
              "      <td>1</td>\n",
              "      <td>355.170081</td>\n",
              "      <td>1</td>\n",
              "      <td>2</td>\n",
              "      <td>4</td>\n",
              "      <td>1</td>\n",
              "      <td>2</td>\n",
              "      <td>1</td>\n",
              "      <td>296</td>\n",
              "    </tr>\n",
              "    <tr>\n",
              "      <th>2</th>\n",
              "      <td>2015</td>\n",
              "      <td>76</td>\n",
              "      <td>1</td>\n",
              "      <td>1</td>\n",
              "      <td>1</td>\n",
              "      <td>4</td>\n",
              "      <td>13</td>\n",
              "      <td>6</td>\n",
              "      <td>7</td>\n",
              "      <td>1</td>\n",
              "      <td>1</td>\n",
              "      <td>5</td>\n",
              "      <td>5</td>\n",
              "      <td>2</td>\n",
              "      <td>-1</td>\n",
              "      <td>2</td>\n",
              "      <td>1</td>\n",
              "      <td>1</td>\n",
              "      <td>1</td>\n",
              "      <td>1</td>\n",
              "      <td>2</td>\n",
              "      <td>3</td>\n",
              "      <td>1</td>\n",
              "      <td>4</td>\n",
              "      <td>1</td>\n",
              "      <td>2</td>\n",
              "      <td>2</td>\n",
              "      <td>5</td>\n",
              "      <td>3</td>\n",
              "      <td>2</td>\n",
              "      <td>3</td>\n",
              "      <td>1</td>\n",
              "      <td>8</td>\n",
              "      <td>2</td>\n",
              "      <td>8</td>\n",
              "      <td>1</td>\n",
              "      <td>1</td>\n",
              "      <td>5</td>\n",
              "      <td>5</td>\n",
              "      <td>1</td>\n",
              "      <td>...</td>\n",
              "      <td>2</td>\n",
              "      <td>1</td>\n",
              "      <td>2</td>\n",
              "      <td>1</td>\n",
              "      <td>2</td>\n",
              "      <td>3</td>\n",
              "      <td>1</td>\n",
              "      <td>2</td>\n",
              "      <td>1</td>\n",
              "      <td>2</td>\n",
              "      <td>5</td>\n",
              "      <td>99</td>\n",
              "      <td>1</td>\n",
              "      <td>-1</td>\n",
              "      <td>2</td>\n",
              "      <td>2</td>\n",
              "      <td>1</td>\n",
              "      <td>1</td>\n",
              "      <td>1</td>\n",
              "      <td>1</td>\n",
              "      <td>1</td>\n",
              "      <td>1</td>\n",
              "      <td>1</td>\n",
              "      <td>1</td>\n",
              "      <td>482.0</td>\n",
              "      <td>1614.0</td>\n",
              "      <td>48.2</td>\n",
              "      <td>161.4</td>\n",
              "      <td>2</td>\n",
              "      <td>2</td>\n",
              "      <td>1223</td>\n",
              "      <td>1</td>\n",
              "      <td>299.735235</td>\n",
              "      <td>1</td>\n",
              "      <td>2</td>\n",
              "      <td>4</td>\n",
              "      <td>1</td>\n",
              "      <td>3</td>\n",
              "      <td>1</td>\n",
              "      <td>296</td>\n",
              "    </tr>\n",
              "    <tr>\n",
              "      <th>3</th>\n",
              "      <td>2015</td>\n",
              "      <td>76</td>\n",
              "      <td>1</td>\n",
              "      <td>1</td>\n",
              "      <td>1</td>\n",
              "      <td>1</td>\n",
              "      <td>14</td>\n",
              "      <td>6</td>\n",
              "      <td>7</td>\n",
              "      <td>1</td>\n",
              "      <td>1</td>\n",
              "      <td>7</td>\n",
              "      <td>4</td>\n",
              "      <td>2</td>\n",
              "      <td>-1</td>\n",
              "      <td>1</td>\n",
              "      <td>1</td>\n",
              "      <td>1</td>\n",
              "      <td>1</td>\n",
              "      <td>1</td>\n",
              "      <td>2</td>\n",
              "      <td>4</td>\n",
              "      <td>2</td>\n",
              "      <td>4</td>\n",
              "      <td>1</td>\n",
              "      <td>2</td>\n",
              "      <td>2</td>\n",
              "      <td>6</td>\n",
              "      <td>3</td>\n",
              "      <td>2</td>\n",
              "      <td>4</td>\n",
              "      <td>1</td>\n",
              "      <td>3</td>\n",
              "      <td>2</td>\n",
              "      <td>7</td>\n",
              "      <td>1</td>\n",
              "      <td>5</td>\n",
              "      <td>1</td>\n",
              "      <td>-1</td>\n",
              "      <td>2</td>\n",
              "      <td>...</td>\n",
              "      <td>2</td>\n",
              "      <td>1</td>\n",
              "      <td>2</td>\n",
              "      <td>2</td>\n",
              "      <td>2</td>\n",
              "      <td>4</td>\n",
              "      <td>1</td>\n",
              "      <td>10</td>\n",
              "      <td>3</td>\n",
              "      <td>1</td>\n",
              "      <td>2</td>\n",
              "      <td>-1</td>\n",
              "      <td>1</td>\n",
              "      <td>-1</td>\n",
              "      <td>2</td>\n",
              "      <td>2</td>\n",
              "      <td>1</td>\n",
              "      <td>2</td>\n",
              "      <td>2</td>\n",
              "      <td>2</td>\n",
              "      <td>1</td>\n",
              "      <td>2</td>\n",
              "      <td>2</td>\n",
              "      <td>2</td>\n",
              "      <td>694.0</td>\n",
              "      <td>1725.0</td>\n",
              "      <td>69.4</td>\n",
              "      <td>172.5</td>\n",
              "      <td>2</td>\n",
              "      <td>3</td>\n",
              "      <td>1223</td>\n",
              "      <td>1</td>\n",
              "      <td>355.170081</td>\n",
              "      <td>1</td>\n",
              "      <td>2</td>\n",
              "      <td>4</td>\n",
              "      <td>1</td>\n",
              "      <td>4</td>\n",
              "      <td>1</td>\n",
              "      <td>296</td>\n",
              "    </tr>\n",
              "    <tr>\n",
              "      <th>4</th>\n",
              "      <td>2015</td>\n",
              "      <td>76</td>\n",
              "      <td>1</td>\n",
              "      <td>1</td>\n",
              "      <td>1</td>\n",
              "      <td>1</td>\n",
              "      <td>13</td>\n",
              "      <td>9</td>\n",
              "      <td>7</td>\n",
              "      <td>1</td>\n",
              "      <td>2</td>\n",
              "      <td>5</td>\n",
              "      <td>4</td>\n",
              "      <td>2</td>\n",
              "      <td>-1</td>\n",
              "      <td>2</td>\n",
              "      <td>1</td>\n",
              "      <td>1</td>\n",
              "      <td>1</td>\n",
              "      <td>1</td>\n",
              "      <td>2</td>\n",
              "      <td>5</td>\n",
              "      <td>1</td>\n",
              "      <td>4</td>\n",
              "      <td>1</td>\n",
              "      <td>2</td>\n",
              "      <td>2</td>\n",
              "      <td>6</td>\n",
              "      <td>5</td>\n",
              "      <td>6</td>\n",
              "      <td>3</td>\n",
              "      <td>5</td>\n",
              "      <td>2</td>\n",
              "      <td>6</td>\n",
              "      <td>2</td>\n",
              "      <td>1</td>\n",
              "      <td>5</td>\n",
              "      <td>1</td>\n",
              "      <td>5</td>\n",
              "      <td>1</td>\n",
              "      <td>...</td>\n",
              "      <td>2</td>\n",
              "      <td>1</td>\n",
              "      <td>4</td>\n",
              "      <td>2</td>\n",
              "      <td>2</td>\n",
              "      <td>4</td>\n",
              "      <td>1</td>\n",
              "      <td>3</td>\n",
              "      <td>2</td>\n",
              "      <td>2</td>\n",
              "      <td>2</td>\n",
              "      <td>13</td>\n",
              "      <td>1</td>\n",
              "      <td>-1</td>\n",
              "      <td>1</td>\n",
              "      <td>2</td>\n",
              "      <td>1</td>\n",
              "      <td>1</td>\n",
              "      <td>1</td>\n",
              "      <td>1</td>\n",
              "      <td>1</td>\n",
              "      <td>1</td>\n",
              "      <td>1</td>\n",
              "      <td>1</td>\n",
              "      <td>789.0</td>\n",
              "      <td>1675.0</td>\n",
              "      <td>78.9</td>\n",
              "      <td>167.5</td>\n",
              "      <td>2</td>\n",
              "      <td>4</td>\n",
              "      <td>1223</td>\n",
              "      <td>1</td>\n",
              "      <td>299.735235</td>\n",
              "      <td>1</td>\n",
              "      <td>2</td>\n",
              "      <td>4</td>\n",
              "      <td>1</td>\n",
              "      <td>5</td>\n",
              "      <td>1</td>\n",
              "      <td>296</td>\n",
              "    </tr>\n",
              "  </tbody>\n",
              "</table>\n",
              "<p>5 rows × 181 columns</p>\n",
              "</div>"
            ],
            "text/plain": [
              "   ANOPESQ  PAIS  REGEOGR  VB00004  VB01001  ...  V0008  V0041  aluno  escola  turma\n",
              "0     2015    76        1        1        2  ...      4      1      1       1    296\n",
              "1     2015    76        1        1        2  ...      4      1      2       1    296\n",
              "2     2015    76        1        1        1  ...      4      1      3       1    296\n",
              "3     2015    76        1        1        1  ...      4      1      4       1    296\n",
              "4     2015    76        1        1        1  ...      4      1      5       1    296\n",
              "\n",
              "[5 rows x 181 columns]"
            ]
          },
          "metadata": {
            "tags": []
          },
          "execution_count": 15
        }
      ]
    },
    {
      "cell_type": "code",
      "metadata": {
        "colab": {
          "base_uri": "https://localhost:8080/"
        },
        "id": "pUa7uk_HZsEj",
        "outputId": "ef2fe6c7-9eca-4853-d101-6cfe066fa3ba"
      },
      "source": [
        "# Vendo a dimensão do DataFrame\n",
        "print(f'Quantidade de pessoas que responderam: {pense_student.shape[0]}')\n",
        "print(f'Quantidade de questões: {pense_student.shape[1]}')"
      ],
      "execution_count": null,
      "outputs": [
        {
          "output_type": "stream",
          "text": [
            "Quantidade de pessoas que responderam: 16556\n",
            "Quantidade de questões: 181\n"
          ],
          "name": "stdout"
        }
      ]
    },
    {
      "cell_type": "markdown",
      "metadata": {
        "id": "xslYhCyfcKeK"
      },
      "source": [
        "Acima temos a base de dados principal que vamos estar utilizando (somente as informações dos alunos) e a seguir, temos o dicionário de suas variáveis (colunas)."
      ]
    },
    {
      "cell_type": "code",
      "metadata": {
        "colab": {
          "base_uri": "https://localhost:8080/",
          "height": 204
        },
        "id": "HVa9WFPQ4bQK",
        "outputId": "6e220601-3c68-435a-a4ca-0cf8e07fc8a1"
      },
      "source": [
        "# Importando os dados do dicionário dos alunos para um DataFrame\n",
        "dict_path_in_drive = '/content/drive/MyDrive/Alura Bootcamp DS/Módulo 3/PeNSE_2015_AMOSTRA2/Dicionario_PENSE_Microdados_AMOSTRA2.xls'\n",
        "\n",
        "dictionary_df = pd.read_excel(dict_path_in_drive, sheet_name='AMOSTRA2_ALUNO')\n",
        "dictionary_df.head()"
      ],
      "execution_count": null,
      "outputs": [
        {
          "output_type": "execute_result",
          "data": {
            "text/html": [
              "<div>\n",
              "<style scoped>\n",
              "    .dataframe tbody tr th:only-of-type {\n",
              "        vertical-align: middle;\n",
              "    }\n",
              "\n",
              "    .dataframe tbody tr th {\n",
              "        vertical-align: top;\n",
              "    }\n",
              "\n",
              "    .dataframe thead th {\n",
              "        text-align: right;\n",
              "    }\n",
              "</style>\n",
              "<table border=\"1\" class=\"dataframe\">\n",
              "  <thead>\n",
              "    <tr style=\"text-align: right;\">\n",
              "      <th></th>\n",
              "      <th>VARIÁVEL</th>\n",
              "      <th>QUESTIONÁRIO DO ALUNO</th>\n",
              "    </tr>\n",
              "  </thead>\n",
              "  <tbody>\n",
              "    <tr>\n",
              "      <th>0</th>\n",
              "      <td>ANOPESQ</td>\n",
              "      <td>Ano em que a pesquisa foi realizada</td>\n",
              "    </tr>\n",
              "    <tr>\n",
              "      <th>1</th>\n",
              "      <td>PAIS</td>\n",
              "      <td>País</td>\n",
              "    </tr>\n",
              "    <tr>\n",
              "      <th>2</th>\n",
              "      <td>76</td>\n",
              "      <td>Brasil</td>\n",
              "    </tr>\n",
              "    <tr>\n",
              "      <th>3</th>\n",
              "      <td>REGEOGR</td>\n",
              "      <td>Região geográfica</td>\n",
              "    </tr>\n",
              "    <tr>\n",
              "      <th>4</th>\n",
              "      <td>1</td>\n",
              "      <td>Norte</td>\n",
              "    </tr>\n",
              "  </tbody>\n",
              "</table>\n",
              "</div>"
            ],
            "text/plain": [
              "  VARIÁVEL                QUESTIONÁRIO DO ALUNO\n",
              "0  ANOPESQ  Ano em que a pesquisa foi realizada\n",
              "1     PAIS                                 País\n",
              "2       76                               Brasil\n",
              "3  REGEOGR                    Região geográfica\n",
              "4        1                                Norte"
            ]
          },
          "metadata": {
            "tags": []
          },
          "execution_count": 17
        }
      ]
    },
    {
      "cell_type": "code",
      "metadata": {
        "id": "HZVyoyt8eTZi"
      },
      "source": [
        "# Criando um resumo do dicionário do Pense somente com as perguntas,\n",
        "# em formato de dicionário (python)\n",
        "dict_student = {}\n",
        "for i in range(len(dictionary_df)):\n",
        "  try:\n",
        "    int(dictionary_df.iloc[i, 0])\n",
        "  except ValueError:\n",
        "    dict_student[dictionary_df.iloc[i, 0]] = dictionary_df.iloc[i, 1]"
      ],
      "execution_count": null,
      "outputs": []
    },
    {
      "cell_type": "code",
      "metadata": {
        "colab": {
          "base_uri": "https://localhost:8080/"
        },
        "id": "eb9Qtgyg4eTn",
        "outputId": "b9829bff-c08d-4591-cda5-5a52edc8b8dd"
      },
      "source": [
        "# Fazendo algumas alterações e exibindo o dicionário\n",
        "dict_student.pop('0 a 2999')\n",
        "print(\"Nome da variável no DataFrame': 'Descrição da pergunta'\\n\")\n",
        "dict_student"
      ],
      "execution_count": null,
      "outputs": [
        {
          "output_type": "stream",
          "text": [
            "Nome da variável no DataFrame': 'Descrição da pergunta'\n",
            "\n"
          ],
          "name": "stdout"
        },
        {
          "output_type": "execute_result",
          "data": {
            "text/plain": [
              "{'ANOPESQ': 'Ano em que a pesquisa foi realizada',\n",
              " 'ESTRATOGEOREG': 'Indicador de estrato georeg',\n",
              " 'ESTRATO_EXP': 'Expressão do estrato',\n",
              " 'PAIS': 'País',\n",
              " 'PESO': 'Peso do aluno de acordo com a amostra, utilizado para expansão',\n",
              " 'REGEOGR': 'Região geográfica',\n",
              " 'TEMPODESLOC': 'Refere-se ao tempo médio diário acumulado pelo escolar, com o deslocamento da casa para escola e da escola para casa feito a pé ou de bicicleta, nos últimos sete dias anteriores à pesquisa. Em minutos.',\n",
              " 'TEMPOEDFIS': 'Refere-se ao tempo médio acumulado, nos últimos sete dias anteriores à pesquisa, que o escolar fez atividade física ou esporte durante as aulas de educação física na escola. Em minutos.',\n",
              " 'TEMPOEST': 'A atividade física globalmente estimada refere-se ao número de dias que os escolares declararam fazer, pelo menos, uma hora por dia de atividade física, nos sete dias anteriores à pesquisa. Em minutos.',\n",
              " 'TEMPOEXTRA': 'Refere-se ao tempo médio diário acumulado pelo escolar com a prática de alguma atividade física extraescolar como esportes, dança, ginástica, musculação, lutas ou outra atividade, nos últimos sete dias anteriores à data da pesquisa. Em minutos',\n",
              " 'TEMPOTOTAL': 'A atividade física acumulada foi estimada calculando o produto entre o número de dias e o tempo médio que os escolares gastam em atividades físicas, nos sete dias anteriores à pesquisa, considerando os seguintes domínios: ir e voltar da escola, aulas de educação física e outras atividades extraescolares. Em minutos.',\n",
              " 'V0006': 'Situação da escola',\n",
              " 'V0007': 'Dependência Administrativa da escola',\n",
              " 'V0008': 'Esfera Administrativa da escola',\n",
              " 'V0041': 'Tipo de escola privada',\n",
              " 'VB00004': 'Prezado(a) estudante, você concorda em participar dessa pesquisa?',\n",
              " 'VB01001': 'Qual é o seu sexo?',\n",
              " 'VB01002': 'Qual é a sua cor ou raça?',\n",
              " 'VB01003': 'Qual é a sua idade?',\n",
              " 'VB01004': 'Qual é o mês do seu aniversário?',\n",
              " 'VB01005': 'Em que ano você nasceu?',\n",
              " 'VB01006': 'Você mora com sua mãe?',\n",
              " 'VB01007': 'Você mora com seu pai?',\n",
              " 'VB01008A': 'Qual nível de ensino (grau) sua mãe estudou ou estuda?',\n",
              " 'VB01010A': 'Contando com você, quantas pessoas moram na sua casa ou apartamento?',\n",
              " 'VB01011': 'Você tem algum trabalho, emprego ou negócio atualmente?',\n",
              " 'VB01012': 'Você recebe dinheiro por este trabalho, emprego ou negócio?',\n",
              " 'VB01013': 'Na sua casa tem telefone fixo (convencional)?',\n",
              " 'VB01014': 'Você tem celular?',\n",
              " 'VB01015A': 'Na sua casa tem computador (de mesa, ou netbook, laptop, etc)?',\n",
              " 'VB01016': 'Você tem acesso à internet em sua casa?',\n",
              " 'VB01017': 'Alguém que mora na sua casa tem carro?',\n",
              " 'VB01018': 'Alguém que mora na sua casa tem moto?',\n",
              " 'VB01019': 'Quantos banheiros com chuveiro têm dentro da sua casa?',\n",
              " 'VB01020A': 'Tem empregado(a) doméstico(a) recebendo dinheiro para fazer o trabalho em sua casa, três ou mais dias por semana?',\n",
              " 'VB01021': 'Em que ano/série você está?',\n",
              " 'VB01022': 'Em que turno você estuda?',\n",
              " 'VB01023': 'Você estuda em regime integral (tem atividades escolares por 7 horas ou mais horas diárias, durante todo o período escolar)?',\n",
              " 'VB01024': 'Você estuda em regime de internato (a escola possui alojamento onde os alunos permanecem e dormem diariamente, durante todo o período escolar)?',\n",
              " 'VB01025': 'Qual o grau de escolaridade mais elevado que você pretendo concluir?',\n",
              " 'VB01026': 'Quando terminar o ciclo/curso que você está frequentando atualmente, você pretende?',\n",
              " 'VB02001': 'NOS ÚLTIMOS 7 DIAS, em quantos dias você comeu feijão?',\n",
              " 'VB02002': 'NOS ÚLTIMOS 7 DIAS, em quantos dias você comeu salgados fritos? Exemplo: batata frita (sem contar a batata de pacote) ou salgados fritos como coxinha de galinha, quibe frito, pastel frito, acarajé etc.',\n",
              " 'VB02004A': 'NOS ÚLTIMOS 7 DIAS, em quantos dias você comeu pelo menos um tipo de legume ou verdura? Exemplos: alface, abóbora, brócolis, cebola, cenoura, chuchu, couve, espinafre, pepino, tomate etc. Não inclua batata e aipim (mandioca/macaxeira).',\n",
              " 'VB02010': 'NOS ÚLTIMOS 7 DIAS, em quantos dias você comeu guloseimas (doces, balas, chocolates, chicletes, bombons ou pirulitos)?',\n",
              " 'VB02011': 'NOS ÚLTIMOS 7 DIAS, em quantos dias você comeu frutas frescas ou salada de frutas? ',\n",
              " 'VB02013': 'NOS ÚLTIMOS 7 DIAS, em quantos dias você tomou refrigerante?',\n",
              " 'VB02017A': 'Você costuma almoçar ou jantar com sua mãe, pai ou responsável? ',\n",
              " 'VB02018A': 'Você costuma comer quando está assistindo à TV ou estudando?',\n",
              " 'VB02019A': 'Você costuma tomar o café da manhã?',\n",
              " 'VB02020A': 'Você costuma comer a comida (merenda/almoço) oferecida pela escola? (Não considerar lanches/comida comprados na cantina).',\n",
              " 'VB02021': 'Sua escola oferece comida (merenda escolar/almoço) aos alunos da sua turma? (Não considerar lanches/comida comprados na cantina)',\n",
              " 'VB02022': 'NOS ÚLTIMOS 7 DIAS, em quantos dias você comeu alimentos industrializados/ultraprocessados salgados, como hambúrguer, presunto, mortadela, salame, linguiça, salsicha, macarrão instantâneo, salgadinho de pacote, biscoitos salgados?',\n",
              " 'VB02023': 'NOS ÚLTIMOS 7 DIAS, em quantos dias você comeu em restaurantes fast food, tais como lanchonetes, barracas de cachorro quentes, pizzaria etc?',\n",
              " 'VB02024': 'NOS ÚLTIMOS 30 DIAS, com que frequência você ficou com fome por não ter comida suficiente em sua casa?',\n",
              " 'VB02025': 'NOS ÚLTIMOS 30 DIAS, quantas vezes por dia você normalmente comeu frutas frescas ou salada de frutas?',\n",
              " 'VB02026': 'NOS ÚLTIMOS 30 DIAS, quantas vezes por dia você normalmente comeu legumes ou verduras, tais como alface, abóbora, brócolis, cebola, cenoura, chuchu, couve, espinafre, pepino, tomate etc? Não inclua batata e aipim (mandioca/macaxeira)',\n",
              " 'VB02027': 'NOS ÚLTIMOS 30 DIAS, quantas vezes por dia você tomou refrigerante?',\n",
              " 'VB03001A1': 'NOS ÚLTIMOS 7 DIAS, em quantos dias você FOI a pé ou de bicicleta para a escola?',\n",
              " 'VB03001A2': 'NOS ÚLTIMOS 7 DIAS, em quantos dias você VOLTOU a pé ou de bicicleta da escola?',\n",
              " 'VB03002A1': 'Quando você VAI para a escola a pé ou de bicicleta, quanto tempo você gasta?',\n",
              " 'VB03002A2': 'Quando você VOLTA da escola a pé ou de bicicleta, quanto tempo você gasta?',\n",
              " 'VB03003A': 'NOS ÚLTIMOS 7 DIAS, quantos dias você teve aulas de educação física na escola?',\n",
              " 'VB03005A': 'NOS ÚLTIMOS 7 DIAS, quanto tempo por dia você fez atividade física ou esporte durante as aulas de educação física na escola?',\n",
              " 'VB03006A': 'NOS ÚLTIMOS 7 DIAS, sem contar as aulas de educação física da escola, em quantos dias você praticou alguma atividade física, como esportes, dança, ginástica, musculação, lutas ou outra atividade?',\n",
              " 'VB03007': 'NORMALMENTE, quanto tempo por dia duram essas atividades (como esportes, dança, ginástica, musculação, lutas ou outra atividade) que você faz? (Sem contar as aulas de educação física)',\n",
              " 'VB03008': 'Se você tivesse oportunidade de fazer atividade física na maioria dos dias da semana, qual seria a sua atitude?',\n",
              " 'VB03009A': 'Em um dia de semana comum, quantas horas por dia você assiste a TV? (não contar sábado, domingo e feriado)',\n",
              " 'VB03010A': 'Em um dia de semana comum, quanto tempo você fica sentado(a), assistindo televisão, usando computador, jogando videogame, conversando com amigos(as) ou fazendo outras atividades sentado(a)? (não contar sábado, domingo, feriados e o tempo sentado na escola)',\n",
              " 'VB03011A': 'NOS ÚLTIMOS 7 DIAS, em quantos dias você fez atividade física por pelo menos 60 minutos (1 hora) por dia? (Some todo o tempo que você gastou em qualquer tipo de atividade física EM CADA DIA)',\n",
              " 'VB04001': 'Alguma vez na vida, você já fumou cigarro, mesmo uma ou duas tragadas? ',\n",
              " 'VB04002': 'Que idade você tinha quando experimentou fumar cigarro pela primeira vez?',\n",
              " 'VB04003': 'NOS ÚLTIMOS 30 DIAS, em quantos dias você fumou cigarros?',\n",
              " 'VB04005': 'NOS ÚLTIMOS 7 DIAS, em quantos dias pessoas fumaram na sua presença?',\n",
              " 'VB04006A': 'Algum de seus pais ou responsáveis fuma? ',\n",
              " 'VB04008A': 'NOS ÚLTIMOS 30 DIAS, em quantos dias você usou outros produtos de tabaco: cigarros de palha ou enrolados a mão, charuto, cachimbo, cigarrilha, cigarro indiano ou bali, narguilé, rapé, fumo de mascar etc? (não incluir cigarro comum)',\n",
              " 'VB04009': 'NOS ÚLTIMOS 30 DIAS, em geral, como você conseguiu seus próprios cigarros?',\n",
              " 'VB04010': 'NOS ÚLTIMOS 30 DIAS, alguém se recusou a lhe vender cigarros por causa de sua idade?',\n",
              " 'VB04011': 'Qual outro produto do tabaco você usou com mais frequência NOS ÚLTIMOS 30 DIAS?',\n",
              " 'VB05002': 'Alguma vez na vida você tomou uma dose de bebida alcoólica? (Uma dose equivale a uma lata de cerveja ou uma taça de vinho ou uma dose de cachaça ou uísque etc)',\n",
              " 'VB05003': 'Que idade você tinha quando tomou a primeira dose de bebida alcoólica? (Uma dose equivale a uma lata de cerveja ou uma taça de vinho ou uma dose de cachaça ou uísque etc)',\n",
              " 'VB05004': 'NOS ÚLTIMOS 30 DIAS, em quantos dias você tomou pelo menos um copo ou uma dose de bebida alcoólica? (Uma dose equivale a uma lata de cerveja ou uma taça de vinho ou uma dose de cachaça ou uísque etc)',\n",
              " 'VB05005': 'NOS ÚLTIMOS 30 DIAS, nos dias em que você tomou alguma bebida alcoólica, quantos copos ou doses você tomou por dia? ',\n",
              " 'VB05006A': 'NOS ÚLTIMOS 30 DIAS, na maioria das vezes, como você conseguiu a bebida que tomou?',\n",
              " 'VB05007': 'Na sua vida, quantas vezes você bebeu tanto que ficou realmente bêbado(a)?',\n",
              " 'VB05009': 'Na sua vida, quantas vezes você teve problemas com sua família ou amigos, perdeu aulas ou brigou por que tinha bebido?',\n",
              " 'VB05010': 'Quantos amigos seus consomem bebida alcoólica?',\n",
              " 'VB06001': 'Alguma vez na vida, você já usou alguma droga-como: maconha, cocaína, crack, loló, lança-perfume, ecstasy, oxy, etc?',\n",
              " 'VB06002': 'Que idade você tinha quando usou droga como maconha, cocaína, crack, cola, loló, lança-perfume, ecstasy, oxy ou outra, pela primeira vez?',\n",
              " 'VB06003A': 'NOS ÚLTIMOS 30 DIAS, quantos dias você usou droga como maconha, cocaína, crack, cola, loló, lança-perfume, ecstasy, oxy, etc?',\n",
              " 'VB06004A': 'NOS ÚLTIMOS 30 DIAS, quantos dias você usou maconha? ',\n",
              " 'VB06005A': 'NOS ÚLTIMOS 30 DIAS, quantos dias você usou crack?',\n",
              " 'VB06006': 'Quantos amigos seus usam drogas?',\n",
              " 'VB07001': 'NOS ÚLTIMOS 30 DIAS, em quantos dias você faltou às aulas ou à escola sem permissão dos seus pais ou responsáveis?',\n",
              " 'VB07002': 'NOS ÚLTIMOS 30 DIAS, com que frequência seus pais ou responsáveis sabiam realmente o que você estava fazendo em seu tempo livre?',\n",
              " 'VB07003': 'NOS ÚLTIMOS 30 DIAS, com que frequência seus pais ou responsáveis verificaram se os seus deveres de casa (lição de casa) foram feitos?',\n",
              " 'VB07004': 'NOS ÚLTIMOS 30 DIAS, com que frequência seus pais ou responsáveis entenderam seus problemas e preocupações?',\n",
              " 'VB07005': 'NOS ÚLTIMOS 30 DIAS, com que frequência seus pais ou responsáveis mexeram em suas coisas sem a sua concordância?',\n",
              " 'VB07006': 'NOS ÚLTIMOS 30 DIAS, com que frequência os colegas de sua escola trataram você bem e/ou foram prestativos contigo?',\n",
              " 'VB07007': 'NOS ÚLTIMOS 30 DIAS, com que frequência algum dos seus colegas de escola te esculacharam, zoaram, mangaram, intimidaram ou caçoaram tanto que você ficou magoado, incomodado, aborrecido, ofendido ou humilhado?',\n",
              " 'VB07008': 'NOS ÚLTIMOS 30 DIAS, qual o motivo/causa de seus colegas terem te esculachado, zombado, zoado, caçoado, mangado, intimidado ou humilhado?',\n",
              " 'VB07009': 'NOS ÚLTIMOS 30 DIAS, você esculachou, zombou, mangou, intimidou ou caçoou algum de seus colegas da escola tanto que ele ficou magoado, aborrecido, ofendido ou humilhado?',\n",
              " 'VB07010': 'Você já sofreu bullying?',\n",
              " 'VB08001': 'Você já teve relação sexual (transou) alguma vez?',\n",
              " 'VB08002': 'Que idade você tinha quando teve relação sexual (transou) pela primeira vez?',\n",
              " 'VB08003A': 'Na sua vida, com quantas pessoas você teve relações sexuais (transou)?',\n",
              " 'VB08005': 'Na última vez que você teve relação sexual (transou), você ou seu(sua) parceiro(a) usou algum método para evitar a gravidez e/ou Doenças Sexualmente Transmissíveis (DST)',\n",
              " 'VB08006': 'Na última vez que você teve relação sexual (transou), você ou seu(sua) parceiro(a) usou camisinha (preservativo)?',\n",
              " 'VB08007': 'Na última vez que você teve relação sexual (transou), você ou seu(sua) parceiro(a) usou algum outro método para evitar a gravidez (não contar camisinha)?T)',\n",
              " 'VB08008': 'Na escola, você já recebeu orientação sobre prevenção de gravidez?',\n",
              " 'VB08009': 'Na escola, você já recebeu orientação sobre AIDS ou outras Doenças Sexualmente Transmissíveis (DST)?',\n",
              " 'VB08010': 'Na escola, você já recebeu orientação sobre como conseguir camisinha (preservativo) gratuitamente? ',\n",
              " 'VB08011': 'Você usou preservativo na primeira relação sexual?',\n",
              " 'VB08012': 'Nesta última vez que você teve relação sexual (transou), qual outro método para evitar gravidez você ou sua parceira usou?',\n",
              " 'VB08013': 'Alguma vez na vida você engravidou?',\n",
              " 'VB09001': 'NOS ÚLTIMOS 30 DIAS, em quantos dias você deixou de ir à escola porque não se sentia seguro no caminho de casa para a escola ou da escola para casa?',\n",
              " 'VB09002': 'NOS ÚLTIMOS 30 DIAS, em quantos dias você não foi à escola porque não se sentia seguro na escola?',\n",
              " 'VB09003': 'NOS ÚLTIMOS 30 DIAS, quantas vezes você foi agredido(a) fisicamente por um adulto da sua família?',\n",
              " 'VB09004': 'NOS ÚLTIMOS 30 DIAS, você esteve envolvido(a) em alguma briga em que alguma pessoa usou arma de fogo, como revólver ou espingarda?',\n",
              " 'VB09005': 'NOS ÚLTIMOS 30 DIAS, você esteve envolvido(a) em alguma briga em que alguma pessoa usou alguma outra arma como faca, canivete, peixeira, pedra, pedaço de pau ou garrafa?',\n",
              " 'VB09006A1': 'NOS ÚLTIMOS 30 DIAS, com que frequência você usou cinto de segurança enquanto andava como passageiro(a) no BANCO DA FRENTE de carro/automóvel, van ou táxi?',\n",
              " 'VB09006A2': 'NOS ÚLTIMOS 30 DIAS, com que frequência você usou cinto de segurança enquanto andava como passageiro(a) no BANCO DE TRÁS de carro/automóvel, van ou táxi?',\n",
              " 'VB09007A': 'NOS ÚLTIMOS 30 DIAS, com que frequência você usou capacete ao andar de motocicleta?',\n",
              " 'VB09008': 'NOS ÚLTIMOS 30 DIAS, quantas vezes você dirigiu um veículo motorizado de transporte (carro, motocicleta, voadeira, barco)?',\n",
              " 'VB09009': 'NOS ÚLTIMOS 30 DIAS, quantas vezes você andou em carro ou outro veículo motorizado dirigido por alguém que tinha consumido alguma bebida alcoólica?',\n",
              " 'VB09010': 'NOS ÚLTIMOS 12 MESES, quantas vezes você foi agredido(a) fisicamente?',\n",
              " 'VB09011': 'NOS ÚLTIMOS 12 MESES, quantas vezes você se envolveu em briga (uma luta física)?',\n",
              " 'VB09012': 'NOS ÚLTIMOS 12 MESES, quantas vezes você foi seriamente ferido(a)?',\n",
              " 'VB09013A': 'NOS ÚLTIMOS 12 MESES, qual foi o ferimento ou a lesão mais séria que aconteceu com você?',\n",
              " 'VB09014A': 'NOS ÚLTIMOS 12 MESES, qual foi a principal causa do ferimento ou da lesão mais séria que aconteceu com você?',\n",
              " 'VB09015': 'NOS ÚLTIMOS 12 MESES, você sofreu algum acidente de bicicleta (caiu e se machucou)?',\n",
              " 'VB09016': 'Alguma vez na vida você foi forçado a ter relação sexual? ',\n",
              " 'VB0901701': 'Um(a) namorado(a)/ex-namorado(a) forçou você a ter relação sexual?',\n",
              " 'VB0901702': 'Um(a) amigo(a) forçou você a ter relação sexual?',\n",
              " 'VB0901703': 'Seu pai/mãe/padastro/madrasta forçou você a ter relação sexual?',\n",
              " 'VB0901704': 'Outros familiares forçaram você a ter relação sexual?',\n",
              " 'VB0901705': 'Um(a) desconhecido(a) forçou você a ter relação sexual?',\n",
              " 'VB0901706': 'Outras pessoas forçaram você a ter relação sexual?',\n",
              " 'VB10001A': 'NOS ÚLTIMOS 30 DIAS, quantas vezes por dia você usualmente escovou os dentes?',\n",
              " 'VB10002': 'NOS ÚLTIMOS 6 MESES, você teve dor de dente? (excluir dor de dente causada por uso de aparelho)',\n",
              " 'VB10003': 'NOS ÚLTIMOS 12 MESES, quantas vezes você foi ao dentista?',\n",
              " 'VB10004': 'NOS ÚLTIMOS 30 DIAS, com que frequência você lavou as mãos antes de comer?',\n",
              " 'VB10005': 'NOS ÚLTIMOS 30 DIAS, com que frequência você lavou as mãos após usar o banheiro ou o vaso sanitário?',\n",
              " 'VB10006': 'NOS ÚLTIMOS 30 DIAS, com que frequência você usou sabão ou sabonete quando lavou suas mãos?',\n",
              " 'VB11001': 'Quanto ao seu corpo, você se considera: ',\n",
              " 'VB11002': 'O que você está fazendo em relação a seu peso?',\n",
              " 'VB11003': 'NOS ÚLTIMOS 30 DIAS, você vomitou ou tomou laxantes para perder peso ou evitar ganhar peso? ',\n",
              " 'VB11004A': 'NOS ÚLTIMOS 30 DIAS, você tomou algum remédio, fórmula ou outro produto para perder peso, sem acompanhamento médico?',\n",
              " 'VB11005': 'NOS ÚLTIMOS 30 DIAS, você tomou algum remédio, fórmula ou outro produto para ganhar peso ou massa muscular sem acompanhamento médico? ',\n",
              " 'VB11006': 'Você considera sua imagem corporal como sendo algo:',\n",
              " 'VB11007': 'Como você se sente em relação ao seu corpo?',\n",
              " 'VB12001': 'NOS ÚLTIMOS 12 MESES com que frequência tem se sentido sozinho(a)? ',\n",
              " 'VB12002': 'NOS ÚLTIMOS 12 MESES, com que frequência você não conseguiu dormir à noite porque algo o(a) preocupava muito? ',\n",
              " 'VB12003': 'Quantos amigos(as) próximos você tem?',\n",
              " 'VB13001': 'NOS ÚLTIMOS 12 MESES você procurou algum serviço ou profissional de saúde para atendimento relacionado à própria saúde? ',\n",
              " 'VB13002A': 'NOS ÚLTIMOS 12 MESES, qual foi o serviço de saúde que você procurou com MAIS FREQUÊNCIA?',\n",
              " 'VB13004A': 'Você foi atendido NA ÚLTIMA VEZ que procurou alguma Unidade Básica de Saúde (Centro ou Posto de saúde ou Unidade de Saúde da Família/PSF), NESTES ÚLTIMOS 12 MESES?',\n",
              " 'VB13005': 'Como você classificaria seu estado de saúde?',\n",
              " 'VB13006': 'NOS ÚLTIMOS 12 MESES, quantos dias você faltou a escola por motivo(s) relacionado(s) à sua saúde?',\n",
              " 'VB13007': 'Qual foi o PRINCIPAL MOTIVO da sua procura na Unidade Básica de Saúde (Centro ou Posto de saúde ou Unidade de Saúde da Família/PSF) NESTA ÚLTIMA VEZ?',\n",
              " 'VB13008': 'Você conhece/ouviu falar sobre a campanha de vacinação contra o vírus HPV?',\n",
              " 'VB13009': 'Você foi vacinada contra o vírus HPV?',\n",
              " 'VB14001': 'NOS ÚLTIMOS 12 MESES, você teve chiado (ou piado) no peito? ',\n",
              " 'VB14002': 'Você teve asma alguma vez na vida?',\n",
              " 'VB16001A01': 'Você achou este questionário fácil?',\n",
              " 'VB16001A02': 'Você achou este questionário difícil?',\n",
              " 'VB16001A03': 'Você achou este questionário chato?',\n",
              " 'VB16001A04': 'Você achou este questionário legal?',\n",
              " 'VB16001A05': 'Você achou este questionário interessante?',\n",
              " 'VB16001A06': 'Você achou este questionário informativo?',\n",
              " 'VB16001A07': 'Você achou este questionário cansativo?',\n",
              " 'VB16001A08': 'Você achou este questionário constrangedor?',\n",
              " 'VB17001': 'Qual é o peso do(a) aluno(a)?',\n",
              " 'VB17002': 'Qual é a altura do(a) aluno(a)?',\n",
              " 'VB17003': 'Peso do estudante, incluindo os imputados, com uma casa decimal ',\n",
              " 'VB17004': 'Altura do estudante, incluindo os imputados, com uma casa decimal',\n",
              " 'VB17005': 'Variável identificadora se houve imputação no peso e/ou altura do estudante',\n",
              " 'VB17006': 'Variável identificadora do estado nutricional do estudante, onde: déficit de peso=1',\n",
              " 'aluno': 'contador de aluno',\n",
              " 'escola': 'UPA (unidade primária de amostragem)',\n",
              " 'turma': 'USA (unidade secundária de amostragem)'}"
            ]
          },
          "metadata": {
            "tags": []
          },
          "execution_count": 19
        }
      ]
    },
    {
      "cell_type": "markdown",
      "metadata": {
        "id": "9-YJ44_2R8Y2"
      },
      "source": [
        "As iniciais das variáveis dão uma idéia do que tal pergunta se trata. Desse modo, facilita bastante a busca pelas variáveis! \n",
        "\n",
        "Sendo assim, resumi pelo tema que cada inicial das variáveis indicam: "
      ]
    },
    {
      "cell_type": "markdown",
      "metadata": {
        "id": "A0pHUvIBSz0B"
      },
      "source": [
        "- **REGEOGR** - Região geográfica;\n",
        "\n",
        "- **TEMPO...** - Tempo de VB03;\n",
        "\n",
        "- **VB00004** - Concorda em participar deste questionário?;\n",
        "\n",
        "- **V000X** - Informações da escola (X = {6, 7, 8, 41});\n",
        "\n",
        "- **VB01** - Dados socio-econômicos;\n",
        "\n",
        "- **VB02** - Alimentação;\n",
        "\n",
        "- **VB03** - Ida e vinda para a escola + Atividades físicas;\n",
        "\n",
        "- **VB04** - Uso de produtos derivados do tabaco;\n",
        "\n",
        "- **VB05** - Bebidas alcóolicas;\n",
        "\n",
        "- **VB06** - Drogas ilícitas;\n",
        "\n",
        "- **VB07** - Relacionamentos entre família e amigos (Bullying);\n",
        "\n",
        "- **VB08** - Relação sexual;\n",
        "\n",
        "- **VB09** - Segurança na rua + segurança no transito + agressões;\n",
        "\n",
        "- **VB10** - Higiene;\n",
        "\n",
        "- **VB11** - Imagem corporal;\n",
        "\n",
        "- **VB12** - Solidão;\n",
        "\n",
        "- **VB13** - Saúde + vacinação;\n",
        "\n",
        "- **VB14** - Problemas respiratórios;\n",
        "\n",
        "- **VB16** - Impressões sobre o questionário;\n",
        "\n",
        "- **VB17** - Peso e altura."
      ]
    },
    {
      "cell_type": "markdown",
      "metadata": {
        "id": "GXQmUCf2WNgC"
      },
      "source": [
        "**Observação:** não resumi acima todas as variáveis, apenas as mais importantes."
      ]
    },
    {
      "cell_type": "markdown",
      "metadata": {
        "id": "PwycWwnZrXol"
      },
      "source": [
        "#### **É realmente confiável?**\n",
        "Na seção \"Mais algumas informações\", foi apresentado um vídeo relatando que os alunos se sentem confortáveis e as respostas não chegam enviesadas por algum fator. Entretanto, não dá para saber completamente se isso é verdade.\n",
        "\n",
        "Para ter mais certeza a respeito disso, vamos verificar o que os alunos realmente sentiram ao responder as perguntas."
      ]
    },
    {
      "cell_type": "code",
      "metadata": {
        "colab": {
          "base_uri": "https://localhost:8080/",
          "height": 1000
        },
        "id": "KxTEg7FNrXSS",
        "outputId": "ba13e58a-e64a-4ad1-8d5a-ccc514615e28"
      },
      "source": [
        "# Variáveis a serem utilizadas\n",
        "var_about_quest = dictionary_df.loc[dictionary_df['VARIÁVEL'].str.contains('VB16') == True]['VARIÁVEL']\n",
        "\n",
        "for id in var_about_quest:\n",
        "  show_description_of_question(id)\n",
        "  print('\\n')"
      ],
      "execution_count": null,
      "outputs": [
        {
          "output_type": "stream",
          "text": [
            "ID da pergunta: VB16001A01\n",
            "Você achou este questionário fácil?\n"
          ],
          "name": "stdout"
        },
        {
          "output_type": "display_data",
          "data": {
            "text/html": [
              "<div>\n",
              "<style scoped>\n",
              "    .dataframe tbody tr th:only-of-type {\n",
              "        vertical-align: middle;\n",
              "    }\n",
              "\n",
              "    .dataframe tbody tr th {\n",
              "        vertical-align: top;\n",
              "    }\n",
              "\n",
              "    .dataframe thead th {\n",
              "        text-align: right;\n",
              "    }\n",
              "</style>\n",
              "<table border=\"1\" class=\"dataframe\">\n",
              "  <thead>\n",
              "    <tr style=\"text-align: right;\">\n",
              "      <th></th>\n",
              "      <th>DESCRIÇÃO</th>\n",
              "    </tr>\n",
              "    <tr>\n",
              "      <th>VARIÁVEL</th>\n",
              "      <th></th>\n",
              "    </tr>\n",
              "  </thead>\n",
              "  <tbody>\n",
              "    <tr>\n",
              "      <th>1.0</th>\n",
              "      <td>Sim</td>\n",
              "    </tr>\n",
              "    <tr>\n",
              "      <th>2.0</th>\n",
              "      <td>Não</td>\n",
              "    </tr>\n",
              "    <tr>\n",
              "      <th>99.0</th>\n",
              "      <td>Não informado</td>\n",
              "    </tr>\n",
              "  </tbody>\n",
              "</table>\n",
              "</div>"
            ],
            "text/plain": [
              "              DESCRIÇÃO\n",
              "VARIÁVEL               \n",
              "1.0                 Sim\n",
              "2.0                 Não\n",
              "99.0      Não informado"
            ]
          },
          "metadata": {
            "tags": []
          }
        },
        {
          "output_type": "stream",
          "text": [
            "\n",
            "\n",
            "ID da pergunta: VB16001A02\n",
            "Você achou este questionário difícil?\n"
          ],
          "name": "stdout"
        },
        {
          "output_type": "display_data",
          "data": {
            "text/html": [
              "<div>\n",
              "<style scoped>\n",
              "    .dataframe tbody tr th:only-of-type {\n",
              "        vertical-align: middle;\n",
              "    }\n",
              "\n",
              "    .dataframe tbody tr th {\n",
              "        vertical-align: top;\n",
              "    }\n",
              "\n",
              "    .dataframe thead th {\n",
              "        text-align: right;\n",
              "    }\n",
              "</style>\n",
              "<table border=\"1\" class=\"dataframe\">\n",
              "  <thead>\n",
              "    <tr style=\"text-align: right;\">\n",
              "      <th></th>\n",
              "      <th>DESCRIÇÃO</th>\n",
              "    </tr>\n",
              "    <tr>\n",
              "      <th>VARIÁVEL</th>\n",
              "      <th></th>\n",
              "    </tr>\n",
              "  </thead>\n",
              "  <tbody>\n",
              "    <tr>\n",
              "      <th>1.0</th>\n",
              "      <td>Sim</td>\n",
              "    </tr>\n",
              "    <tr>\n",
              "      <th>2.0</th>\n",
              "      <td>Não</td>\n",
              "    </tr>\n",
              "    <tr>\n",
              "      <th>99.0</th>\n",
              "      <td>Não informado</td>\n",
              "    </tr>\n",
              "  </tbody>\n",
              "</table>\n",
              "</div>"
            ],
            "text/plain": [
              "              DESCRIÇÃO\n",
              "VARIÁVEL               \n",
              "1.0                 Sim\n",
              "2.0                 Não\n",
              "99.0      Não informado"
            ]
          },
          "metadata": {
            "tags": []
          }
        },
        {
          "output_type": "stream",
          "text": [
            "\n",
            "\n",
            "ID da pergunta: VB16001A03\n",
            "Você achou este questionário chato?\n"
          ],
          "name": "stdout"
        },
        {
          "output_type": "display_data",
          "data": {
            "text/html": [
              "<div>\n",
              "<style scoped>\n",
              "    .dataframe tbody tr th:only-of-type {\n",
              "        vertical-align: middle;\n",
              "    }\n",
              "\n",
              "    .dataframe tbody tr th {\n",
              "        vertical-align: top;\n",
              "    }\n",
              "\n",
              "    .dataframe thead th {\n",
              "        text-align: right;\n",
              "    }\n",
              "</style>\n",
              "<table border=\"1\" class=\"dataframe\">\n",
              "  <thead>\n",
              "    <tr style=\"text-align: right;\">\n",
              "      <th></th>\n",
              "      <th>DESCRIÇÃO</th>\n",
              "    </tr>\n",
              "    <tr>\n",
              "      <th>VARIÁVEL</th>\n",
              "      <th></th>\n",
              "    </tr>\n",
              "  </thead>\n",
              "  <tbody>\n",
              "    <tr>\n",
              "      <th>1.0</th>\n",
              "      <td>Sim</td>\n",
              "    </tr>\n",
              "    <tr>\n",
              "      <th>2.0</th>\n",
              "      <td>Não</td>\n",
              "    </tr>\n",
              "    <tr>\n",
              "      <th>99.0</th>\n",
              "      <td>Não informado</td>\n",
              "    </tr>\n",
              "  </tbody>\n",
              "</table>\n",
              "</div>"
            ],
            "text/plain": [
              "              DESCRIÇÃO\n",
              "VARIÁVEL               \n",
              "1.0                 Sim\n",
              "2.0                 Não\n",
              "99.0      Não informado"
            ]
          },
          "metadata": {
            "tags": []
          }
        },
        {
          "output_type": "stream",
          "text": [
            "\n",
            "\n",
            "ID da pergunta: VB16001A04\n",
            "Você achou este questionário legal?\n"
          ],
          "name": "stdout"
        },
        {
          "output_type": "display_data",
          "data": {
            "text/html": [
              "<div>\n",
              "<style scoped>\n",
              "    .dataframe tbody tr th:only-of-type {\n",
              "        vertical-align: middle;\n",
              "    }\n",
              "\n",
              "    .dataframe tbody tr th {\n",
              "        vertical-align: top;\n",
              "    }\n",
              "\n",
              "    .dataframe thead th {\n",
              "        text-align: right;\n",
              "    }\n",
              "</style>\n",
              "<table border=\"1\" class=\"dataframe\">\n",
              "  <thead>\n",
              "    <tr style=\"text-align: right;\">\n",
              "      <th></th>\n",
              "      <th>DESCRIÇÃO</th>\n",
              "    </tr>\n",
              "    <tr>\n",
              "      <th>VARIÁVEL</th>\n",
              "      <th></th>\n",
              "    </tr>\n",
              "  </thead>\n",
              "  <tbody>\n",
              "    <tr>\n",
              "      <th>1.0</th>\n",
              "      <td>Sim</td>\n",
              "    </tr>\n",
              "    <tr>\n",
              "      <th>2.0</th>\n",
              "      <td>Não</td>\n",
              "    </tr>\n",
              "    <tr>\n",
              "      <th>99.0</th>\n",
              "      <td>Não informado</td>\n",
              "    </tr>\n",
              "  </tbody>\n",
              "</table>\n",
              "</div>"
            ],
            "text/plain": [
              "              DESCRIÇÃO\n",
              "VARIÁVEL               \n",
              "1.0                 Sim\n",
              "2.0                 Não\n",
              "99.0      Não informado"
            ]
          },
          "metadata": {
            "tags": []
          }
        },
        {
          "output_type": "stream",
          "text": [
            "\n",
            "\n",
            "ID da pergunta: VB16001A05\n",
            "Você achou este questionário interessante?\n"
          ],
          "name": "stdout"
        },
        {
          "output_type": "display_data",
          "data": {
            "text/html": [
              "<div>\n",
              "<style scoped>\n",
              "    .dataframe tbody tr th:only-of-type {\n",
              "        vertical-align: middle;\n",
              "    }\n",
              "\n",
              "    .dataframe tbody tr th {\n",
              "        vertical-align: top;\n",
              "    }\n",
              "\n",
              "    .dataframe thead th {\n",
              "        text-align: right;\n",
              "    }\n",
              "</style>\n",
              "<table border=\"1\" class=\"dataframe\">\n",
              "  <thead>\n",
              "    <tr style=\"text-align: right;\">\n",
              "      <th></th>\n",
              "      <th>DESCRIÇÃO</th>\n",
              "    </tr>\n",
              "    <tr>\n",
              "      <th>VARIÁVEL</th>\n",
              "      <th></th>\n",
              "    </tr>\n",
              "  </thead>\n",
              "  <tbody>\n",
              "    <tr>\n",
              "      <th>1.0</th>\n",
              "      <td>Sim</td>\n",
              "    </tr>\n",
              "    <tr>\n",
              "      <th>2.0</th>\n",
              "      <td>Não</td>\n",
              "    </tr>\n",
              "    <tr>\n",
              "      <th>99.0</th>\n",
              "      <td>Não informado</td>\n",
              "    </tr>\n",
              "  </tbody>\n",
              "</table>\n",
              "</div>"
            ],
            "text/plain": [
              "              DESCRIÇÃO\n",
              "VARIÁVEL               \n",
              "1.0                 Sim\n",
              "2.0                 Não\n",
              "99.0      Não informado"
            ]
          },
          "metadata": {
            "tags": []
          }
        },
        {
          "output_type": "stream",
          "text": [
            "\n",
            "\n",
            "ID da pergunta: VB16001A06\n",
            "Você achou este questionário informativo?\n"
          ],
          "name": "stdout"
        },
        {
          "output_type": "display_data",
          "data": {
            "text/html": [
              "<div>\n",
              "<style scoped>\n",
              "    .dataframe tbody tr th:only-of-type {\n",
              "        vertical-align: middle;\n",
              "    }\n",
              "\n",
              "    .dataframe tbody tr th {\n",
              "        vertical-align: top;\n",
              "    }\n",
              "\n",
              "    .dataframe thead th {\n",
              "        text-align: right;\n",
              "    }\n",
              "</style>\n",
              "<table border=\"1\" class=\"dataframe\">\n",
              "  <thead>\n",
              "    <tr style=\"text-align: right;\">\n",
              "      <th></th>\n",
              "      <th>DESCRIÇÃO</th>\n",
              "    </tr>\n",
              "    <tr>\n",
              "      <th>VARIÁVEL</th>\n",
              "      <th></th>\n",
              "    </tr>\n",
              "  </thead>\n",
              "  <tbody>\n",
              "    <tr>\n",
              "      <th>1.0</th>\n",
              "      <td>Sim</td>\n",
              "    </tr>\n",
              "    <tr>\n",
              "      <th>2.0</th>\n",
              "      <td>Não</td>\n",
              "    </tr>\n",
              "    <tr>\n",
              "      <th>99.0</th>\n",
              "      <td>Não informado</td>\n",
              "    </tr>\n",
              "  </tbody>\n",
              "</table>\n",
              "</div>"
            ],
            "text/plain": [
              "              DESCRIÇÃO\n",
              "VARIÁVEL               \n",
              "1.0                 Sim\n",
              "2.0                 Não\n",
              "99.0      Não informado"
            ]
          },
          "metadata": {
            "tags": []
          }
        },
        {
          "output_type": "stream",
          "text": [
            "\n",
            "\n",
            "ID da pergunta: VB16001A07\n",
            "Você achou este questionário cansativo?\n"
          ],
          "name": "stdout"
        },
        {
          "output_type": "display_data",
          "data": {
            "text/html": [
              "<div>\n",
              "<style scoped>\n",
              "    .dataframe tbody tr th:only-of-type {\n",
              "        vertical-align: middle;\n",
              "    }\n",
              "\n",
              "    .dataframe tbody tr th {\n",
              "        vertical-align: top;\n",
              "    }\n",
              "\n",
              "    .dataframe thead th {\n",
              "        text-align: right;\n",
              "    }\n",
              "</style>\n",
              "<table border=\"1\" class=\"dataframe\">\n",
              "  <thead>\n",
              "    <tr style=\"text-align: right;\">\n",
              "      <th></th>\n",
              "      <th>DESCRIÇÃO</th>\n",
              "    </tr>\n",
              "    <tr>\n",
              "      <th>VARIÁVEL</th>\n",
              "      <th></th>\n",
              "    </tr>\n",
              "  </thead>\n",
              "  <tbody>\n",
              "    <tr>\n",
              "      <th>1.0</th>\n",
              "      <td>Sim</td>\n",
              "    </tr>\n",
              "    <tr>\n",
              "      <th>2.0</th>\n",
              "      <td>Não</td>\n",
              "    </tr>\n",
              "    <tr>\n",
              "      <th>99.0</th>\n",
              "      <td>Não informado</td>\n",
              "    </tr>\n",
              "  </tbody>\n",
              "</table>\n",
              "</div>"
            ],
            "text/plain": [
              "              DESCRIÇÃO\n",
              "VARIÁVEL               \n",
              "1.0                 Sim\n",
              "2.0                 Não\n",
              "99.0      Não informado"
            ]
          },
          "metadata": {
            "tags": []
          }
        },
        {
          "output_type": "stream",
          "text": [
            "\n",
            "\n",
            "ID da pergunta: VB16001A08\n",
            "Você achou este questionário constrangedor?\n"
          ],
          "name": "stdout"
        },
        {
          "output_type": "display_data",
          "data": {
            "text/html": [
              "<div>\n",
              "<style scoped>\n",
              "    .dataframe tbody tr th:only-of-type {\n",
              "        vertical-align: middle;\n",
              "    }\n",
              "\n",
              "    .dataframe tbody tr th {\n",
              "        vertical-align: top;\n",
              "    }\n",
              "\n",
              "    .dataframe thead th {\n",
              "        text-align: right;\n",
              "    }\n",
              "</style>\n",
              "<table border=\"1\" class=\"dataframe\">\n",
              "  <thead>\n",
              "    <tr style=\"text-align: right;\">\n",
              "      <th></th>\n",
              "      <th>DESCRIÇÃO</th>\n",
              "    </tr>\n",
              "    <tr>\n",
              "      <th>VARIÁVEL</th>\n",
              "      <th></th>\n",
              "    </tr>\n",
              "  </thead>\n",
              "  <tbody>\n",
              "    <tr>\n",
              "      <th>1.0</th>\n",
              "      <td>Sim</td>\n",
              "    </tr>\n",
              "    <tr>\n",
              "      <th>2.0</th>\n",
              "      <td>Não</td>\n",
              "    </tr>\n",
              "    <tr>\n",
              "      <th>99.0</th>\n",
              "      <td>Não informado</td>\n",
              "    </tr>\n",
              "  </tbody>\n",
              "</table>\n",
              "</div>"
            ],
            "text/plain": [
              "              DESCRIÇÃO\n",
              "VARIÁVEL               \n",
              "1.0                 Sim\n",
              "2.0                 Não\n",
              "99.0      Não informado"
            ]
          },
          "metadata": {
            "tags": []
          }
        },
        {
          "output_type": "stream",
          "text": [
            "\n",
            "\n"
          ],
          "name": "stdout"
        }
      ]
    },
    {
      "cell_type": "code",
      "metadata": {
        "colab": {
          "base_uri": "https://localhost:8080/",
          "height": 1809
        },
        "id": "8YGg01XqtxRB",
        "outputId": "e8476a27-c4f1-4042-8dd4-ea28f4139645"
      },
      "source": [
        "# Exibindo as perguntas e alternativas sobre o próprio questionário\n",
        "display(Javascript('''google.colab.output.setIframeHeight(0, true, {maxHeight: 5000})'''))\n",
        "for id in var_about_quest:\n",
        "  show_freq_table(id, pense_student)\n",
        "  print('\\n')"
      ],
      "execution_count": null,
      "outputs": [
        {
          "output_type": "display_data",
          "data": {
            "application/javascript": [
              "google.colab.output.setIframeHeight(0, true, {maxHeight: 5000})"
            ],
            "text/plain": [
              "<IPython.core.display.Javascript object>"
            ]
          },
          "metadata": {
            "tags": []
          }
        },
        {
          "output_type": "stream",
          "text": [
            "Você achou este questionário fácil? \n",
            "\n"
          ],
          "name": "stdout"
        },
        {
          "output_type": "display_data",
          "data": {
            "text/html": [
              "<div>\n",
              "<style scoped>\n",
              "    .dataframe tbody tr th:only-of-type {\n",
              "        vertical-align: middle;\n",
              "    }\n",
              "\n",
              "    .dataframe tbody tr th {\n",
              "        vertical-align: top;\n",
              "    }\n",
              "\n",
              "    .dataframe thead th {\n",
              "        text-align: right;\n",
              "    }\n",
              "</style>\n",
              "<table border=\"1\" class=\"dataframe\">\n",
              "  <thead>\n",
              "    <tr style=\"text-align: right;\">\n",
              "      <th></th>\n",
              "      <th>Frequência absoluta</th>\n",
              "      <th>Frequência relativa (%)</th>\n",
              "    </tr>\n",
              "    <tr>\n",
              "      <th>DESCRIÇÃO</th>\n",
              "      <th></th>\n",
              "      <th></th>\n",
              "    </tr>\n",
              "  </thead>\n",
              "  <tbody>\n",
              "    <tr>\n",
              "      <th>Não</th>\n",
              "      <td>9613</td>\n",
              "      <td>58.06</td>\n",
              "    </tr>\n",
              "    <tr>\n",
              "      <th>Sim</th>\n",
              "      <td>6861</td>\n",
              "      <td>41.44</td>\n",
              "    </tr>\n",
              "    <tr>\n",
              "      <th>Não informado</th>\n",
              "      <td>82</td>\n",
              "      <td>0.50</td>\n",
              "    </tr>\n",
              "  </tbody>\n",
              "</table>\n",
              "</div>"
            ],
            "text/plain": [
              "               Frequência absoluta  Frequência relativa (%)\n",
              "DESCRIÇÃO                                                  \n",
              "Não                           9613                    58.06\n",
              "Sim                           6861                    41.44\n",
              "Não informado                   82                     0.50"
            ]
          },
          "metadata": {
            "tags": []
          }
        },
        {
          "output_type": "stream",
          "text": [
            "\n",
            "\n",
            "Você achou este questionário difícil? \n",
            "\n"
          ],
          "name": "stdout"
        },
        {
          "output_type": "display_data",
          "data": {
            "text/html": [
              "<div>\n",
              "<style scoped>\n",
              "    .dataframe tbody tr th:only-of-type {\n",
              "        vertical-align: middle;\n",
              "    }\n",
              "\n",
              "    .dataframe tbody tr th {\n",
              "        vertical-align: top;\n",
              "    }\n",
              "\n",
              "    .dataframe thead th {\n",
              "        text-align: right;\n",
              "    }\n",
              "</style>\n",
              "<table border=\"1\" class=\"dataframe\">\n",
              "  <thead>\n",
              "    <tr style=\"text-align: right;\">\n",
              "      <th></th>\n",
              "      <th>Frequência absoluta</th>\n",
              "      <th>Frequência relativa (%)</th>\n",
              "    </tr>\n",
              "    <tr>\n",
              "      <th>DESCRIÇÃO</th>\n",
              "      <th></th>\n",
              "      <th></th>\n",
              "    </tr>\n",
              "  </thead>\n",
              "  <tbody>\n",
              "    <tr>\n",
              "      <th>Não</th>\n",
              "      <td>16159</td>\n",
              "      <td>97.6</td>\n",
              "    </tr>\n",
              "    <tr>\n",
              "      <th>Sim</th>\n",
              "      <td>315</td>\n",
              "      <td>1.9</td>\n",
              "    </tr>\n",
              "    <tr>\n",
              "      <th>Não informado</th>\n",
              "      <td>82</td>\n",
              "      <td>0.5</td>\n",
              "    </tr>\n",
              "  </tbody>\n",
              "</table>\n",
              "</div>"
            ],
            "text/plain": [
              "               Frequência absoluta  Frequência relativa (%)\n",
              "DESCRIÇÃO                                                  \n",
              "Não                          16159                     97.6\n",
              "Sim                            315                      1.9\n",
              "Não informado                   82                      0.5"
            ]
          },
          "metadata": {
            "tags": []
          }
        },
        {
          "output_type": "stream",
          "text": [
            "\n",
            "\n",
            "Você achou este questionário chato? \n",
            "\n"
          ],
          "name": "stdout"
        },
        {
          "output_type": "display_data",
          "data": {
            "text/html": [
              "<div>\n",
              "<style scoped>\n",
              "    .dataframe tbody tr th:only-of-type {\n",
              "        vertical-align: middle;\n",
              "    }\n",
              "\n",
              "    .dataframe tbody tr th {\n",
              "        vertical-align: top;\n",
              "    }\n",
              "\n",
              "    .dataframe thead th {\n",
              "        text-align: right;\n",
              "    }\n",
              "</style>\n",
              "<table border=\"1\" class=\"dataframe\">\n",
              "  <thead>\n",
              "    <tr style=\"text-align: right;\">\n",
              "      <th></th>\n",
              "      <th>Frequência absoluta</th>\n",
              "      <th>Frequência relativa (%)</th>\n",
              "    </tr>\n",
              "    <tr>\n",
              "      <th>DESCRIÇÃO</th>\n",
              "      <th></th>\n",
              "      <th></th>\n",
              "    </tr>\n",
              "  </thead>\n",
              "  <tbody>\n",
              "    <tr>\n",
              "      <th>Não</th>\n",
              "      <td>15156</td>\n",
              "      <td>91.54</td>\n",
              "    </tr>\n",
              "    <tr>\n",
              "      <th>Sim</th>\n",
              "      <td>1318</td>\n",
              "      <td>7.96</td>\n",
              "    </tr>\n",
              "    <tr>\n",
              "      <th>Não informado</th>\n",
              "      <td>82</td>\n",
              "      <td>0.50</td>\n",
              "    </tr>\n",
              "  </tbody>\n",
              "</table>\n",
              "</div>"
            ],
            "text/plain": [
              "               Frequência absoluta  Frequência relativa (%)\n",
              "DESCRIÇÃO                                                  \n",
              "Não                          15156                    91.54\n",
              "Sim                           1318                     7.96\n",
              "Não informado                   82                     0.50"
            ]
          },
          "metadata": {
            "tags": []
          }
        },
        {
          "output_type": "stream",
          "text": [
            "\n",
            "\n",
            "Você achou este questionário legal? \n",
            "\n"
          ],
          "name": "stdout"
        },
        {
          "output_type": "display_data",
          "data": {
            "text/html": [
              "<div>\n",
              "<style scoped>\n",
              "    .dataframe tbody tr th:only-of-type {\n",
              "        vertical-align: middle;\n",
              "    }\n",
              "\n",
              "    .dataframe tbody tr th {\n",
              "        vertical-align: top;\n",
              "    }\n",
              "\n",
              "    .dataframe thead th {\n",
              "        text-align: right;\n",
              "    }\n",
              "</style>\n",
              "<table border=\"1\" class=\"dataframe\">\n",
              "  <thead>\n",
              "    <tr style=\"text-align: right;\">\n",
              "      <th></th>\n",
              "      <th>Frequência absoluta</th>\n",
              "      <th>Frequência relativa (%)</th>\n",
              "    </tr>\n",
              "    <tr>\n",
              "      <th>DESCRIÇÃO</th>\n",
              "      <th></th>\n",
              "      <th></th>\n",
              "    </tr>\n",
              "  </thead>\n",
              "  <tbody>\n",
              "    <tr>\n",
              "      <th>Não</th>\n",
              "      <td>13408</td>\n",
              "      <td>80.99</td>\n",
              "    </tr>\n",
              "    <tr>\n",
              "      <th>Sim</th>\n",
              "      <td>3066</td>\n",
              "      <td>18.52</td>\n",
              "    </tr>\n",
              "    <tr>\n",
              "      <th>Não informado</th>\n",
              "      <td>82</td>\n",
              "      <td>0.50</td>\n",
              "    </tr>\n",
              "  </tbody>\n",
              "</table>\n",
              "</div>"
            ],
            "text/plain": [
              "               Frequência absoluta  Frequência relativa (%)\n",
              "DESCRIÇÃO                                                  \n",
              "Não                          13408                    80.99\n",
              "Sim                           3066                    18.52\n",
              "Não informado                   82                     0.50"
            ]
          },
          "metadata": {
            "tags": []
          }
        },
        {
          "output_type": "stream",
          "text": [
            "\n",
            "\n",
            "Você achou este questionário interessante? \n",
            "\n"
          ],
          "name": "stdout"
        },
        {
          "output_type": "display_data",
          "data": {
            "text/html": [
              "<div>\n",
              "<style scoped>\n",
              "    .dataframe tbody tr th:only-of-type {\n",
              "        vertical-align: middle;\n",
              "    }\n",
              "\n",
              "    .dataframe tbody tr th {\n",
              "        vertical-align: top;\n",
              "    }\n",
              "\n",
              "    .dataframe thead th {\n",
              "        text-align: right;\n",
              "    }\n",
              "</style>\n",
              "<table border=\"1\" class=\"dataframe\">\n",
              "  <thead>\n",
              "    <tr style=\"text-align: right;\">\n",
              "      <th></th>\n",
              "      <th>Frequência absoluta</th>\n",
              "      <th>Frequência relativa (%)</th>\n",
              "    </tr>\n",
              "    <tr>\n",
              "      <th>DESCRIÇÃO</th>\n",
              "      <th></th>\n",
              "      <th></th>\n",
              "    </tr>\n",
              "  </thead>\n",
              "  <tbody>\n",
              "    <tr>\n",
              "      <th>Não</th>\n",
              "      <td>10818</td>\n",
              "      <td>65.34</td>\n",
              "    </tr>\n",
              "    <tr>\n",
              "      <th>Sim</th>\n",
              "      <td>5656</td>\n",
              "      <td>34.16</td>\n",
              "    </tr>\n",
              "    <tr>\n",
              "      <th>Não informado</th>\n",
              "      <td>82</td>\n",
              "      <td>0.50</td>\n",
              "    </tr>\n",
              "  </tbody>\n",
              "</table>\n",
              "</div>"
            ],
            "text/plain": [
              "               Frequência absoluta  Frequência relativa (%)\n",
              "DESCRIÇÃO                                                  \n",
              "Não                          10818                    65.34\n",
              "Sim                           5656                    34.16\n",
              "Não informado                   82                     0.50"
            ]
          },
          "metadata": {
            "tags": []
          }
        },
        {
          "output_type": "stream",
          "text": [
            "\n",
            "\n",
            "Você achou este questionário informativo? \n",
            "\n"
          ],
          "name": "stdout"
        },
        {
          "output_type": "display_data",
          "data": {
            "text/html": [
              "<div>\n",
              "<style scoped>\n",
              "    .dataframe tbody tr th:only-of-type {\n",
              "        vertical-align: middle;\n",
              "    }\n",
              "\n",
              "    .dataframe tbody tr th {\n",
              "        vertical-align: top;\n",
              "    }\n",
              "\n",
              "    .dataframe thead th {\n",
              "        text-align: right;\n",
              "    }\n",
              "</style>\n",
              "<table border=\"1\" class=\"dataframe\">\n",
              "  <thead>\n",
              "    <tr style=\"text-align: right;\">\n",
              "      <th></th>\n",
              "      <th>Frequência absoluta</th>\n",
              "      <th>Frequência relativa (%)</th>\n",
              "    </tr>\n",
              "    <tr>\n",
              "      <th>DESCRIÇÃO</th>\n",
              "      <th></th>\n",
              "      <th></th>\n",
              "    </tr>\n",
              "  </thead>\n",
              "  <tbody>\n",
              "    <tr>\n",
              "      <th>Não</th>\n",
              "      <td>15275</td>\n",
              "      <td>92.26</td>\n",
              "    </tr>\n",
              "    <tr>\n",
              "      <th>Sim</th>\n",
              "      <td>1199</td>\n",
              "      <td>7.24</td>\n",
              "    </tr>\n",
              "    <tr>\n",
              "      <th>Não informado</th>\n",
              "      <td>82</td>\n",
              "      <td>0.50</td>\n",
              "    </tr>\n",
              "  </tbody>\n",
              "</table>\n",
              "</div>"
            ],
            "text/plain": [
              "               Frequência absoluta  Frequência relativa (%)\n",
              "DESCRIÇÃO                                                  \n",
              "Não                          15275                    92.26\n",
              "Sim                           1199                     7.24\n",
              "Não informado                   82                     0.50"
            ]
          },
          "metadata": {
            "tags": []
          }
        },
        {
          "output_type": "stream",
          "text": [
            "\n",
            "\n",
            "Você achou este questionário cansativo? \n",
            "\n"
          ],
          "name": "stdout"
        },
        {
          "output_type": "display_data",
          "data": {
            "text/html": [
              "<div>\n",
              "<style scoped>\n",
              "    .dataframe tbody tr th:only-of-type {\n",
              "        vertical-align: middle;\n",
              "    }\n",
              "\n",
              "    .dataframe tbody tr th {\n",
              "        vertical-align: top;\n",
              "    }\n",
              "\n",
              "    .dataframe thead th {\n",
              "        text-align: right;\n",
              "    }\n",
              "</style>\n",
              "<table border=\"1\" class=\"dataframe\">\n",
              "  <thead>\n",
              "    <tr style=\"text-align: right;\">\n",
              "      <th></th>\n",
              "      <th>Frequência absoluta</th>\n",
              "      <th>Frequência relativa (%)</th>\n",
              "    </tr>\n",
              "    <tr>\n",
              "      <th>DESCRIÇÃO</th>\n",
              "      <th></th>\n",
              "      <th></th>\n",
              "    </tr>\n",
              "  </thead>\n",
              "  <tbody>\n",
              "    <tr>\n",
              "      <th>Não</th>\n",
              "      <td>15374</td>\n",
              "      <td>92.86</td>\n",
              "    </tr>\n",
              "    <tr>\n",
              "      <th>Sim</th>\n",
              "      <td>1100</td>\n",
              "      <td>6.64</td>\n",
              "    </tr>\n",
              "    <tr>\n",
              "      <th>Não informado</th>\n",
              "      <td>82</td>\n",
              "      <td>0.50</td>\n",
              "    </tr>\n",
              "  </tbody>\n",
              "</table>\n",
              "</div>"
            ],
            "text/plain": [
              "               Frequência absoluta  Frequência relativa (%)\n",
              "DESCRIÇÃO                                                  \n",
              "Não                          15374                    92.86\n",
              "Sim                           1100                     6.64\n",
              "Não informado                   82                     0.50"
            ]
          },
          "metadata": {
            "tags": []
          }
        },
        {
          "output_type": "stream",
          "text": [
            "\n",
            "\n",
            "Você achou este questionário constrangedor? \n",
            "\n"
          ],
          "name": "stdout"
        },
        {
          "output_type": "display_data",
          "data": {
            "text/html": [
              "<div>\n",
              "<style scoped>\n",
              "    .dataframe tbody tr th:only-of-type {\n",
              "        vertical-align: middle;\n",
              "    }\n",
              "\n",
              "    .dataframe tbody tr th {\n",
              "        vertical-align: top;\n",
              "    }\n",
              "\n",
              "    .dataframe thead th {\n",
              "        text-align: right;\n",
              "    }\n",
              "</style>\n",
              "<table border=\"1\" class=\"dataframe\">\n",
              "  <thead>\n",
              "    <tr style=\"text-align: right;\">\n",
              "      <th></th>\n",
              "      <th>Frequência absoluta</th>\n",
              "      <th>Frequência relativa (%)</th>\n",
              "    </tr>\n",
              "    <tr>\n",
              "      <th>DESCRIÇÃO</th>\n",
              "      <th></th>\n",
              "      <th></th>\n",
              "    </tr>\n",
              "  </thead>\n",
              "  <tbody>\n",
              "    <tr>\n",
              "      <th>Não</th>\n",
              "      <td>16285</td>\n",
              "      <td>98.36</td>\n",
              "    </tr>\n",
              "    <tr>\n",
              "      <th>Sim</th>\n",
              "      <td>189</td>\n",
              "      <td>1.14</td>\n",
              "    </tr>\n",
              "    <tr>\n",
              "      <th>Não informado</th>\n",
              "      <td>82</td>\n",
              "      <td>0.50</td>\n",
              "    </tr>\n",
              "  </tbody>\n",
              "</table>\n",
              "</div>"
            ],
            "text/plain": [
              "               Frequência absoluta  Frequência relativa (%)\n",
              "DESCRIÇÃO                                                  \n",
              "Não                          16285                    98.36\n",
              "Sim                            189                     1.14\n",
              "Não informado                   82                     0.50"
            ]
          },
          "metadata": {
            "tags": []
          }
        },
        {
          "output_type": "stream",
          "text": [
            "\n",
            "\n"
          ],
          "name": "stdout"
        }
      ]
    },
    {
      "cell_type": "markdown",
      "metadata": {
        "id": "EmNU_icIvL-E"
      },
      "source": [
        "- Sendo bem exato, as duas primeiras perguntas são contraditórias, entretanto tiveram porcentagens bem estranhas. **Talvez a maioria dos adolescentes acharam esse questionário não tão fácil de ser respondido, mas que também não foi absolutamente difícil.** O ideal é colocar níveis de dificuldade para elas responderem;\n",
        "- O mesmo acontece para a terceira e quarta pergunta, elas são contraditórias mas **as pessoas acharam o questionário não tão chato quanto também não tão legal**, se posicionando em um meio termo;\n",
        "- **65,34% dos adolescentes não achou o questionário interessante**;\n",
        "- **92,26% dos adolescentes não achou o questionário informativo**;\n",
        "- **92,86% dos adolescentes não achou o questionário cansativo**;\n",
        "- **98,36% dos adolescentes não achou o questionário constrangedor**.\n",
        "\n",
        "Concluímos então que, as únicas reclamações majoritárias foram em relação a **dificuldade** (média) do questionário, a **diversão** (média) e ao **interesse** (baixo) em respondê-lo. Não houve, em sua grande parte, constrangimento e cansaço, sendo assim podemos supor que, a maioria das respostas não possui um viés distorcivo.\n",
        "\n",
        "Estamos um pouco mais seguros quanto a confiança das respostas dos entrevistados. \n"
      ]
    },
    {
      "cell_type": "markdown",
      "metadata": {
        "id": "hO7ycDCdPWEQ"
      },
      "source": [
        "---\n",
        "## **Análise exploratória**\n"
      ]
    },
    {
      "cell_type": "markdown",
      "metadata": {
        "id": "ViPEWba5RYUw"
      },
      "source": [
        "### **Verificando valores faltantes**"
      ]
    },
    {
      "cell_type": "markdown",
      "metadata": {
        "id": "xH6Kxe1cO2Ix"
      },
      "source": [
        "Antes de começar a análise de fato, é sempre uma boa prática verificarmos os dados faltantes no DataFrame!"
      ]
    },
    {
      "cell_type": "code",
      "metadata": {
        "colab": {
          "base_uri": "https://localhost:8080/",
          "height": 204
        },
        "id": "si2FLLUwMTbM",
        "outputId": "07fe2484-70d6-4660-8697-5648078deb1e"
      },
      "source": [
        "# Tabela de contagem dos valores nulos por variável\n",
        "na_count_table = pense_student.isna().sum().reset_index()\n",
        "na_count_table.rename({'index':'variavel', 0:'contagem'}, axis=1, inplace=True)\n",
        "na_count_table.head()"
      ],
      "execution_count": null,
      "outputs": [
        {
          "output_type": "execute_result",
          "data": {
            "text/html": [
              "<div>\n",
              "<style scoped>\n",
              "    .dataframe tbody tr th:only-of-type {\n",
              "        vertical-align: middle;\n",
              "    }\n",
              "\n",
              "    .dataframe tbody tr th {\n",
              "        vertical-align: top;\n",
              "    }\n",
              "\n",
              "    .dataframe thead th {\n",
              "        text-align: right;\n",
              "    }\n",
              "</style>\n",
              "<table border=\"1\" class=\"dataframe\">\n",
              "  <thead>\n",
              "    <tr style=\"text-align: right;\">\n",
              "      <th></th>\n",
              "      <th>variavel</th>\n",
              "      <th>contagem</th>\n",
              "    </tr>\n",
              "  </thead>\n",
              "  <tbody>\n",
              "    <tr>\n",
              "      <th>0</th>\n",
              "      <td>ANOPESQ</td>\n",
              "      <td>0</td>\n",
              "    </tr>\n",
              "    <tr>\n",
              "      <th>1</th>\n",
              "      <td>PAIS</td>\n",
              "      <td>0</td>\n",
              "    </tr>\n",
              "    <tr>\n",
              "      <th>2</th>\n",
              "      <td>REGEOGR</td>\n",
              "      <td>0</td>\n",
              "    </tr>\n",
              "    <tr>\n",
              "      <th>3</th>\n",
              "      <td>VB00004</td>\n",
              "      <td>0</td>\n",
              "    </tr>\n",
              "    <tr>\n",
              "      <th>4</th>\n",
              "      <td>VB01001</td>\n",
              "      <td>0</td>\n",
              "    </tr>\n",
              "  </tbody>\n",
              "</table>\n",
              "</div>"
            ],
            "text/plain": [
              "  variavel  contagem\n",
              "0  ANOPESQ         0\n",
              "1     PAIS         0\n",
              "2  REGEOGR         0\n",
              "3  VB00004         0\n",
              "4  VB01001         0"
            ]
          },
          "metadata": {
            "tags": []
          },
          "execution_count": 22
        }
      ]
    },
    {
      "cell_type": "code",
      "metadata": {
        "colab": {
          "base_uri": "https://localhost:8080/",
          "height": 266
        },
        "id": "ygI2lUNbNdv6",
        "outputId": "0c6a8be1-331a-41e8-8c84-f42cb7c5f184"
      },
      "source": [
        "# Variáveis que apresentam valores nulos\n",
        "variables_with_na = na_count_table.query('contagem != 0')\n",
        "display(variables_with_na)"
      ],
      "execution_count": null,
      "outputs": [
        {
          "output_type": "display_data",
          "data": {
            "text/html": [
              "<div>\n",
              "<style scoped>\n",
              "    .dataframe tbody tr th:only-of-type {\n",
              "        vertical-align: middle;\n",
              "    }\n",
              "\n",
              "    .dataframe tbody tr th {\n",
              "        vertical-align: top;\n",
              "    }\n",
              "\n",
              "    .dataframe thead th {\n",
              "        text-align: right;\n",
              "    }\n",
              "</style>\n",
              "<table border=\"1\" class=\"dataframe\">\n",
              "  <thead>\n",
              "    <tr style=\"text-align: right;\">\n",
              "      <th></th>\n",
              "      <th>variavel</th>\n",
              "      <th>contagem</th>\n",
              "    </tr>\n",
              "  </thead>\n",
              "  <tbody>\n",
              "    <tr>\n",
              "      <th>58</th>\n",
              "      <td>TEMPODESLOC</td>\n",
              "      <td>33</td>\n",
              "    </tr>\n",
              "    <tr>\n",
              "      <th>59</th>\n",
              "      <td>TEMPOTOTAL</td>\n",
              "      <td>20</td>\n",
              "    </tr>\n",
              "    <tr>\n",
              "      <th>60</th>\n",
              "      <td>TEMPOEDFIS</td>\n",
              "      <td>84</td>\n",
              "    </tr>\n",
              "    <tr>\n",
              "      <th>61</th>\n",
              "      <td>TEMPOEXTRA</td>\n",
              "      <td>93</td>\n",
              "    </tr>\n",
              "    <tr>\n",
              "      <th>62</th>\n",
              "      <td>TEMPOEST</td>\n",
              "      <td>110</td>\n",
              "    </tr>\n",
              "    <tr>\n",
              "      <th>165</th>\n",
              "      <td>VB17001</td>\n",
              "      <td>45</td>\n",
              "    </tr>\n",
              "    <tr>\n",
              "      <th>166</th>\n",
              "      <td>VB17002</td>\n",
              "      <td>47</td>\n",
              "    </tr>\n",
              "  </tbody>\n",
              "</table>\n",
              "</div>"
            ],
            "text/plain": [
              "        variavel  contagem\n",
              "58   TEMPODESLOC        33\n",
              "59    TEMPOTOTAL        20\n",
              "60    TEMPOEDFIS        84\n",
              "61    TEMPOEXTRA        93\n",
              "62      TEMPOEST       110\n",
              "165      VB17001        45\n",
              "166      VB17002        47"
            ]
          },
          "metadata": {
            "tags": []
          }
        }
      ]
    },
    {
      "cell_type": "code",
      "metadata": {
        "colab": {
          "base_uri": "https://localhost:8080/"
        },
        "id": "Ddv2jVRxP9Ar",
        "outputId": "cfbae2dc-165c-4ed4-c7cb-da8b43b38d0a"
      },
      "source": [
        "# Verificando o que são essas variáveis\n",
        "for variable in variables_with_na['variavel']:\n",
        "  print(f'{variable}: {dict_student[variable]}\\n')"
      ],
      "execution_count": null,
      "outputs": [
        {
          "output_type": "stream",
          "text": [
            "TEMPODESLOC: Refere-se ao tempo médio diário acumulado pelo escolar, com o deslocamento da casa para escola e da escola para casa feito a pé ou de bicicleta, nos últimos sete dias anteriores à pesquisa. Em minutos.\n",
            "\n",
            "TEMPOTOTAL: A atividade física acumulada foi estimada calculando o produto entre o número de dias e o tempo médio que os escolares gastam em atividades físicas, nos sete dias anteriores à pesquisa, considerando os seguintes domínios: ir e voltar da escola, aulas de educação física e outras atividades extraescolares. Em minutos.\n",
            "\n",
            "TEMPOEDFIS: Refere-se ao tempo médio acumulado, nos últimos sete dias anteriores à pesquisa, que o escolar fez atividade física ou esporte durante as aulas de educação física na escola. Em minutos.\n",
            "\n",
            "TEMPOEXTRA: Refere-se ao tempo médio diário acumulado pelo escolar com a prática de alguma atividade física extraescolar como esportes, dança, ginástica, musculação, lutas ou outra atividade, nos últimos sete dias anteriores à data da pesquisa. Em minutos\n",
            "\n",
            "TEMPOEST: A atividade física globalmente estimada refere-se ao número de dias que os escolares declararam fazer, pelo menos, uma hora por dia de atividade física, nos sete dias anteriores à pesquisa. Em minutos.\n",
            "\n",
            "VB17001: Qual é o peso do(a) aluno(a)?\n",
            "\n",
            "VB17002: Qual é a altura do(a) aluno(a)?\n",
            "\n"
          ],
          "name": "stdout"
        }
      ]
    },
    {
      "cell_type": "markdown",
      "metadata": {
        "id": "aklQdFH0XLtF"
      },
      "source": [
        "Aparentemente essas variáveis são valores contínuos e que, para as nossas futuras análises, não serão tão interessantes. Sendo assim, creio que não é preciso se preocupar com elas.\n",
        "\n",
        "**Observação:** O peso e a altura estão melhor representados nas variáveis \"**VB17003**\" e \"**VB17004**\", respectivamente."
      ]
    },
    {
      "cell_type": "markdown",
      "metadata": {
        "id": "gmAs4cTBlikD"
      },
      "source": [
        "### **Idéia descartada e inspirações**\n",
        "A imagem corporal não foi um tema que pensei de primeira. Na verdade, a primeira coisa que fiz foi buscar algo voltado para o **bullying na adolescência**. Descobri algumas coisas sobre o assunto e deixarei abaixo um pouco da minha análise inicial."
      ]
    },
    {
      "cell_type": "markdown",
      "metadata": {
        "id": "6Yg9xuDX775x"
      },
      "source": [
        "#### **Algumas variáveis possíveis**"
      ]
    },
    {
      "cell_type": "code",
      "metadata": {
        "colab": {
          "base_uri": "https://localhost:8080/"
        },
        "id": "cZ2CwwMjlikF",
        "outputId": "a91c2968-5418-4733-a6ca-ff36438b4b93"
      },
      "source": [
        "# Variáveis possíveis que iriam ser utilizadas\n",
        "bullying_variables = dictionary_df.loc[dictionary_df['VARIÁVEL'].str.contains('VB07') == True]['VARIÁVEL']\n",
        "\n",
        "for variable in bullying_variables:\n",
        "  show_description_of_question(variable)\n",
        "  print('\\n')"
      ],
      "execution_count": null,
      "outputs": [
        {
          "output_type": "stream",
          "text": [
            "ID da pergunta: VB07001\n",
            "NOS ÚLTIMOS 30 DIAS, em quantos dias você faltou às aulas ou à escola sem permissão dos seus pais ou responsáveis?\n"
          ],
          "name": "stdout"
        },
        {
          "output_type": "display_data",
          "data": {
            "text/html": [
              "<div>\n",
              "<style scoped>\n",
              "    .dataframe tbody tr th:only-of-type {\n",
              "        vertical-align: middle;\n",
              "    }\n",
              "\n",
              "    .dataframe tbody tr th {\n",
              "        vertical-align: top;\n",
              "    }\n",
              "\n",
              "    .dataframe thead th {\n",
              "        text-align: right;\n",
              "    }\n",
              "</style>\n",
              "<table border=\"1\" class=\"dataframe\">\n",
              "  <thead>\n",
              "    <tr style=\"text-align: right;\">\n",
              "      <th></th>\n",
              "      <th>DESCRIÇÃO</th>\n",
              "    </tr>\n",
              "    <tr>\n",
              "      <th>VARIÁVEL</th>\n",
              "      <th></th>\n",
              "    </tr>\n",
              "  </thead>\n",
              "  <tbody>\n",
              "    <tr>\n",
              "      <th>1.0</th>\n",
              "      <td>Nenhum dia nos últimos 30 dias (0 dia)</td>\n",
              "    </tr>\n",
              "    <tr>\n",
              "      <th>2.0</th>\n",
              "      <td>1 ou 2 dias nos últimos 30 dias</td>\n",
              "    </tr>\n",
              "    <tr>\n",
              "      <th>3.0</th>\n",
              "      <td>3 a 5 dias nos últimos 30 dias</td>\n",
              "    </tr>\n",
              "    <tr>\n",
              "      <th>4.0</th>\n",
              "      <td>6 a 9 dias nos últimos 30 dias</td>\n",
              "    </tr>\n",
              "    <tr>\n",
              "      <th>5.0</th>\n",
              "      <td>10 ou mais dias nos últimos 30 dias</td>\n",
              "    </tr>\n",
              "    <tr>\n",
              "      <th>99.0</th>\n",
              "      <td>Não informado</td>\n",
              "    </tr>\n",
              "  </tbody>\n",
              "</table>\n",
              "</div>"
            ],
            "text/plain": [
              "                                       DESCRIÇÃO\n",
              "VARIÁVEL                                        \n",
              "1.0       Nenhum dia nos últimos 30 dias (0 dia)\n",
              "2.0              1 ou 2 dias nos últimos 30 dias\n",
              "3.0               3 a 5 dias nos últimos 30 dias\n",
              "4.0               6 a 9 dias nos últimos 30 dias\n",
              "5.0          10 ou mais dias nos últimos 30 dias\n",
              "99.0                               Não informado"
            ]
          },
          "metadata": {
            "tags": []
          }
        },
        {
          "output_type": "stream",
          "text": [
            "\n",
            "\n",
            "ID da pergunta: VB07002\n",
            "NOS ÚLTIMOS 30 DIAS, com que frequência seus pais ou responsáveis sabiam realmente o que você estava fazendo em seu tempo livre?\n"
          ],
          "name": "stdout"
        },
        {
          "output_type": "display_data",
          "data": {
            "text/html": [
              "<div>\n",
              "<style scoped>\n",
              "    .dataframe tbody tr th:only-of-type {\n",
              "        vertical-align: middle;\n",
              "    }\n",
              "\n",
              "    .dataframe tbody tr th {\n",
              "        vertical-align: top;\n",
              "    }\n",
              "\n",
              "    .dataframe thead th {\n",
              "        text-align: right;\n",
              "    }\n",
              "</style>\n",
              "<table border=\"1\" class=\"dataframe\">\n",
              "  <thead>\n",
              "    <tr style=\"text-align: right;\">\n",
              "      <th></th>\n",
              "      <th>DESCRIÇÃO</th>\n",
              "    </tr>\n",
              "    <tr>\n",
              "      <th>VARIÁVEL</th>\n",
              "      <th></th>\n",
              "    </tr>\n",
              "  </thead>\n",
              "  <tbody>\n",
              "    <tr>\n",
              "      <th>1.0</th>\n",
              "      <td>Nunca</td>\n",
              "    </tr>\n",
              "    <tr>\n",
              "      <th>2.0</th>\n",
              "      <td>Raramente</td>\n",
              "    </tr>\n",
              "    <tr>\n",
              "      <th>3.0</th>\n",
              "      <td>Às vezes</td>\n",
              "    </tr>\n",
              "    <tr>\n",
              "      <th>4.0</th>\n",
              "      <td>Na maior parte do tempo</td>\n",
              "    </tr>\n",
              "    <tr>\n",
              "      <th>5.0</th>\n",
              "      <td>Sempre</td>\n",
              "    </tr>\n",
              "    <tr>\n",
              "      <th>99.0</th>\n",
              "      <td>Não informado</td>\n",
              "    </tr>\n",
              "  </tbody>\n",
              "</table>\n",
              "</div>"
            ],
            "text/plain": [
              "                        DESCRIÇÃO\n",
              "VARIÁVEL                         \n",
              "1.0                         Nunca\n",
              "2.0                     Raramente\n",
              "3.0                      Às vezes\n",
              "4.0       Na maior parte do tempo\n",
              "5.0                        Sempre\n",
              "99.0                Não informado"
            ]
          },
          "metadata": {
            "tags": []
          }
        },
        {
          "output_type": "stream",
          "text": [
            "\n",
            "\n",
            "ID da pergunta: VB07003\n",
            "NOS ÚLTIMOS 30 DIAS, com que frequência seus pais ou responsáveis verificaram se os seus deveres de casa (lição de casa) foram feitos?\n"
          ],
          "name": "stdout"
        },
        {
          "output_type": "display_data",
          "data": {
            "text/html": [
              "<div>\n",
              "<style scoped>\n",
              "    .dataframe tbody tr th:only-of-type {\n",
              "        vertical-align: middle;\n",
              "    }\n",
              "\n",
              "    .dataframe tbody tr th {\n",
              "        vertical-align: top;\n",
              "    }\n",
              "\n",
              "    .dataframe thead th {\n",
              "        text-align: right;\n",
              "    }\n",
              "</style>\n",
              "<table border=\"1\" class=\"dataframe\">\n",
              "  <thead>\n",
              "    <tr style=\"text-align: right;\">\n",
              "      <th></th>\n",
              "      <th>DESCRIÇÃO</th>\n",
              "    </tr>\n",
              "    <tr>\n",
              "      <th>VARIÁVEL</th>\n",
              "      <th></th>\n",
              "    </tr>\n",
              "  </thead>\n",
              "  <tbody>\n",
              "    <tr>\n",
              "      <th>1.0</th>\n",
              "      <td>Nunca</td>\n",
              "    </tr>\n",
              "    <tr>\n",
              "      <th>2.0</th>\n",
              "      <td>Raramente</td>\n",
              "    </tr>\n",
              "    <tr>\n",
              "      <th>3.0</th>\n",
              "      <td>Às vezes</td>\n",
              "    </tr>\n",
              "    <tr>\n",
              "      <th>4.0</th>\n",
              "      <td>Na maior parte do tempo</td>\n",
              "    </tr>\n",
              "    <tr>\n",
              "      <th>5.0</th>\n",
              "      <td>Sempre</td>\n",
              "    </tr>\n",
              "    <tr>\n",
              "      <th>99.0</th>\n",
              "      <td>Não informado</td>\n",
              "    </tr>\n",
              "  </tbody>\n",
              "</table>\n",
              "</div>"
            ],
            "text/plain": [
              "                        DESCRIÇÃO\n",
              "VARIÁVEL                         \n",
              "1.0                         Nunca\n",
              "2.0                     Raramente\n",
              "3.0                      Às vezes\n",
              "4.0       Na maior parte do tempo\n",
              "5.0                        Sempre\n",
              "99.0                Não informado"
            ]
          },
          "metadata": {
            "tags": []
          }
        },
        {
          "output_type": "stream",
          "text": [
            "\n",
            "\n",
            "ID da pergunta: VB07004\n",
            "NOS ÚLTIMOS 30 DIAS, com que frequência seus pais ou responsáveis entenderam seus problemas e preocupações?\n"
          ],
          "name": "stdout"
        },
        {
          "output_type": "display_data",
          "data": {
            "text/html": [
              "<div>\n",
              "<style scoped>\n",
              "    .dataframe tbody tr th:only-of-type {\n",
              "        vertical-align: middle;\n",
              "    }\n",
              "\n",
              "    .dataframe tbody tr th {\n",
              "        vertical-align: top;\n",
              "    }\n",
              "\n",
              "    .dataframe thead th {\n",
              "        text-align: right;\n",
              "    }\n",
              "</style>\n",
              "<table border=\"1\" class=\"dataframe\">\n",
              "  <thead>\n",
              "    <tr style=\"text-align: right;\">\n",
              "      <th></th>\n",
              "      <th>DESCRIÇÃO</th>\n",
              "    </tr>\n",
              "    <tr>\n",
              "      <th>VARIÁVEL</th>\n",
              "      <th></th>\n",
              "    </tr>\n",
              "  </thead>\n",
              "  <tbody>\n",
              "    <tr>\n",
              "      <th>1.0</th>\n",
              "      <td>Nunca</td>\n",
              "    </tr>\n",
              "    <tr>\n",
              "      <th>2.0</th>\n",
              "      <td>Raramente</td>\n",
              "    </tr>\n",
              "    <tr>\n",
              "      <th>3.0</th>\n",
              "      <td>Às vezes</td>\n",
              "    </tr>\n",
              "    <tr>\n",
              "      <th>4.0</th>\n",
              "      <td>Na maior parte do tempo</td>\n",
              "    </tr>\n",
              "    <tr>\n",
              "      <th>5.0</th>\n",
              "      <td>Sempre</td>\n",
              "    </tr>\n",
              "    <tr>\n",
              "      <th>99.0</th>\n",
              "      <td>Não informado</td>\n",
              "    </tr>\n",
              "  </tbody>\n",
              "</table>\n",
              "</div>"
            ],
            "text/plain": [
              "                         DESCRIÇÃO\n",
              "VARIÁVEL                          \n",
              "1.0                         Nunca \n",
              "2.0                     Raramente \n",
              "3.0                      Às vezes \n",
              "4.0       Na maior parte do tempo \n",
              "5.0                         Sempre\n",
              "99.0                 Não informado"
            ]
          },
          "metadata": {
            "tags": []
          }
        },
        {
          "output_type": "stream",
          "text": [
            "\n",
            "\n",
            "ID da pergunta: VB07005\n",
            "NOS ÚLTIMOS 30 DIAS, com que frequência seus pais ou responsáveis mexeram em suas coisas sem a sua concordância?\n"
          ],
          "name": "stdout"
        },
        {
          "output_type": "display_data",
          "data": {
            "text/html": [
              "<div>\n",
              "<style scoped>\n",
              "    .dataframe tbody tr th:only-of-type {\n",
              "        vertical-align: middle;\n",
              "    }\n",
              "\n",
              "    .dataframe tbody tr th {\n",
              "        vertical-align: top;\n",
              "    }\n",
              "\n",
              "    .dataframe thead th {\n",
              "        text-align: right;\n",
              "    }\n",
              "</style>\n",
              "<table border=\"1\" class=\"dataframe\">\n",
              "  <thead>\n",
              "    <tr style=\"text-align: right;\">\n",
              "      <th></th>\n",
              "      <th>DESCRIÇÃO</th>\n",
              "    </tr>\n",
              "    <tr>\n",
              "      <th>VARIÁVEL</th>\n",
              "      <th></th>\n",
              "    </tr>\n",
              "  </thead>\n",
              "  <tbody>\n",
              "    <tr>\n",
              "      <th>1.0</th>\n",
              "      <td>Nunca</td>\n",
              "    </tr>\n",
              "    <tr>\n",
              "      <th>2.0</th>\n",
              "      <td>Raramente</td>\n",
              "    </tr>\n",
              "    <tr>\n",
              "      <th>3.0</th>\n",
              "      <td>Às vezes</td>\n",
              "    </tr>\n",
              "    <tr>\n",
              "      <th>4.0</th>\n",
              "      <td>Na maior parte do tempo</td>\n",
              "    </tr>\n",
              "    <tr>\n",
              "      <th>5.0</th>\n",
              "      <td>Sempre</td>\n",
              "    </tr>\n",
              "    <tr>\n",
              "      <th>99.0</th>\n",
              "      <td>Não informado</td>\n",
              "    </tr>\n",
              "  </tbody>\n",
              "</table>\n",
              "</div>"
            ],
            "text/plain": [
              "                        DESCRIÇÃO\n",
              "VARIÁVEL                         \n",
              "1.0                         Nunca\n",
              "2.0                     Raramente\n",
              "3.0                      Às vezes\n",
              "4.0       Na maior parte do tempo\n",
              "5.0                        Sempre\n",
              "99.0                Não informado"
            ]
          },
          "metadata": {
            "tags": []
          }
        },
        {
          "output_type": "stream",
          "text": [
            "\n",
            "\n",
            "ID da pergunta: VB07006\n",
            "NOS ÚLTIMOS 30 DIAS, com que frequência os colegas de sua escola trataram você bem e/ou foram prestativos contigo?\n"
          ],
          "name": "stdout"
        },
        {
          "output_type": "display_data",
          "data": {
            "text/html": [
              "<div>\n",
              "<style scoped>\n",
              "    .dataframe tbody tr th:only-of-type {\n",
              "        vertical-align: middle;\n",
              "    }\n",
              "\n",
              "    .dataframe tbody tr th {\n",
              "        vertical-align: top;\n",
              "    }\n",
              "\n",
              "    .dataframe thead th {\n",
              "        text-align: right;\n",
              "    }\n",
              "</style>\n",
              "<table border=\"1\" class=\"dataframe\">\n",
              "  <thead>\n",
              "    <tr style=\"text-align: right;\">\n",
              "      <th></th>\n",
              "      <th>DESCRIÇÃO</th>\n",
              "    </tr>\n",
              "    <tr>\n",
              "      <th>VARIÁVEL</th>\n",
              "      <th></th>\n",
              "    </tr>\n",
              "  </thead>\n",
              "  <tbody>\n",
              "    <tr>\n",
              "      <th>1.0</th>\n",
              "      <td>Nunca</td>\n",
              "    </tr>\n",
              "    <tr>\n",
              "      <th>2.0</th>\n",
              "      <td>Raramente</td>\n",
              "    </tr>\n",
              "    <tr>\n",
              "      <th>3.0</th>\n",
              "      <td>Às vezes</td>\n",
              "    </tr>\n",
              "    <tr>\n",
              "      <th>4.0</th>\n",
              "      <td>Na maior parte do tempo</td>\n",
              "    </tr>\n",
              "    <tr>\n",
              "      <th>5.0</th>\n",
              "      <td>Sempre</td>\n",
              "    </tr>\n",
              "    <tr>\n",
              "      <th>99.0</th>\n",
              "      <td>Não informado</td>\n",
              "    </tr>\n",
              "  </tbody>\n",
              "</table>\n",
              "</div>"
            ],
            "text/plain": [
              "                        DESCRIÇÃO\n",
              "VARIÁVEL                         \n",
              "1.0                         Nunca\n",
              "2.0                     Raramente\n",
              "3.0                      Às vezes\n",
              "4.0       Na maior parte do tempo\n",
              "5.0                        Sempre\n",
              "99.0                Não informado"
            ]
          },
          "metadata": {
            "tags": []
          }
        },
        {
          "output_type": "stream",
          "text": [
            "\n",
            "\n",
            "ID da pergunta: VB07007\n",
            "NOS ÚLTIMOS 30 DIAS, com que frequência algum dos seus colegas de escola te esculacharam, zoaram, mangaram, intimidaram ou caçoaram tanto que você ficou magoado, incomodado, aborrecido, ofendido ou humilhado?\n"
          ],
          "name": "stdout"
        },
        {
          "output_type": "display_data",
          "data": {
            "text/html": [
              "<div>\n",
              "<style scoped>\n",
              "    .dataframe tbody tr th:only-of-type {\n",
              "        vertical-align: middle;\n",
              "    }\n",
              "\n",
              "    .dataframe tbody tr th {\n",
              "        vertical-align: top;\n",
              "    }\n",
              "\n",
              "    .dataframe thead th {\n",
              "        text-align: right;\n",
              "    }\n",
              "</style>\n",
              "<table border=\"1\" class=\"dataframe\">\n",
              "  <thead>\n",
              "    <tr style=\"text-align: right;\">\n",
              "      <th></th>\n",
              "      <th>DESCRIÇÃO</th>\n",
              "    </tr>\n",
              "    <tr>\n",
              "      <th>VARIÁVEL</th>\n",
              "      <th></th>\n",
              "    </tr>\n",
              "  </thead>\n",
              "  <tbody>\n",
              "    <tr>\n",
              "      <th>1.0</th>\n",
              "      <td>Nunca</td>\n",
              "    </tr>\n",
              "    <tr>\n",
              "      <th>2.0</th>\n",
              "      <td>Raramente</td>\n",
              "    </tr>\n",
              "    <tr>\n",
              "      <th>3.0</th>\n",
              "      <td>Às vezes</td>\n",
              "    </tr>\n",
              "    <tr>\n",
              "      <th>4.0</th>\n",
              "      <td>Na maior parte do tempo</td>\n",
              "    </tr>\n",
              "    <tr>\n",
              "      <th>5.0</th>\n",
              "      <td>Sempre</td>\n",
              "    </tr>\n",
              "    <tr>\n",
              "      <th>99.0</th>\n",
              "      <td>Não informado</td>\n",
              "    </tr>\n",
              "  </tbody>\n",
              "</table>\n",
              "</div>"
            ],
            "text/plain": [
              "                        DESCRIÇÃO\n",
              "VARIÁVEL                         \n",
              "1.0                         Nunca\n",
              "2.0                     Raramente\n",
              "3.0                      Às vezes\n",
              "4.0       Na maior parte do tempo\n",
              "5.0                        Sempre\n",
              "99.0                Não informado"
            ]
          },
          "metadata": {
            "tags": []
          }
        },
        {
          "output_type": "stream",
          "text": [
            "\n",
            "\n",
            "ID da pergunta: VB07008\n",
            "NOS ÚLTIMOS 30 DIAS, qual o motivo/causa de seus colegas terem te esculachado, zombado, zoado, caçoado, mangado, intimidado ou humilhado?\n"
          ],
          "name": "stdout"
        },
        {
          "output_type": "display_data",
          "data": {
            "text/html": [
              "<div>\n",
              "<style scoped>\n",
              "    .dataframe tbody tr th:only-of-type {\n",
              "        vertical-align: middle;\n",
              "    }\n",
              "\n",
              "    .dataframe tbody tr th {\n",
              "        vertical-align: top;\n",
              "    }\n",
              "\n",
              "    .dataframe thead th {\n",
              "        text-align: right;\n",
              "    }\n",
              "</style>\n",
              "<table border=\"1\" class=\"dataframe\">\n",
              "  <thead>\n",
              "    <tr style=\"text-align: right;\">\n",
              "      <th></th>\n",
              "      <th>DESCRIÇÃO</th>\n",
              "    </tr>\n",
              "    <tr>\n",
              "      <th>VARIÁVEL</th>\n",
              "      <th></th>\n",
              "    </tr>\n",
              "  </thead>\n",
              "  <tbody>\n",
              "    <tr>\n",
              "      <th>-1.0</th>\n",
              "      <td>Pulo no questionário</td>\n",
              "    </tr>\n",
              "    <tr>\n",
              "      <th>1.0</th>\n",
              "      <td>A minha cor ou raça</td>\n",
              "    </tr>\n",
              "    <tr>\n",
              "      <th>2.0</th>\n",
              "      <td>A minha religião</td>\n",
              "    </tr>\n",
              "    <tr>\n",
              "      <th>3.0</th>\n",
              "      <td>A aparência do meu rosto</td>\n",
              "    </tr>\n",
              "    <tr>\n",
              "      <th>4.0</th>\n",
              "      <td>A aparência do meu corpo</td>\n",
              "    </tr>\n",
              "    <tr>\n",
              "      <th>5.0</th>\n",
              "      <td>A minha orientação sexual</td>\n",
              "    </tr>\n",
              "    <tr>\n",
              "      <th>6.0</th>\n",
              "      <td>A minha região de origem</td>\n",
              "    </tr>\n",
              "    <tr>\n",
              "      <th>7.0</th>\n",
              "      <td>Outros motivos/causas</td>\n",
              "    </tr>\n",
              "    <tr>\n",
              "      <th>99.0</th>\n",
              "      <td>Não informado</td>\n",
              "    </tr>\n",
              "  </tbody>\n",
              "</table>\n",
              "</div>"
            ],
            "text/plain": [
              "                          DESCRIÇÃO\n",
              "VARIÁVEL                           \n",
              "-1.0           Pulo no questionário\n",
              " 1.0            A minha cor ou raça\n",
              " 2.0               A minha religião\n",
              " 3.0       A aparência do meu rosto\n",
              " 4.0       A aparência do meu corpo\n",
              " 5.0      A minha orientação sexual\n",
              " 6.0       A minha região de origem\n",
              " 7.0          Outros motivos/causas\n",
              " 99.0                 Não informado"
            ]
          },
          "metadata": {
            "tags": []
          }
        },
        {
          "output_type": "stream",
          "text": [
            "\n",
            "\n",
            "ID da pergunta: VB07009\n",
            "NOS ÚLTIMOS 30 DIAS, você esculachou, zombou, mangou, intimidou ou caçoou algum de seus colegas da escola tanto que ele ficou magoado, aborrecido, ofendido ou humilhado?\n"
          ],
          "name": "stdout"
        },
        {
          "output_type": "display_data",
          "data": {
            "text/html": [
              "<div>\n",
              "<style scoped>\n",
              "    .dataframe tbody tr th:only-of-type {\n",
              "        vertical-align: middle;\n",
              "    }\n",
              "\n",
              "    .dataframe tbody tr th {\n",
              "        vertical-align: top;\n",
              "    }\n",
              "\n",
              "    .dataframe thead th {\n",
              "        text-align: right;\n",
              "    }\n",
              "</style>\n",
              "<table border=\"1\" class=\"dataframe\">\n",
              "  <thead>\n",
              "    <tr style=\"text-align: right;\">\n",
              "      <th></th>\n",
              "      <th>DESCRIÇÃO</th>\n",
              "    </tr>\n",
              "    <tr>\n",
              "      <th>VARIÁVEL</th>\n",
              "      <th></th>\n",
              "    </tr>\n",
              "  </thead>\n",
              "  <tbody>\n",
              "    <tr>\n",
              "      <th>1.0</th>\n",
              "      <td>Sim</td>\n",
              "    </tr>\n",
              "    <tr>\n",
              "      <th>2.0</th>\n",
              "      <td>Não</td>\n",
              "    </tr>\n",
              "    <tr>\n",
              "      <th>99.0</th>\n",
              "      <td>Não informado</td>\n",
              "    </tr>\n",
              "  </tbody>\n",
              "</table>\n",
              "</div>"
            ],
            "text/plain": [
              "              DESCRIÇÃO\n",
              "VARIÁVEL               \n",
              "1.0                 Sim\n",
              "2.0                 Não\n",
              "99.0      Não informado"
            ]
          },
          "metadata": {
            "tags": []
          }
        },
        {
          "output_type": "stream",
          "text": [
            "\n",
            "\n",
            "ID da pergunta: VB07010\n",
            "Você já sofreu bullying?\n"
          ],
          "name": "stdout"
        },
        {
          "output_type": "display_data",
          "data": {
            "text/html": [
              "<div>\n",
              "<style scoped>\n",
              "    .dataframe tbody tr th:only-of-type {\n",
              "        vertical-align: middle;\n",
              "    }\n",
              "\n",
              "    .dataframe tbody tr th {\n",
              "        vertical-align: top;\n",
              "    }\n",
              "\n",
              "    .dataframe thead th {\n",
              "        text-align: right;\n",
              "    }\n",
              "</style>\n",
              "<table border=\"1\" class=\"dataframe\">\n",
              "  <thead>\n",
              "    <tr style=\"text-align: right;\">\n",
              "      <th></th>\n",
              "      <th>DESCRIÇÃO</th>\n",
              "    </tr>\n",
              "    <tr>\n",
              "      <th>VARIÁVEL</th>\n",
              "      <th></th>\n",
              "    </tr>\n",
              "  </thead>\n",
              "  <tbody>\n",
              "    <tr>\n",
              "      <th>1.0</th>\n",
              "      <td>Sim</td>\n",
              "    </tr>\n",
              "    <tr>\n",
              "      <th>2.0</th>\n",
              "      <td>Não</td>\n",
              "    </tr>\n",
              "    <tr>\n",
              "      <th>3.0</th>\n",
              "      <td>Não sei o que é bullying</td>\n",
              "    </tr>\n",
              "    <tr>\n",
              "      <th>99.0</th>\n",
              "      <td>Não informado</td>\n",
              "    </tr>\n",
              "  </tbody>\n",
              "</table>\n",
              "</div>"
            ],
            "text/plain": [
              "                         DESCRIÇÃO\n",
              "VARIÁVEL                          \n",
              "1.0                            Sim\n",
              "2.0                            Não\n",
              "3.0       Não sei o que é bullying\n",
              "99.0                 Não informado"
            ]
          },
          "metadata": {
            "tags": []
          }
        },
        {
          "output_type": "stream",
          "text": [
            "\n",
            "\n"
          ],
          "name": "stdout"
        }
      ]
    },
    {
      "cell_type": "markdown",
      "metadata": {
        "id": "8ckxxBW98NP3"
      },
      "source": [
        "#### **Você já sofreu bullying?**"
      ]
    },
    {
      "cell_type": "markdown",
      "metadata": {
        "id": "xgFLrTx7likJ"
      },
      "source": [
        "Antes de qualquer coisa, entender se o bullying já era algo presente alguma vez na vida dos entrevistados era essencial. Abaixo está uma tabela em que realmente me deixou assustado..."
      ]
    },
    {
      "cell_type": "code",
      "metadata": {
        "colab": {
          "base_uri": "https://localhost:8080/",
          "height": 238
        },
        "id": "Ywahl8ztlikJ",
        "outputId": "ad33266b-0426-4898-b27d-6b2102e545b6"
      },
      "source": [
        "show_freq_table('VB07010', pense_student)"
      ],
      "execution_count": null,
      "outputs": [
        {
          "output_type": "stream",
          "text": [
            "Você já sofreu bullying? \n",
            "\n"
          ],
          "name": "stdout"
        },
        {
          "output_type": "display_data",
          "data": {
            "text/html": [
              "<div>\n",
              "<style scoped>\n",
              "    .dataframe tbody tr th:only-of-type {\n",
              "        vertical-align: middle;\n",
              "    }\n",
              "\n",
              "    .dataframe tbody tr th {\n",
              "        vertical-align: top;\n",
              "    }\n",
              "\n",
              "    .dataframe thead th {\n",
              "        text-align: right;\n",
              "    }\n",
              "</style>\n",
              "<table border=\"1\" class=\"dataframe\">\n",
              "  <thead>\n",
              "    <tr style=\"text-align: right;\">\n",
              "      <th></th>\n",
              "      <th>Frequência absoluta</th>\n",
              "      <th>Frequência relativa (%)</th>\n",
              "    </tr>\n",
              "    <tr>\n",
              "      <th>DESCRIÇÃO</th>\n",
              "      <th></th>\n",
              "      <th></th>\n",
              "    </tr>\n",
              "  </thead>\n",
              "  <tbody>\n",
              "    <tr>\n",
              "      <th>Não</th>\n",
              "      <td>8533</td>\n",
              "      <td>51.54</td>\n",
              "    </tr>\n",
              "    <tr>\n",
              "      <th>Sim</th>\n",
              "      <td>7584</td>\n",
              "      <td>45.81</td>\n",
              "    </tr>\n",
              "    <tr>\n",
              "      <th>Não sei o que é bullying</th>\n",
              "      <td>387</td>\n",
              "      <td>2.34</td>\n",
              "    </tr>\n",
              "    <tr>\n",
              "      <th>Não informado</th>\n",
              "      <td>52</td>\n",
              "      <td>0.31</td>\n",
              "    </tr>\n",
              "  </tbody>\n",
              "</table>\n",
              "</div>"
            ],
            "text/plain": [
              "                          Frequência absoluta  Frequência relativa (%)\n",
              "DESCRIÇÃO                                                             \n",
              "Não                                      8533                    51.54\n",
              "Sim                                      7584                    45.81\n",
              "Não sei o que é bullying                  387                     2.34\n",
              "Não informado                              52                     0.31"
            ]
          },
          "metadata": {
            "tags": []
          }
        }
      ]
    },
    {
      "cell_type": "markdown",
      "metadata": {
        "id": "ZqMQukvblikK"
      },
      "source": [
        "- **Dos 16.556 adolescentes entrevistados, 45,81% relataram que já sofreram bullying alguma vez na vida.**"
      ]
    },
    {
      "cell_type": "markdown",
      "metadata": {
        "id": "t2aBNCcNJX5b"
      },
      "source": [
        "Mas quais eram as razões que mais atormentaram essas pessoas?\n",
        "\n",
        "Para entender as justificativas não havia algum método, pois não fora perguntado. Entretanto, no questionário existia uma variável que poderia nos dar uma pista:\n",
        "\n",
        "- **VB07008**: \"NOS ÚLTIMOS 30 DIAS, qual o motivo/causa de seus colegas terem te esculachado, zombado, zoado, caçoado, mangado, intimidado ou humilhado?\"\n",
        "\n",
        "Pelo menos temos um marcador que nos dê alguma idéia para entender o bullying entre os jovens."
      ]
    },
    {
      "cell_type": "markdown",
      "metadata": {
        "id": "cheP7ptC89L8"
      },
      "source": [
        "#### **Quais os motivos pelo qual você foi zoado recentemente?**"
      ]
    },
    {
      "cell_type": "code",
      "metadata": {
        "colab": {
          "base_uri": "https://localhost:8080/",
          "height": 393
        },
        "id": "Dbi71tqylikR",
        "outputId": "fc0c1f66-ae60-4380-ba81-54802b8e8a89"
      },
      "source": [
        "show_freq_table('VB07008', pense_student)"
      ],
      "execution_count": null,
      "outputs": [
        {
          "output_type": "stream",
          "text": [
            "NOS ÚLTIMOS 30 DIAS, qual o motivo/causa de seus colegas terem te esculachado, zombado, zoado, caçoado, mangado, intimidado ou humilhado? \n",
            "\n"
          ],
          "name": "stdout"
        },
        {
          "output_type": "display_data",
          "data": {
            "text/html": [
              "<div>\n",
              "<style scoped>\n",
              "    .dataframe tbody tr th:only-of-type {\n",
              "        vertical-align: middle;\n",
              "    }\n",
              "\n",
              "    .dataframe tbody tr th {\n",
              "        vertical-align: top;\n",
              "    }\n",
              "\n",
              "    .dataframe thead th {\n",
              "        text-align: right;\n",
              "    }\n",
              "</style>\n",
              "<table border=\"1\" class=\"dataframe\">\n",
              "  <thead>\n",
              "    <tr style=\"text-align: right;\">\n",
              "      <th></th>\n",
              "      <th>Frequência absoluta</th>\n",
              "      <th>Frequência relativa (%)</th>\n",
              "    </tr>\n",
              "    <tr>\n",
              "      <th>DESCRIÇÃO</th>\n",
              "      <th></th>\n",
              "      <th></th>\n",
              "    </tr>\n",
              "  </thead>\n",
              "  <tbody>\n",
              "    <tr>\n",
              "      <th>Pulo no questionário</th>\n",
              "      <td>9250</td>\n",
              "      <td>55.87</td>\n",
              "    </tr>\n",
              "    <tr>\n",
              "      <th>Outros motivos/causas</th>\n",
              "      <td>4489</td>\n",
              "      <td>27.11</td>\n",
              "    </tr>\n",
              "    <tr>\n",
              "      <th>A aparência do meu corpo</th>\n",
              "      <td>1110</td>\n",
              "      <td>6.70</td>\n",
              "    </tr>\n",
              "    <tr>\n",
              "      <th>A aparência do meu rosto</th>\n",
              "      <td>705</td>\n",
              "      <td>4.26</td>\n",
              "    </tr>\n",
              "    <tr>\n",
              "      <th>A minha cor ou raça</th>\n",
              "      <td>403</td>\n",
              "      <td>2.43</td>\n",
              "    </tr>\n",
              "    <tr>\n",
              "      <th>A minha religião</th>\n",
              "      <td>241</td>\n",
              "      <td>1.46</td>\n",
              "    </tr>\n",
              "    <tr>\n",
              "      <th>A minha orientação sexual</th>\n",
              "      <td>160</td>\n",
              "      <td>0.97</td>\n",
              "    </tr>\n",
              "    <tr>\n",
              "      <th>A minha região de origem</th>\n",
              "      <td>119</td>\n",
              "      <td>0.72</td>\n",
              "    </tr>\n",
              "    <tr>\n",
              "      <th>Não informado</th>\n",
              "      <td>79</td>\n",
              "      <td>0.48</td>\n",
              "    </tr>\n",
              "  </tbody>\n",
              "</table>\n",
              "</div>"
            ],
            "text/plain": [
              "                           Frequência absoluta  Frequência relativa (%)\n",
              "DESCRIÇÃO                                                              \n",
              "Pulo no questionário                      9250                    55.87\n",
              "Outros motivos/causas                     4489                    27.11\n",
              "A aparência do meu corpo                  1110                     6.70\n",
              "A aparência do meu rosto                   705                     4.26\n",
              "A minha cor ou raça                        403                     2.43\n",
              "A minha religião                           241                     1.46\n",
              "A minha orientação sexual                  160                     0.97\n",
              "A minha região de origem                   119                     0.72\n",
              "Não informado                               79                     0.48"
            ]
          },
          "metadata": {
            "tags": []
          }
        }
      ]
    },
    {
      "cell_type": "markdown",
      "metadata": {
        "id": "nMf1tSJ5_2Ir"
      },
      "source": [
        "Podemos supor que as pessoas pularam o questionário, provavelmente, pelos seguintes motivos:\n",
        "- Não sofreram ou foram atormentados nos últimos 30 dias;\n",
        "- Não se sentiram confortáveis em responder a questão.\n",
        "\n",
        "Sobre a questão de se sentir confortável para responder o questionário, já vimos anteriormente que a maioria dos entrevistados não se sentiram constrangidos. Logo, deduzimos que foi o primeiro motivo citado.\n",
        "\n",
        "Enfim, olhando para a tabela, logo em seguida da primeira colocada, temos \"Outros motivos/causas\", o qual não conseguimos dizer nada a respeito, e abaixo deste temos 2 motivos físicos. Logo:"
      ]
    },
    {
      "cell_type": "markdown",
      "metadata": {
        "id": "7LxRmcVPJdTt"
      },
      "source": [
        "- **Aproximadamente 11% dos entrevistados que foram caçoados nos últimos 30 dias, tiveram como motivo principal a aparência do corpo e do rosto.**"
      ]
    },
    {
      "cell_type": "markdown",
      "metadata": {
        "id": "kI3bneuTAxUY"
      },
      "source": [
        "Pode aparentar não ser tanta coisa, mas dado que foi o motivo que mais apareceu, fiquei curioso e me fez pensar na assunto \"**imagem corporal**\".\n",
        "\n",
        "Sendo assim, indo mais a fundo, será que, de acordo com o **sexo**, eles apresentam uma preocupação diferente a respeito do tema? Podemos expandir esta descoberta para **toda a população** de adolescentes naquela faixa de idade?\n",
        "\n",
        "Esta foi a inspiração para criar este projetinho, espero que gostem! :)"
      ]
    },
    {
      "cell_type": "markdown",
      "metadata": {
        "id": "pp05H3dmEAWp"
      },
      "source": [
        "### **Imagem corporal**"
      ]
    },
    {
      "cell_type": "markdown",
      "metadata": {
        "id": "UesImnjrFMMa"
      },
      "source": [
        "#### **Algumas variáveis possíveis**"
      ]
    },
    {
      "cell_type": "code",
      "metadata": {
        "colab": {
          "base_uri": "https://localhost:8080/"
        },
        "id": "b5b1BxijFSqz",
        "outputId": "443af477-0204-43a7-93c4-c2d8ac6707bf"
      },
      "source": [
        "# Variáveis que podem ser utilizadas\n",
        "body_img_variables = dictionary_df.loc[dictionary_df['VARIÁVEL'].str.contains('VB11') == True]['VARIÁVEL']\n",
        "\n",
        "for variable in body_img_variables:\n",
        "  show_description_of_question(variable)\n",
        "  print('\\n')"
      ],
      "execution_count": null,
      "outputs": [
        {
          "output_type": "stream",
          "text": [
            "ID da pergunta: VB11006\n",
            "Você considera sua imagem corporal como sendo algo:\n"
          ],
          "name": "stdout"
        },
        {
          "output_type": "display_data",
          "data": {
            "text/html": [
              "<div>\n",
              "<style scoped>\n",
              "    .dataframe tbody tr th:only-of-type {\n",
              "        vertical-align: middle;\n",
              "    }\n",
              "\n",
              "    .dataframe tbody tr th {\n",
              "        vertical-align: top;\n",
              "    }\n",
              "\n",
              "    .dataframe thead th {\n",
              "        text-align: right;\n",
              "    }\n",
              "</style>\n",
              "<table border=\"1\" class=\"dataframe\">\n",
              "  <thead>\n",
              "    <tr style=\"text-align: right;\">\n",
              "      <th></th>\n",
              "      <th>DESCRIÇÃO</th>\n",
              "    </tr>\n",
              "    <tr>\n",
              "      <th>VARIÁVEL</th>\n",
              "      <th></th>\n",
              "    </tr>\n",
              "  </thead>\n",
              "  <tbody>\n",
              "    <tr>\n",
              "      <th>1.0</th>\n",
              "      <td>Muito importante</td>\n",
              "    </tr>\n",
              "    <tr>\n",
              "      <th>2.0</th>\n",
              "      <td>Importante</td>\n",
              "    </tr>\n",
              "    <tr>\n",
              "      <th>3.0</th>\n",
              "      <td>Pouco importante</td>\n",
              "    </tr>\n",
              "    <tr>\n",
              "      <th>4.0</th>\n",
              "      <td>Sem importância</td>\n",
              "    </tr>\n",
              "    <tr>\n",
              "      <th>99.0</th>\n",
              "      <td>Não informado</td>\n",
              "    </tr>\n",
              "  </tbody>\n",
              "</table>\n",
              "</div>"
            ],
            "text/plain": [
              "                 DESCRIÇÃO\n",
              "VARIÁVEL                  \n",
              "1.0       Muito importante\n",
              "2.0             Importante\n",
              "3.0       Pouco importante\n",
              "4.0        Sem importância\n",
              "99.0         Não informado"
            ]
          },
          "metadata": {
            "tags": []
          }
        },
        {
          "output_type": "stream",
          "text": [
            "\n",
            "\n",
            "ID da pergunta: VB11007\n",
            "Como você se sente em relação ao seu corpo?\n"
          ],
          "name": "stdout"
        },
        {
          "output_type": "display_data",
          "data": {
            "text/html": [
              "<div>\n",
              "<style scoped>\n",
              "    .dataframe tbody tr th:only-of-type {\n",
              "        vertical-align: middle;\n",
              "    }\n",
              "\n",
              "    .dataframe tbody tr th {\n",
              "        vertical-align: top;\n",
              "    }\n",
              "\n",
              "    .dataframe thead th {\n",
              "        text-align: right;\n",
              "    }\n",
              "</style>\n",
              "<table border=\"1\" class=\"dataframe\">\n",
              "  <thead>\n",
              "    <tr style=\"text-align: right;\">\n",
              "      <th></th>\n",
              "      <th>DESCRIÇÃO</th>\n",
              "    </tr>\n",
              "    <tr>\n",
              "      <th>VARIÁVEL</th>\n",
              "      <th></th>\n",
              "    </tr>\n",
              "  </thead>\n",
              "  <tbody>\n",
              "    <tr>\n",
              "      <th>1.0</th>\n",
              "      <td>Muito satisfeito(a)</td>\n",
              "    </tr>\n",
              "    <tr>\n",
              "      <th>2.0</th>\n",
              "      <td>Satisfeito(a)</td>\n",
              "    </tr>\n",
              "    <tr>\n",
              "      <th>3.0</th>\n",
              "      <td>Indiferente</td>\n",
              "    </tr>\n",
              "    <tr>\n",
              "      <th>4.0</th>\n",
              "      <td>Insatisfeito(a)</td>\n",
              "    </tr>\n",
              "    <tr>\n",
              "      <th>5.0</th>\n",
              "      <td>Muito insatisfeito(a)</td>\n",
              "    </tr>\n",
              "    <tr>\n",
              "      <th>99.0</th>\n",
              "      <td>Não informado</td>\n",
              "    </tr>\n",
              "  </tbody>\n",
              "</table>\n",
              "</div>"
            ],
            "text/plain": [
              "                      DESCRIÇÃO\n",
              "VARIÁVEL                       \n",
              "1.0         Muito satisfeito(a)\n",
              "2.0               Satisfeito(a)\n",
              "3.0                 Indiferente\n",
              "4.0             Insatisfeito(a)\n",
              "5.0       Muito insatisfeito(a)\n",
              "99.0              Não informado"
            ]
          },
          "metadata": {
            "tags": []
          }
        },
        {
          "output_type": "stream",
          "text": [
            "\n",
            "\n",
            "ID da pergunta: VB11001\n",
            "Quanto ao seu corpo, você se considera: \n"
          ],
          "name": "stdout"
        },
        {
          "output_type": "display_data",
          "data": {
            "text/html": [
              "<div>\n",
              "<style scoped>\n",
              "    .dataframe tbody tr th:only-of-type {\n",
              "        vertical-align: middle;\n",
              "    }\n",
              "\n",
              "    .dataframe tbody tr th {\n",
              "        vertical-align: top;\n",
              "    }\n",
              "\n",
              "    .dataframe thead th {\n",
              "        text-align: right;\n",
              "    }\n",
              "</style>\n",
              "<table border=\"1\" class=\"dataframe\">\n",
              "  <thead>\n",
              "    <tr style=\"text-align: right;\">\n",
              "      <th></th>\n",
              "      <th>DESCRIÇÃO</th>\n",
              "    </tr>\n",
              "    <tr>\n",
              "      <th>VARIÁVEL</th>\n",
              "      <th></th>\n",
              "    </tr>\n",
              "  </thead>\n",
              "  <tbody>\n",
              "    <tr>\n",
              "      <th>1.0</th>\n",
              "      <td>Muito magro(a)</td>\n",
              "    </tr>\n",
              "    <tr>\n",
              "      <th>2.0</th>\n",
              "      <td>Magro(a)</td>\n",
              "    </tr>\n",
              "    <tr>\n",
              "      <th>3.0</th>\n",
              "      <td>Normal</td>\n",
              "    </tr>\n",
              "    <tr>\n",
              "      <th>4.0</th>\n",
              "      <td>Gordo(a)</td>\n",
              "    </tr>\n",
              "    <tr>\n",
              "      <th>5.0</th>\n",
              "      <td>Muito Gordo(a)</td>\n",
              "    </tr>\n",
              "    <tr>\n",
              "      <th>99.0</th>\n",
              "      <td>Não informado</td>\n",
              "    </tr>\n",
              "  </tbody>\n",
              "</table>\n",
              "</div>"
            ],
            "text/plain": [
              "                DESCRIÇÃO\n",
              "VARIÁVEL                 \n",
              "1.0       Muito magro(a) \n",
              "2.0              Magro(a)\n",
              "3.0                Normal\n",
              "4.0              Gordo(a)\n",
              "5.0        Muito Gordo(a)\n",
              "99.0        Não informado"
            ]
          },
          "metadata": {
            "tags": []
          }
        },
        {
          "output_type": "stream",
          "text": [
            "\n",
            "\n",
            "ID da pergunta: VB11002\n",
            "O que você está fazendo em relação a seu peso?\n"
          ],
          "name": "stdout"
        },
        {
          "output_type": "display_data",
          "data": {
            "text/html": [
              "<div>\n",
              "<style scoped>\n",
              "    .dataframe tbody tr th:only-of-type {\n",
              "        vertical-align: middle;\n",
              "    }\n",
              "\n",
              "    .dataframe tbody tr th {\n",
              "        vertical-align: top;\n",
              "    }\n",
              "\n",
              "    .dataframe thead th {\n",
              "        text-align: right;\n",
              "    }\n",
              "</style>\n",
              "<table border=\"1\" class=\"dataframe\">\n",
              "  <thead>\n",
              "    <tr style=\"text-align: right;\">\n",
              "      <th></th>\n",
              "      <th>DESCRIÇÃO</th>\n",
              "    </tr>\n",
              "    <tr>\n",
              "      <th>VARIÁVEL</th>\n",
              "      <th></th>\n",
              "    </tr>\n",
              "  </thead>\n",
              "  <tbody>\n",
              "    <tr>\n",
              "      <th>1.0</th>\n",
              "      <td>Não estou fazendo nada</td>\n",
              "    </tr>\n",
              "    <tr>\n",
              "      <th>2.0</th>\n",
              "      <td>Estou tentando perder peso</td>\n",
              "    </tr>\n",
              "    <tr>\n",
              "      <th>3.0</th>\n",
              "      <td>Estou tentando ganhar peso</td>\n",
              "    </tr>\n",
              "    <tr>\n",
              "      <th>4.0</th>\n",
              "      <td>Estou tentando manter o mesmo peso</td>\n",
              "    </tr>\n",
              "    <tr>\n",
              "      <th>99.0</th>\n",
              "      <td>Não informado</td>\n",
              "    </tr>\n",
              "  </tbody>\n",
              "</table>\n",
              "</div>"
            ],
            "text/plain": [
              "                                   DESCRIÇÃO\n",
              "VARIÁVEL                                    \n",
              "1.0                   Não estou fazendo nada\n",
              "2.0               Estou tentando perder peso\n",
              "3.0              Estou tentando ganhar peso \n",
              "4.0       Estou tentando manter o mesmo peso\n",
              "99.0                           Não informado"
            ]
          },
          "metadata": {
            "tags": []
          }
        },
        {
          "output_type": "stream",
          "text": [
            "\n",
            "\n",
            "ID da pergunta: VB11003\n",
            "NOS ÚLTIMOS 30 DIAS, você vomitou ou tomou laxantes para perder peso ou evitar ganhar peso? \n"
          ],
          "name": "stdout"
        },
        {
          "output_type": "display_data",
          "data": {
            "text/html": [
              "<div>\n",
              "<style scoped>\n",
              "    .dataframe tbody tr th:only-of-type {\n",
              "        vertical-align: middle;\n",
              "    }\n",
              "\n",
              "    .dataframe tbody tr th {\n",
              "        vertical-align: top;\n",
              "    }\n",
              "\n",
              "    .dataframe thead th {\n",
              "        text-align: right;\n",
              "    }\n",
              "</style>\n",
              "<table border=\"1\" class=\"dataframe\">\n",
              "  <thead>\n",
              "    <tr style=\"text-align: right;\">\n",
              "      <th></th>\n",
              "      <th>DESCRIÇÃO</th>\n",
              "    </tr>\n",
              "    <tr>\n",
              "      <th>VARIÁVEL</th>\n",
              "      <th></th>\n",
              "    </tr>\n",
              "  </thead>\n",
              "  <tbody>\n",
              "    <tr>\n",
              "      <th>1.0</th>\n",
              "      <td>Sim</td>\n",
              "    </tr>\n",
              "    <tr>\n",
              "      <th>2.0</th>\n",
              "      <td>Não</td>\n",
              "    </tr>\n",
              "    <tr>\n",
              "      <th>99.0</th>\n",
              "      <td>Não informado</td>\n",
              "    </tr>\n",
              "  </tbody>\n",
              "</table>\n",
              "</div>"
            ],
            "text/plain": [
              "              DESCRIÇÃO\n",
              "VARIÁVEL               \n",
              "1.0                 Sim\n",
              "2.0                 Não\n",
              "99.0      Não informado"
            ]
          },
          "metadata": {
            "tags": []
          }
        },
        {
          "output_type": "stream",
          "text": [
            "\n",
            "\n",
            "ID da pergunta: VB11004A\n",
            "NOS ÚLTIMOS 30 DIAS, você tomou algum remédio, fórmula ou outro produto para perder peso, sem acompanhamento médico?\n"
          ],
          "name": "stdout"
        },
        {
          "output_type": "display_data",
          "data": {
            "text/html": [
              "<div>\n",
              "<style scoped>\n",
              "    .dataframe tbody tr th:only-of-type {\n",
              "        vertical-align: middle;\n",
              "    }\n",
              "\n",
              "    .dataframe tbody tr th {\n",
              "        vertical-align: top;\n",
              "    }\n",
              "\n",
              "    .dataframe thead th {\n",
              "        text-align: right;\n",
              "    }\n",
              "</style>\n",
              "<table border=\"1\" class=\"dataframe\">\n",
              "  <thead>\n",
              "    <tr style=\"text-align: right;\">\n",
              "      <th></th>\n",
              "      <th>DESCRIÇÃO</th>\n",
              "    </tr>\n",
              "    <tr>\n",
              "      <th>VARIÁVEL</th>\n",
              "      <th></th>\n",
              "    </tr>\n",
              "  </thead>\n",
              "  <tbody>\n",
              "    <tr>\n",
              "      <th>1.0</th>\n",
              "      <td>Sim</td>\n",
              "    </tr>\n",
              "    <tr>\n",
              "      <th>2.0</th>\n",
              "      <td>Não</td>\n",
              "    </tr>\n",
              "    <tr>\n",
              "      <th>99.0</th>\n",
              "      <td>Não informado</td>\n",
              "    </tr>\n",
              "  </tbody>\n",
              "</table>\n",
              "</div>"
            ],
            "text/plain": [
              "              DESCRIÇÃO\n",
              "VARIÁVEL               \n",
              "1.0                 Sim\n",
              "2.0                 Não\n",
              "99.0      Não informado"
            ]
          },
          "metadata": {
            "tags": []
          }
        },
        {
          "output_type": "stream",
          "text": [
            "\n",
            "\n",
            "ID da pergunta: VB11005\n",
            "NOS ÚLTIMOS 30 DIAS, você tomou algum remédio, fórmula ou outro produto para ganhar peso ou massa muscular sem acompanhamento médico? \n"
          ],
          "name": "stdout"
        },
        {
          "output_type": "display_data",
          "data": {
            "text/html": [
              "<div>\n",
              "<style scoped>\n",
              "    .dataframe tbody tr th:only-of-type {\n",
              "        vertical-align: middle;\n",
              "    }\n",
              "\n",
              "    .dataframe tbody tr th {\n",
              "        vertical-align: top;\n",
              "    }\n",
              "\n",
              "    .dataframe thead th {\n",
              "        text-align: right;\n",
              "    }\n",
              "</style>\n",
              "<table border=\"1\" class=\"dataframe\">\n",
              "  <thead>\n",
              "    <tr style=\"text-align: right;\">\n",
              "      <th></th>\n",
              "      <th>DESCRIÇÃO</th>\n",
              "    </tr>\n",
              "    <tr>\n",
              "      <th>VARIÁVEL</th>\n",
              "      <th></th>\n",
              "    </tr>\n",
              "  </thead>\n",
              "  <tbody>\n",
              "    <tr>\n",
              "      <th>1.0</th>\n",
              "      <td>Sim</td>\n",
              "    </tr>\n",
              "    <tr>\n",
              "      <th>2.0</th>\n",
              "      <td>Não</td>\n",
              "    </tr>\n",
              "    <tr>\n",
              "      <th>99.0</th>\n",
              "      <td>Não informado</td>\n",
              "    </tr>\n",
              "  </tbody>\n",
              "</table>\n",
              "</div>"
            ],
            "text/plain": [
              "              DESCRIÇÃO\n",
              "VARIÁVEL               \n",
              "1.0                 Sim\n",
              "2.0                 Não\n",
              "99.0      Não informado"
            ]
          },
          "metadata": {
            "tags": []
          }
        },
        {
          "output_type": "stream",
          "text": [
            "\n",
            "\n"
          ],
          "name": "stdout"
        }
      ]
    },
    {
      "cell_type": "markdown",
      "metadata": {
        "id": "5YjHouoSHc2y"
      },
      "source": [
        "#### **Perguntas selecionadas**\n",
        "- **VB11006**: \"Você considera sua imagem corporal como sendo algo:\"\n",
        "\n",
        "- **VB11007**: \"Como você se sente em relação ao seu corpo?\"\n",
        "\n",
        "- **VB11001**: \"Quanto ao seu corpo, você se considera:\"\n",
        "\n",
        "- **VB11003**: \"NOS ÚLTIMOS 30 DIAS, você vomitou ou tomou laxantes para perder peso ou evitar ganhar peso?\"\n",
        "\n",
        "- **VB11004A**: \"NOS ÚLTIMOS 30 DIAS, você tomou algum remédio, fórmula ou outro produto para perder peso, sem acompanhamento médico?\"\n",
        "\n",
        "- **VB11005**: \"NOS ÚLTIMOS 30 DIAS, você tomou algum remédio, fórmula ou outro produto para ganhar peso ou massa muscular sem acompanhamento médico?\"\n",
        "\n"
      ]
    },
    {
      "cell_type": "markdown",
      "metadata": {
        "id": "EAZbJQbHLFEE"
      },
      "source": [
        "#### **Imagem corporal é importante?**"
      ]
    },
    {
      "cell_type": "markdown",
      "metadata": {
        "id": "pPOCJnpz4BI8"
      },
      "source": [
        "##### **Adolescentes no geral**"
      ]
    },
    {
      "cell_type": "markdown",
      "metadata": {
        "id": "5HlMq7x8R3z0"
      },
      "source": [
        "###### Tabela de frequências"
      ]
    },
    {
      "cell_type": "code",
      "metadata": {
        "colab": {
          "base_uri": "https://localhost:8080/",
          "height": 269
        },
        "id": "cru1ZiQL2p-Q",
        "outputId": "8e727ce0-5dd4-4b99-98f9-1b642e6020cd"
      },
      "source": [
        "show_freq_table('VB11006', pense_student)"
      ],
      "execution_count": null,
      "outputs": [
        {
          "output_type": "stream",
          "text": [
            "Você considera sua imagem corporal como sendo algo: \n",
            "\n"
          ],
          "name": "stdout"
        },
        {
          "output_type": "display_data",
          "data": {
            "text/html": [
              "<div>\n",
              "<style scoped>\n",
              "    .dataframe tbody tr th:only-of-type {\n",
              "        vertical-align: middle;\n",
              "    }\n",
              "\n",
              "    .dataframe tbody tr th {\n",
              "        vertical-align: top;\n",
              "    }\n",
              "\n",
              "    .dataframe thead th {\n",
              "        text-align: right;\n",
              "    }\n",
              "</style>\n",
              "<table border=\"1\" class=\"dataframe\">\n",
              "  <thead>\n",
              "    <tr style=\"text-align: right;\">\n",
              "      <th></th>\n",
              "      <th>Frequência absoluta</th>\n",
              "      <th>Frequência relativa (%)</th>\n",
              "    </tr>\n",
              "    <tr>\n",
              "      <th>DESCRIÇÃO</th>\n",
              "      <th></th>\n",
              "      <th></th>\n",
              "    </tr>\n",
              "  </thead>\n",
              "  <tbody>\n",
              "    <tr>\n",
              "      <th>Muito importante</th>\n",
              "      <td>7102</td>\n",
              "      <td>42.90</td>\n",
              "    </tr>\n",
              "    <tr>\n",
              "      <th>Importante</th>\n",
              "      <td>6604</td>\n",
              "      <td>39.89</td>\n",
              "    </tr>\n",
              "    <tr>\n",
              "      <th>Pouco importante</th>\n",
              "      <td>1969</td>\n",
              "      <td>11.89</td>\n",
              "    </tr>\n",
              "    <tr>\n",
              "      <th>Sem importância</th>\n",
              "      <td>726</td>\n",
              "      <td>4.39</td>\n",
              "    </tr>\n",
              "    <tr>\n",
              "      <th>Não informado</th>\n",
              "      <td>155</td>\n",
              "      <td>0.94</td>\n",
              "    </tr>\n",
              "  </tbody>\n",
              "</table>\n",
              "</div>"
            ],
            "text/plain": [
              "                  Frequência absoluta  Frequência relativa (%)\n",
              "DESCRIÇÃO                                                     \n",
              "Muito importante                 7102                    42.90\n",
              "Importante                       6604                    39.89\n",
              "Pouco importante                 1969                    11.89\n",
              "Sem importância                   726                     4.39\n",
              "Não informado                     155                     0.94"
            ]
          },
          "metadata": {
            "tags": []
          }
        }
      ]
    },
    {
      "cell_type": "markdown",
      "metadata": {
        "id": "RYr1oSuV3lMT"
      },
      "source": [
        "- **Aproximadamente 80% dos entrevistados responderam que a imagem corporal é importante ou muito importante.**"
      ]
    },
    {
      "cell_type": "markdown",
      "metadata": {
        "id": "xDlhVcRGSN1o"
      },
      "source": [
        "###### Teste qui-quadrado\n",
        "**Observação:** um pouco desse teste estatístico é explicado [neste vídeo](https://www.youtube.com/watch?v=4QfHVbpAoSg)."
      ]
    },
    {
      "cell_type": "markdown",
      "metadata": {
        "id": "DeN4J8KnUUx_"
      },
      "source": [
        "- $H_0$: as diferenças entre o número de considerações distintas não são significativas;\n",
        "\n",
        "- $H_1$: as diferenças entre o número de considerações distintas são significativas;"
      ]
    },
    {
      "cell_type": "code",
      "metadata": {
        "id": "B0RIrZmGH9kz"
      },
      "source": [
        "wanted_df = make_freq_table('VB11006', pense_student)"
      ],
      "execution_count": null,
      "outputs": []
    },
    {
      "cell_type": "code",
      "metadata": {
        "colab": {
          "base_uri": "https://localhost:8080/",
          "height": 204
        },
        "id": "s_tuEDl5c05y",
        "outputId": "964b8b1e-03e3-4a19-c800-49b008f04f3b"
      },
      "source": [
        "# Tabela sem o \"Não informado\"\n",
        "wanted_array = wanted_df[:-1]['Frequência absoluta']\n",
        "display(wanted_array.to_frame())"
      ],
      "execution_count": null,
      "outputs": [
        {
          "output_type": "display_data",
          "data": {
            "text/html": [
              "<div>\n",
              "<style scoped>\n",
              "    .dataframe tbody tr th:only-of-type {\n",
              "        vertical-align: middle;\n",
              "    }\n",
              "\n",
              "    .dataframe tbody tr th {\n",
              "        vertical-align: top;\n",
              "    }\n",
              "\n",
              "    .dataframe thead th {\n",
              "        text-align: right;\n",
              "    }\n",
              "</style>\n",
              "<table border=\"1\" class=\"dataframe\">\n",
              "  <thead>\n",
              "    <tr style=\"text-align: right;\">\n",
              "      <th></th>\n",
              "      <th>Frequência absoluta</th>\n",
              "    </tr>\n",
              "    <tr>\n",
              "      <th>DESCRIÇÃO</th>\n",
              "      <th></th>\n",
              "    </tr>\n",
              "  </thead>\n",
              "  <tbody>\n",
              "    <tr>\n",
              "      <th>Muito importante</th>\n",
              "      <td>7102</td>\n",
              "    </tr>\n",
              "    <tr>\n",
              "      <th>Importante</th>\n",
              "      <td>6604</td>\n",
              "    </tr>\n",
              "    <tr>\n",
              "      <th>Pouco importante</th>\n",
              "      <td>1969</td>\n",
              "    </tr>\n",
              "    <tr>\n",
              "      <th>Sem importância</th>\n",
              "      <td>726</td>\n",
              "    </tr>\n",
              "  </tbody>\n",
              "</table>\n",
              "</div>"
            ],
            "text/plain": [
              "                  Frequência absoluta\n",
              "DESCRIÇÃO                            \n",
              "Muito importante                 7102\n",
              "Importante                       6604\n",
              "Pouco importante                 1969\n",
              "Sem importância                   726"
            ]
          },
          "metadata": {
            "tags": []
          }
        }
      ]
    },
    {
      "cell_type": "code",
      "metadata": {
        "colab": {
          "base_uri": "https://localhost:8080/"
        },
        "id": "n1dnWw_ghjzD",
        "outputId": "1f6e6774-933e-4d90-bd2e-97afbf74c89c"
      },
      "source": [
        "# Teste qui-quadrado\n",
        "do_chi2(wanted_array)"
      ],
      "execution_count": null,
      "outputs": [
        {
          "output_type": "stream",
          "text": [
            "- Nível de significância: 0.05\n",
            "- P-valor: 0.0\n",
            "- Graus de liberdade: 3\n",
            "- Valor qui-quadrado: 7611.013169928663\n",
            "\n",
            "- Resultado: rejeição da hipótese nula.\n"
          ],
          "name": "stdout"
        }
      ]
    },
    {
      "cell_type": "markdown",
      "metadata": {
        "id": "Dr0DZmG7h-VL"
      },
      "source": [
        "Rejeitando a hipótese nula, concluímos então que essa amostra representa bem a população de adolescentes, ou seja, **as diferenças entre as respostas são estatisticamente significativas quando tratamos das pessoas nessa faixa etária**."
      ]
    },
    {
      "cell_type": "markdown",
      "metadata": {
        "id": "0H_dLAxV4OLq"
      },
      "source": [
        "##### **Comparação entre os sexos**"
      ]
    },
    {
      "cell_type": "markdown",
      "metadata": {
        "id": "AoTWOvZ0owjU"
      },
      "source": [
        "###### Tabelas de contingência"
      ]
    },
    {
      "cell_type": "code",
      "metadata": {
        "colab": {
          "base_uri": "https://localhost:8080/",
          "height": 300
        },
        "id": "f9Fiz2jhp2bo",
        "outputId": "e10b936c-9360-421c-8b99-b70905ffd291"
      },
      "source": [
        "show_pivot_table('VB11006', 'VB01001', pense_student)"
      ],
      "execution_count": null,
      "outputs": [
        {
          "output_type": "stream",
          "text": [
            "Tabela dinâmica entre \"VB11006\" e \"VB01001\"\n",
            "\n"
          ],
          "name": "stdout"
        },
        {
          "output_type": "display_data",
          "data": {
            "text/html": [
              "<div>\n",
              "<style scoped>\n",
              "    .dataframe tbody tr th:only-of-type {\n",
              "        vertical-align: middle;\n",
              "    }\n",
              "\n",
              "    .dataframe tbody tr th {\n",
              "        vertical-align: top;\n",
              "    }\n",
              "\n",
              "    .dataframe thead th {\n",
              "        text-align: right;\n",
              "    }\n",
              "</style>\n",
              "<table border=\"1\" class=\"dataframe\">\n",
              "  <thead>\n",
              "    <tr style=\"text-align: right;\">\n",
              "      <th>Qual é o seu sexo?</th>\n",
              "      <th>Feminino</th>\n",
              "      <th>Masculino</th>\n",
              "      <th>Total</th>\n",
              "    </tr>\n",
              "    <tr>\n",
              "      <th>Você considera sua imagem corporal como sendo algo:</th>\n",
              "      <th></th>\n",
              "      <th></th>\n",
              "      <th></th>\n",
              "    </tr>\n",
              "  </thead>\n",
              "  <tbody>\n",
              "    <tr>\n",
              "      <th>Importante</th>\n",
              "      <td>3344</td>\n",
              "      <td>3260</td>\n",
              "      <td>6604</td>\n",
              "    </tr>\n",
              "    <tr>\n",
              "      <th>Muito importante</th>\n",
              "      <td>3691</td>\n",
              "      <td>3411</td>\n",
              "      <td>7102</td>\n",
              "    </tr>\n",
              "    <tr>\n",
              "      <th>Não informado</th>\n",
              "      <td>53</td>\n",
              "      <td>102</td>\n",
              "      <td>155</td>\n",
              "    </tr>\n",
              "    <tr>\n",
              "      <th>Pouco importante</th>\n",
              "      <td>890</td>\n",
              "      <td>1079</td>\n",
              "      <td>1969</td>\n",
              "    </tr>\n",
              "    <tr>\n",
              "      <th>Sem importância</th>\n",
              "      <td>291</td>\n",
              "      <td>435</td>\n",
              "      <td>726</td>\n",
              "    </tr>\n",
              "    <tr>\n",
              "      <th>Total</th>\n",
              "      <td>8269</td>\n",
              "      <td>8287</td>\n",
              "      <td>16556</td>\n",
              "    </tr>\n",
              "  </tbody>\n",
              "</table>\n",
              "</div>"
            ],
            "text/plain": [
              "Qual é o seu sexo?                                  Feminino  Masculino  Total\n",
              "Você considera sua imagem corporal como sendo a...                            \n",
              "Importante                                              3344       3260   6604\n",
              "Muito importante                                        3691       3411   7102\n",
              "Não informado                                             53        102    155\n",
              "Pouco importante                                         890       1079   1969\n",
              "Sem importância                                          291        435    726\n",
              "Total                                                   8269       8287  16556"
            ]
          },
          "metadata": {
            "tags": []
          }
        }
      ]
    },
    {
      "cell_type": "code",
      "metadata": {
        "colab": {
          "base_uri": "https://localhost:8080/",
          "height": 269
        },
        "id": "HepnaGKBpugH",
        "outputId": "aed32752-5972-46ed-9629-974a85c10424"
      },
      "source": [
        "show_percentage_pivot_table('VB11006', 'VB01001', 'index', pense_student)"
      ],
      "execution_count": null,
      "outputs": [
        {
          "output_type": "stream",
          "text": [
            "Tabela dinâmica percentual por linha entre \"VB11006\" e \"VB01001\"\n",
            "\n"
          ],
          "name": "stdout"
        },
        {
          "output_type": "display_data",
          "data": {
            "text/html": [
              "<style  type=\"text/css\" >\n",
              "#T_9eb4b6dc_594b_11eb_a1c8_0242ac1c0002row0_col0,#T_9eb4b6dc_594b_11eb_a1c8_0242ac1c0002row1_col0,#T_9eb4b6dc_594b_11eb_a1c8_0242ac1c0002row2_col1,#T_9eb4b6dc_594b_11eb_a1c8_0242ac1c0002row3_col1,#T_9eb4b6dc_594b_11eb_a1c8_0242ac1c0002row4_col1{\n",
              "            background-color:  #08306b;\n",
              "            color:  #f1f1f1;\n",
              "        }#T_9eb4b6dc_594b_11eb_a1c8_0242ac1c0002row0_col1,#T_9eb4b6dc_594b_11eb_a1c8_0242ac1c0002row1_col1,#T_9eb4b6dc_594b_11eb_a1c8_0242ac1c0002row2_col0,#T_9eb4b6dc_594b_11eb_a1c8_0242ac1c0002row3_col0,#T_9eb4b6dc_594b_11eb_a1c8_0242ac1c0002row4_col0{\n",
              "            background-color:  #f7fbff;\n",
              "            color:  #000000;\n",
              "        }</style><table id=\"T_9eb4b6dc_594b_11eb_a1c8_0242ac1c0002\" class='dataframe'><thead>    <tr>        <th class=\"index_name level0\" >Qual é o seu sexo?</th>        <th class=\"col_heading level0 col0\" >Feminino</th>        <th class=\"col_heading level0 col1\" >Masculino</th>    </tr>    <tr>        <th class=\"index_name level0\" >Você considera sua imagem corporal como sendo algo:</th>        <th class=\"blank\" ></th>        <th class=\"blank\" ></th>    </tr></thead><tbody>\n",
              "                <tr>\n",
              "                        <th id=\"T_9eb4b6dc_594b_11eb_a1c8_0242ac1c0002level0_row0\" class=\"row_heading level0 row0\" >Importante</th>\n",
              "                        <td id=\"T_9eb4b6dc_594b_11eb_a1c8_0242ac1c0002row0_col0\" class=\"data row0 col0\" >50.64</td>\n",
              "                        <td id=\"T_9eb4b6dc_594b_11eb_a1c8_0242ac1c0002row0_col1\" class=\"data row0 col1\" >49.36</td>\n",
              "            </tr>\n",
              "            <tr>\n",
              "                        <th id=\"T_9eb4b6dc_594b_11eb_a1c8_0242ac1c0002level0_row1\" class=\"row_heading level0 row1\" >Muito importante</th>\n",
              "                        <td id=\"T_9eb4b6dc_594b_11eb_a1c8_0242ac1c0002row1_col0\" class=\"data row1 col0\" >51.97</td>\n",
              "                        <td id=\"T_9eb4b6dc_594b_11eb_a1c8_0242ac1c0002row1_col1\" class=\"data row1 col1\" >48.03</td>\n",
              "            </tr>\n",
              "            <tr>\n",
              "                        <th id=\"T_9eb4b6dc_594b_11eb_a1c8_0242ac1c0002level0_row2\" class=\"row_heading level0 row2\" >Não informado</th>\n",
              "                        <td id=\"T_9eb4b6dc_594b_11eb_a1c8_0242ac1c0002row2_col0\" class=\"data row2 col0\" >34.19</td>\n",
              "                        <td id=\"T_9eb4b6dc_594b_11eb_a1c8_0242ac1c0002row2_col1\" class=\"data row2 col1\" >65.81</td>\n",
              "            </tr>\n",
              "            <tr>\n",
              "                        <th id=\"T_9eb4b6dc_594b_11eb_a1c8_0242ac1c0002level0_row3\" class=\"row_heading level0 row3\" >Pouco importante</th>\n",
              "                        <td id=\"T_9eb4b6dc_594b_11eb_a1c8_0242ac1c0002row3_col0\" class=\"data row3 col0\" >45.20</td>\n",
              "                        <td id=\"T_9eb4b6dc_594b_11eb_a1c8_0242ac1c0002row3_col1\" class=\"data row3 col1\" >54.80</td>\n",
              "            </tr>\n",
              "            <tr>\n",
              "                        <th id=\"T_9eb4b6dc_594b_11eb_a1c8_0242ac1c0002level0_row4\" class=\"row_heading level0 row4\" >Sem importância</th>\n",
              "                        <td id=\"T_9eb4b6dc_594b_11eb_a1c8_0242ac1c0002row4_col0\" class=\"data row4 col0\" >40.08</td>\n",
              "                        <td id=\"T_9eb4b6dc_594b_11eb_a1c8_0242ac1c0002row4_col1\" class=\"data row4 col1\" >59.92</td>\n",
              "            </tr>\n",
              "    </tbody></table>"
            ],
            "text/plain": [
              "<pandas.io.formats.style.Styler at 0x7f58e4eabc50>"
            ]
          },
          "metadata": {
            "tags": []
          }
        }
      ]
    },
    {
      "cell_type": "markdown",
      "metadata": {
        "id": "qZ-AcOkUxKON"
      },
      "source": [
        "- **Aparentemente, as pessoas entrevistadas do sexo feminino possuem uma preocupação um pouco maior com a imagem corporal.**"
      ]
    },
    {
      "cell_type": "markdown",
      "metadata": {
        "id": "QKnIK7ajo4up"
      },
      "source": [
        "###### Gráfico de barras"
      ]
    },
    {
      "cell_type": "code",
      "metadata": {
        "id": "iAwPbW-15LWL"
      },
      "source": [
        "# Tabela \"melted\"\n",
        "wanted_df = melt_pct_df('VB11006', 'VB01001', 'index', \n",
        "                                      pense_student)"
      ],
      "execution_count": null,
      "outputs": []
    },
    {
      "cell_type": "code",
      "metadata": {
        "colab": {
          "base_uri": "https://localhost:8080/",
          "height": 568
        },
        "id": "I2jumMwp0U3P",
        "outputId": "ab111256-268a-4e47-9fb8-8681fc9928e7"
      },
      "source": [
        "plt.style.use('seaborn-ticks')\n",
        "plt.figure(figsize=(12, 8))\n",
        "sns.barplot(x='Frequência relativa (%)', \n",
        "            y='Você considera sua imagem corporal como sendo algo:',\n",
        "            data=wanted_df, hue='Qual é o seu sexo?',\n",
        "            palette=['crimson', 'cornflowerblue'])\n",
        "plt.legend(fontsize=12, bbox_to_anchor=(1.15, 0.77))\n",
        "plt.xlim(0, 100)\n",
        "plt.xticks(fontsize=12)\n",
        "plt.yticks(fontsize=12)\n",
        "plt.xlabel('\\nFrequência relativa (%)', fontsize=14)\n",
        "plt.ylabel('')\n",
        "plt.title('Consideração pela imagem corporal separado por sexo - PeNSE 2015\\n',\n",
        "          fontsize=22)\n",
        "plt.grid(linestyle='--', axis='x')\n",
        "sns.despine()"
      ],
      "execution_count": null,
      "outputs": [
        {
          "output_type": "display_data",
          "data": {
            "image/png": "[encoded data removed]",
            "text/plain": [
              "<Figure size 864x576 with 1 Axes>"
            ]
          },
          "metadata": {
            "tags": []
          }
        }
      ]
    },
    {
      "cell_type": "markdown",
      "metadata": {
        "id": "9Q7QURa3o-CK"
      },
      "source": [
        "###### Teste qui-quadrado\n",
        "- $H_0$: As considerações pela imagem corporal entre os sexos são iguais.\n",
        "\n",
        "- $H_1$: As considerações pela imagem corporal entre os sexos são diferentes."
      ]
    },
    {
      "cell_type": "code",
      "metadata": {
        "colab": {
          "base_uri": "https://localhost:8080/",
          "height": 204
        },
        "id": "aY8to_uh34c-",
        "outputId": "7ff5b8cb-3260-47df-97f9-c25d33fd3739"
      },
      "source": [
        "# Tabela a ser usada (sem o \"Não informado\")\n",
        "wanted_df = make_pivot_table('VB11006', 'VB01001', pense_student, \n",
        "                             margins=False)\n",
        "wanted_df = wanted_df[wanted_df.index != 'Não informado']\n",
        "display(wanted_df)"
      ],
      "execution_count": null,
      "outputs": [
        {
          "output_type": "display_data",
          "data": {
            "text/html": [
              "<div>\n",
              "<style scoped>\n",
              "    .dataframe tbody tr th:only-of-type {\n",
              "        vertical-align: middle;\n",
              "    }\n",
              "\n",
              "    .dataframe tbody tr th {\n",
              "        vertical-align: top;\n",
              "    }\n",
              "\n",
              "    .dataframe thead th {\n",
              "        text-align: right;\n",
              "    }\n",
              "</style>\n",
              "<table border=\"1\" class=\"dataframe\">\n",
              "  <thead>\n",
              "    <tr style=\"text-align: right;\">\n",
              "      <th>Qual é o seu sexo?</th>\n",
              "      <th>Feminino</th>\n",
              "      <th>Masculino</th>\n",
              "    </tr>\n",
              "    <tr>\n",
              "      <th>Você considera sua imagem corporal como sendo algo:</th>\n",
              "      <th></th>\n",
              "      <th></th>\n",
              "    </tr>\n",
              "  </thead>\n",
              "  <tbody>\n",
              "    <tr>\n",
              "      <th>Importante</th>\n",
              "      <td>3344</td>\n",
              "      <td>3260</td>\n",
              "    </tr>\n",
              "    <tr>\n",
              "      <th>Muito importante</th>\n",
              "      <td>3691</td>\n",
              "      <td>3411</td>\n",
              "    </tr>\n",
              "    <tr>\n",
              "      <th>Pouco importante</th>\n",
              "      <td>890</td>\n",
              "      <td>1079</td>\n",
              "    </tr>\n",
              "    <tr>\n",
              "      <th>Sem importância</th>\n",
              "      <td>291</td>\n",
              "      <td>435</td>\n",
              "    </tr>\n",
              "  </tbody>\n",
              "</table>\n",
              "</div>"
            ],
            "text/plain": [
              "Qual é o seu sexo?                                  Feminino  Masculino\n",
              "Você considera sua imagem corporal como sendo a...                     \n",
              "Importante                                              3344       3260\n",
              "Muito importante                                        3691       3411\n",
              "Pouco importante                                         890       1079\n",
              "Sem importância                                          291        435"
            ]
          },
          "metadata": {
            "tags": []
          }
        }
      ]
    },
    {
      "cell_type": "code",
      "metadata": {
        "colab": {
          "base_uri": "https://localhost:8080/"
        },
        "id": "Hd_pmtkfAC98",
        "outputId": "114d2624-a2c2-4538-da9b-357f3c95d403"
      },
      "source": [
        "# Teste qui-quadrado\n",
        "do_chi2_contingency(wanted_df)"
      ],
      "execution_count": null,
      "outputs": [
        {
          "output_type": "stream",
          "text": [
            "- Nível de significância: 0.05\n",
            "- P-valor: 1.0855254654227481e-12\n",
            "- Graus de liberdade: 3\n",
            "- Valor qui-quadrado: 58.75288294596466\n",
            "\n",
            "- Resultado: rejeição da hipótese nula.\n"
          ],
          "name": "stdout"
        }
      ]
    },
    {
      "cell_type": "markdown",
      "metadata": {
        "id": "AvqBxmODrg6Z"
      },
      "source": [
        "Podemos ver então que, **com uma significância estatística, as considerações pela imagem corporal é diferente entre os adolescentes do sexo masculino e feminino.**\n",
        "\n"
      ]
    },
    {
      "cell_type": "markdown",
      "metadata": {
        "id": "PBQki0vrsbGZ"
      },
      "source": [
        "#### **Como você se sente em relação ao seu corpo?**"
      ]
    },
    {
      "cell_type": "markdown",
      "metadata": {
        "id": "msI6S1XrWWga"
      },
      "source": [
        "##### **Adolescentes no geral**"
      ]
    },
    {
      "cell_type": "markdown",
      "metadata": {
        "id": "5T3UeY3vXjNH"
      },
      "source": [
        "###### Tabela de frequências"
      ]
    },
    {
      "cell_type": "code",
      "metadata": {
        "colab": {
          "base_uri": "https://localhost:8080/",
          "height": 300
        },
        "id": "nEa4yJI4vT1D",
        "outputId": "7635d6cb-0839-4e4e-8ffc-8837ba497c84"
      },
      "source": [
        "show_freq_table('VB11007', pense_student)"
      ],
      "execution_count": null,
      "outputs": [
        {
          "output_type": "stream",
          "text": [
            "Como você se sente em relação ao seu corpo? \n",
            "\n"
          ],
          "name": "stdout"
        },
        {
          "output_type": "display_data",
          "data": {
            "text/html": [
              "<div>\n",
              "<style scoped>\n",
              "    .dataframe tbody tr th:only-of-type {\n",
              "        vertical-align: middle;\n",
              "    }\n",
              "\n",
              "    .dataframe tbody tr th {\n",
              "        vertical-align: top;\n",
              "    }\n",
              "\n",
              "    .dataframe thead th {\n",
              "        text-align: right;\n",
              "    }\n",
              "</style>\n",
              "<table border=\"1\" class=\"dataframe\">\n",
              "  <thead>\n",
              "    <tr style=\"text-align: right;\">\n",
              "      <th></th>\n",
              "      <th>Frequência absoluta</th>\n",
              "      <th>Frequência relativa (%)</th>\n",
              "    </tr>\n",
              "    <tr>\n",
              "      <th>DESCRIÇÃO</th>\n",
              "      <th></th>\n",
              "      <th></th>\n",
              "    </tr>\n",
              "  </thead>\n",
              "  <tbody>\n",
              "    <tr>\n",
              "      <th>Satisfeito(a)</th>\n",
              "      <td>6920</td>\n",
              "      <td>41.80</td>\n",
              "    </tr>\n",
              "    <tr>\n",
              "      <th>Muito satisfeito(a)</th>\n",
              "      <td>4608</td>\n",
              "      <td>27.83</td>\n",
              "    </tr>\n",
              "    <tr>\n",
              "      <th>Insatisfeito(a)</th>\n",
              "      <td>2326</td>\n",
              "      <td>14.05</td>\n",
              "    </tr>\n",
              "    <tr>\n",
              "      <th>Indiferente</th>\n",
              "      <td>1807</td>\n",
              "      <td>10.91</td>\n",
              "    </tr>\n",
              "    <tr>\n",
              "      <th>Muito insatisfeito(a)</th>\n",
              "      <td>714</td>\n",
              "      <td>4.31</td>\n",
              "    </tr>\n",
              "    <tr>\n",
              "      <th>Não informado</th>\n",
              "      <td>181</td>\n",
              "      <td>1.09</td>\n",
              "    </tr>\n",
              "  </tbody>\n",
              "</table>\n",
              "</div>"
            ],
            "text/plain": [
              "                       Frequência absoluta  Frequência relativa (%)\n",
              "DESCRIÇÃO                                                          \n",
              "Satisfeito(a)                         6920                    41.80\n",
              "Muito satisfeito(a)                   4608                    27.83\n",
              "Insatisfeito(a)                       2326                    14.05\n",
              "Indiferente                           1807                    10.91\n",
              "Muito insatisfeito(a)                  714                     4.31\n",
              "Não informado                          181                     1.09"
            ]
          },
          "metadata": {
            "tags": []
          }
        }
      ]
    },
    {
      "cell_type": "markdown",
      "metadata": {
        "id": "Y7tF7hCTXorN"
      },
      "source": [
        "- **Aproximadamente 18% dos entrevistados se sentem insatisfeitos ou muito insatisfeitos em relação ao próprio corpo.**"
      ]
    },
    {
      "cell_type": "markdown",
      "metadata": {
        "id": "wXM9_pfqZP6A"
      },
      "source": [
        "###### Teste qui-quadrado\n",
        "- $H_0$: as diferenças entre o número de satisfações distintas em relação ao próprio corpo não são significativas;\n",
        "\n",
        "- $H_1$: as diferenças entre o número de satisfações distintas em relação ao próprio corpo são significativas;"
      ]
    },
    {
      "cell_type": "code",
      "metadata": {
        "id": "tFdpT_GLIbqn"
      },
      "source": [
        "wanted_df = make_freq_table('VB11007', pense_student)"
      ],
      "execution_count": null,
      "outputs": []
    },
    {
      "cell_type": "code",
      "metadata": {
        "colab": {
          "base_uri": "https://localhost:8080/",
          "height": 235
        },
        "id": "JAccrTXW0NIP",
        "outputId": "4d7d3a43-6125-457f-d805-f97873776495"
      },
      "source": [
        "# Tabela sem o \"Não informado\"\n",
        "wanted_array = wanted_df[:-1]['Frequência absoluta']\n",
        "display(wanted_array.to_frame())"
      ],
      "execution_count": null,
      "outputs": [
        {
          "output_type": "display_data",
          "data": {
            "text/html": [
              "<div>\n",
              "<style scoped>\n",
              "    .dataframe tbody tr th:only-of-type {\n",
              "        vertical-align: middle;\n",
              "    }\n",
              "\n",
              "    .dataframe tbody tr th {\n",
              "        vertical-align: top;\n",
              "    }\n",
              "\n",
              "    .dataframe thead th {\n",
              "        text-align: right;\n",
              "    }\n",
              "</style>\n",
              "<table border=\"1\" class=\"dataframe\">\n",
              "  <thead>\n",
              "    <tr style=\"text-align: right;\">\n",
              "      <th></th>\n",
              "      <th>Frequência absoluta</th>\n",
              "    </tr>\n",
              "    <tr>\n",
              "      <th>DESCRIÇÃO</th>\n",
              "      <th></th>\n",
              "    </tr>\n",
              "  </thead>\n",
              "  <tbody>\n",
              "    <tr>\n",
              "      <th>Satisfeito(a)</th>\n",
              "      <td>6920</td>\n",
              "    </tr>\n",
              "    <tr>\n",
              "      <th>Muito satisfeito(a)</th>\n",
              "      <td>4608</td>\n",
              "    </tr>\n",
              "    <tr>\n",
              "      <th>Insatisfeito(a)</th>\n",
              "      <td>2326</td>\n",
              "    </tr>\n",
              "    <tr>\n",
              "      <th>Indiferente</th>\n",
              "      <td>1807</td>\n",
              "    </tr>\n",
              "    <tr>\n",
              "      <th>Muito insatisfeito(a)</th>\n",
              "      <td>714</td>\n",
              "    </tr>\n",
              "  </tbody>\n",
              "</table>\n",
              "</div>"
            ],
            "text/plain": [
              "                       Frequência absoluta\n",
              "DESCRIÇÃO                                 \n",
              "Satisfeito(a)                         6920\n",
              "Muito satisfeito(a)                   4608\n",
              "Insatisfeito(a)                       2326\n",
              "Indiferente                           1807\n",
              "Muito insatisfeito(a)                  714"
            ]
          },
          "metadata": {
            "tags": []
          }
        }
      ]
    },
    {
      "cell_type": "code",
      "metadata": {
        "colab": {
          "base_uri": "https://localhost:8080/"
        },
        "id": "MPeX7RwW13zq",
        "outputId": "00cb9510-3258-418f-c003-bff14ca01dc9"
      },
      "source": [
        "# Teste qui-quadrado\n",
        "do_chi2(wanted_array)"
      ],
      "execution_count": null,
      "outputs": [
        {
          "output_type": "stream",
          "text": [
            "- Nível de significância: 0.05\n",
            "- P-valor: 0.0\n",
            "- Graus de liberdade: 4\n",
            "- Valor qui-quadrado: 7535.041221374047\n",
            "\n",
            "- Resultado: rejeição da hipótese nula.\n"
          ],
          "name": "stdout"
        }
      ]
    },
    {
      "cell_type": "markdown",
      "metadata": {
        "id": "Ih6c2LiK3oRH"
      },
      "source": [
        "Como rejeitamos a hipótese nula, temos que **as diferenças entre as respostas possuem uma significância estatística alta**."
      ]
    },
    {
      "cell_type": "markdown",
      "metadata": {
        "id": "q_aubhQKZUKV"
      },
      "source": [
        "##### **Comparação entre os sexos**"
      ]
    },
    {
      "cell_type": "markdown",
      "metadata": {
        "id": "OF2DOjv7ZYQ0"
      },
      "source": [
        "###### Tabelas de contingência"
      ]
    },
    {
      "cell_type": "code",
      "metadata": {
        "colab": {
          "base_uri": "https://localhost:8080/",
          "height": 331
        },
        "id": "T9jjEuWC2NcY",
        "outputId": "aaec9ba6-d752-4086-ce23-2ebee359dccb"
      },
      "source": [
        "show_pivot_table('VB11007', 'VB01001', pense_student)"
      ],
      "execution_count": null,
      "outputs": [
        {
          "output_type": "stream",
          "text": [
            "Tabela dinâmica entre \"VB11007\" e \"VB01001\"\n",
            "\n"
          ],
          "name": "stdout"
        },
        {
          "output_type": "display_data",
          "data": {
            "text/html": [
              "<div>\n",
              "<style scoped>\n",
              "    .dataframe tbody tr th:only-of-type {\n",
              "        vertical-align: middle;\n",
              "    }\n",
              "\n",
              "    .dataframe tbody tr th {\n",
              "        vertical-align: top;\n",
              "    }\n",
              "\n",
              "    .dataframe thead th {\n",
              "        text-align: right;\n",
              "    }\n",
              "</style>\n",
              "<table border=\"1\" class=\"dataframe\">\n",
              "  <thead>\n",
              "    <tr style=\"text-align: right;\">\n",
              "      <th>Qual é o seu sexo?</th>\n",
              "      <th>Feminino</th>\n",
              "      <th>Masculino</th>\n",
              "      <th>Total</th>\n",
              "    </tr>\n",
              "    <tr>\n",
              "      <th>Como você se sente em relação ao seu corpo?</th>\n",
              "      <th></th>\n",
              "      <th></th>\n",
              "      <th></th>\n",
              "    </tr>\n",
              "  </thead>\n",
              "  <tbody>\n",
              "    <tr>\n",
              "      <th>Indiferente</th>\n",
              "      <td>857</td>\n",
              "      <td>950</td>\n",
              "      <td>1807</td>\n",
              "    </tr>\n",
              "    <tr>\n",
              "      <th>Insatisfeito(a)</th>\n",
              "      <td>1540</td>\n",
              "      <td>786</td>\n",
              "      <td>2326</td>\n",
              "    </tr>\n",
              "    <tr>\n",
              "      <th>Muito insatisfeito(a)</th>\n",
              "      <td>454</td>\n",
              "      <td>260</td>\n",
              "      <td>714</td>\n",
              "    </tr>\n",
              "    <tr>\n",
              "      <th>Muito satisfeito(a)</th>\n",
              "      <td>1926</td>\n",
              "      <td>2682</td>\n",
              "      <td>4608</td>\n",
              "    </tr>\n",
              "    <tr>\n",
              "      <th>Não informado</th>\n",
              "      <td>62</td>\n",
              "      <td>119</td>\n",
              "      <td>181</td>\n",
              "    </tr>\n",
              "    <tr>\n",
              "      <th>Satisfeito(a)</th>\n",
              "      <td>3430</td>\n",
              "      <td>3490</td>\n",
              "      <td>6920</td>\n",
              "    </tr>\n",
              "    <tr>\n",
              "      <th>Total</th>\n",
              "      <td>8269</td>\n",
              "      <td>8287</td>\n",
              "      <td>16556</td>\n",
              "    </tr>\n",
              "  </tbody>\n",
              "</table>\n",
              "</div>"
            ],
            "text/plain": [
              "Qual é o seu sexo?                           Feminino  Masculino  Total\n",
              "Como você se sente em relação ao seu corpo?                            \n",
              "Indiferente                                       857        950   1807\n",
              "Insatisfeito(a)                                  1540        786   2326\n",
              "Muito insatisfeito(a)                             454        260    714\n",
              "Muito satisfeito(a)                              1926       2682   4608\n",
              "Não informado                                      62        119    181\n",
              "Satisfeito(a)                                    3430       3490   6920\n",
              "Total                                            8269       8287  16556"
            ]
          },
          "metadata": {
            "tags": []
          }
        }
      ]
    },
    {
      "cell_type": "code",
      "metadata": {
        "colab": {
          "base_uri": "https://localhost:8080/",
          "height": 300
        },
        "id": "6iwH_CL0wzZQ",
        "outputId": "30115ad4-9322-419e-8f0d-fdbb5c12e776"
      },
      "source": [
        "show_percentage_pivot_table('VB11007', 'VB01001', 'index', pense_student)"
      ],
      "execution_count": null,
      "outputs": [
        {
          "output_type": "stream",
          "text": [
            "Tabela dinâmica percentual por linha entre \"VB11007\" e \"VB01001\"\n",
            "\n"
          ],
          "name": "stdout"
        },
        {
          "output_type": "display_data",
          "data": {
            "text/html": [
              "<style  type=\"text/css\" >\n",
              "#T_9f4d838a_594b_11eb_a1c8_0242ac1c0002row0_col0,#T_9f4d838a_594b_11eb_a1c8_0242ac1c0002row1_col1,#T_9f4d838a_594b_11eb_a1c8_0242ac1c0002row2_col1,#T_9f4d838a_594b_11eb_a1c8_0242ac1c0002row3_col0,#T_9f4d838a_594b_11eb_a1c8_0242ac1c0002row4_col0,#T_9f4d838a_594b_11eb_a1c8_0242ac1c0002row5_col0{\n",
              "            background-color:  #f7fbff;\n",
              "            color:  #000000;\n",
              "        }#T_9f4d838a_594b_11eb_a1c8_0242ac1c0002row0_col1,#T_9f4d838a_594b_11eb_a1c8_0242ac1c0002row1_col0,#T_9f4d838a_594b_11eb_a1c8_0242ac1c0002row2_col0,#T_9f4d838a_594b_11eb_a1c8_0242ac1c0002row3_col1,#T_9f4d838a_594b_11eb_a1c8_0242ac1c0002row4_col1,#T_9f4d838a_594b_11eb_a1c8_0242ac1c0002row5_col1{\n",
              "            background-color:  #08306b;\n",
              "            color:  #f1f1f1;\n",
              "        }</style><table id=\"T_9f4d838a_594b_11eb_a1c8_0242ac1c0002\" class='dataframe'><thead>    <tr>        <th class=\"index_name level0\" >Qual é o seu sexo?</th>        <th class=\"col_heading level0 col0\" >Feminino</th>        <th class=\"col_heading level0 col1\" >Masculino</th>    </tr>    <tr>        <th class=\"index_name level0\" >Como você se sente em relação ao seu corpo?</th>        <th class=\"blank\" ></th>        <th class=\"blank\" ></th>    </tr></thead><tbody>\n",
              "                <tr>\n",
              "                        <th id=\"T_9f4d838a_594b_11eb_a1c8_0242ac1c0002level0_row0\" class=\"row_heading level0 row0\" >Indiferente</th>\n",
              "                        <td id=\"T_9f4d838a_594b_11eb_a1c8_0242ac1c0002row0_col0\" class=\"data row0 col0\" >47.43</td>\n",
              "                        <td id=\"T_9f4d838a_594b_11eb_a1c8_0242ac1c0002row0_col1\" class=\"data row0 col1\" >52.57</td>\n",
              "            </tr>\n",
              "            <tr>\n",
              "                        <th id=\"T_9f4d838a_594b_11eb_a1c8_0242ac1c0002level0_row1\" class=\"row_heading level0 row1\" >Insatisfeito(a)</th>\n",
              "                        <td id=\"T_9f4d838a_594b_11eb_a1c8_0242ac1c0002row1_col0\" class=\"data row1 col0\" >66.21</td>\n",
              "                        <td id=\"T_9f4d838a_594b_11eb_a1c8_0242ac1c0002row1_col1\" class=\"data row1 col1\" >33.79</td>\n",
              "            </tr>\n",
              "            <tr>\n",
              "                        <th id=\"T_9f4d838a_594b_11eb_a1c8_0242ac1c0002level0_row2\" class=\"row_heading level0 row2\" >Muito insatisfeito(a)</th>\n",
              "                        <td id=\"T_9f4d838a_594b_11eb_a1c8_0242ac1c0002row2_col0\" class=\"data row2 col0\" >63.59</td>\n",
              "                        <td id=\"T_9f4d838a_594b_11eb_a1c8_0242ac1c0002row2_col1\" class=\"data row2 col1\" >36.41</td>\n",
              "            </tr>\n",
              "            <tr>\n",
              "                        <th id=\"T_9f4d838a_594b_11eb_a1c8_0242ac1c0002level0_row3\" class=\"row_heading level0 row3\" >Muito satisfeito(a)</th>\n",
              "                        <td id=\"T_9f4d838a_594b_11eb_a1c8_0242ac1c0002row3_col0\" class=\"data row3 col0\" >41.80</td>\n",
              "                        <td id=\"T_9f4d838a_594b_11eb_a1c8_0242ac1c0002row3_col1\" class=\"data row3 col1\" >58.20</td>\n",
              "            </tr>\n",
              "            <tr>\n",
              "                        <th id=\"T_9f4d838a_594b_11eb_a1c8_0242ac1c0002level0_row4\" class=\"row_heading level0 row4\" >Não informado</th>\n",
              "                        <td id=\"T_9f4d838a_594b_11eb_a1c8_0242ac1c0002row4_col0\" class=\"data row4 col0\" >34.25</td>\n",
              "                        <td id=\"T_9f4d838a_594b_11eb_a1c8_0242ac1c0002row4_col1\" class=\"data row4 col1\" >65.75</td>\n",
              "            </tr>\n",
              "            <tr>\n",
              "                        <th id=\"T_9f4d838a_594b_11eb_a1c8_0242ac1c0002level0_row5\" class=\"row_heading level0 row5\" >Satisfeito(a)</th>\n",
              "                        <td id=\"T_9f4d838a_594b_11eb_a1c8_0242ac1c0002row5_col0\" class=\"data row5 col0\" >49.57</td>\n",
              "                        <td id=\"T_9f4d838a_594b_11eb_a1c8_0242ac1c0002row5_col1\" class=\"data row5 col1\" >50.43</td>\n",
              "            </tr>\n",
              "    </tbody></table>"
            ],
            "text/plain": [
              "<pandas.io.formats.style.Styler at 0x7f58e4eab278>"
            ]
          },
          "metadata": {
            "tags": []
          }
        }
      ]
    },
    {
      "cell_type": "markdown",
      "metadata": {
        "id": "TT9HvRp4480e"
      },
      "source": [
        "- **Aparentemente, um pouco mais que 60% dos que responderam insatisfeitos ou muito insatisfeitos com o próprio corpo, foram do sexo feminino.**\n",
        "\n"
      ]
    },
    {
      "cell_type": "markdown",
      "metadata": {
        "id": "bbDDoLGMJG7m"
      },
      "source": [
        "###### Gráfico de barras"
      ]
    },
    {
      "cell_type": "code",
      "metadata": {
        "id": "L952bV5z2yIJ"
      },
      "source": [
        "# Tabela \"melted\"\n",
        "wanted_df = melt_pct_df('VB11007', 'VB01001', 'index', pense_student)"
      ],
      "execution_count": null,
      "outputs": []
    },
    {
      "cell_type": "code",
      "metadata": {
        "colab": {
          "base_uri": "https://localhost:8080/",
          "height": 568
        },
        "id": "0H6z8NlK2i9s",
        "outputId": "b5040bc5-913b-4d99-ad00-f18f15c92548"
      },
      "source": [
        "plt.figure(figsize=(12, 8))\n",
        "sns.barplot(x='Frequência relativa (%)', \n",
        "            y='Como você se sente em relação ao seu corpo?',\n",
        "            data=wanted_df, hue='Qual é o seu sexo?',\n",
        "            palette=['crimson', 'cornflowerblue'])\n",
        "plt.legend(fontsize=12, bbox_to_anchor=(1.15, 0.77))\n",
        "plt.xlim(0, 100)\n",
        "plt.xticks(fontsize=12)\n",
        "plt.yticks(fontsize=12)\n",
        "plt.xlabel('\\nFrequência relativa (%)', fontsize=14)\n",
        "plt.ylabel('')\n",
        "plt.title('Sentimento em relação ao próprio corpo, separado por sexo - PeNSE 2015\\n',\n",
        "          fontsize=22)\n",
        "plt.grid(linestyle='--', axis='x')\n",
        "sns.despine()"
      ],
      "execution_count": null,
      "outputs": [
        {
          "output_type": "display_data",
          "data": {
            "image/png": "[encoded data removed]",
            "text/plain": [
              "<Figure size 864x576 with 1 Axes>"
            ]
          },
          "metadata": {
            "tags": []
          }
        }
      ]
    },
    {
      "cell_type": "markdown",
      "metadata": {
        "id": "8SOwmQTCJMvo"
      },
      "source": [
        "###### Teste qui-quadrado\n",
        "- $H_0$: Os sentimentos em relação ao próprio corpo são iguais entre os sexos.\n",
        "\n",
        "- $H_1$: Os sentimentos em relação ao próprio corpo são diferentes entre os sexos."
      ]
    },
    {
      "cell_type": "code",
      "metadata": {
        "colab": {
          "base_uri": "https://localhost:8080/",
          "height": 235
        },
        "id": "hbXb8_Xy6t_P",
        "outputId": "7d0147e0-503e-4ed9-c84c-876f1a1996f0"
      },
      "source": [
        "# Tabela a ser usada (sem o \"Não informado\")\n",
        "wanted_df = make_pivot_table('VB11007', 'VB01001', pense_student, \n",
        "                             margins=False)\n",
        "wanted_df = wanted_df[wanted_df.index != 'Não informado']\n",
        "display(wanted_df)"
      ],
      "execution_count": null,
      "outputs": [
        {
          "output_type": "display_data",
          "data": {
            "text/html": [
              "<div>\n",
              "<style scoped>\n",
              "    .dataframe tbody tr th:only-of-type {\n",
              "        vertical-align: middle;\n",
              "    }\n",
              "\n",
              "    .dataframe tbody tr th {\n",
              "        vertical-align: top;\n",
              "    }\n",
              "\n",
              "    .dataframe thead th {\n",
              "        text-align: right;\n",
              "    }\n",
              "</style>\n",
              "<table border=\"1\" class=\"dataframe\">\n",
              "  <thead>\n",
              "    <tr style=\"text-align: right;\">\n",
              "      <th>Qual é o seu sexo?</th>\n",
              "      <th>Feminino</th>\n",
              "      <th>Masculino</th>\n",
              "    </tr>\n",
              "    <tr>\n",
              "      <th>Como você se sente em relação ao seu corpo?</th>\n",
              "      <th></th>\n",
              "      <th></th>\n",
              "    </tr>\n",
              "  </thead>\n",
              "  <tbody>\n",
              "    <tr>\n",
              "      <th>Indiferente</th>\n",
              "      <td>857</td>\n",
              "      <td>950</td>\n",
              "    </tr>\n",
              "    <tr>\n",
              "      <th>Insatisfeito(a)</th>\n",
              "      <td>1540</td>\n",
              "      <td>786</td>\n",
              "    </tr>\n",
              "    <tr>\n",
              "      <th>Muito insatisfeito(a)</th>\n",
              "      <td>454</td>\n",
              "      <td>260</td>\n",
              "    </tr>\n",
              "    <tr>\n",
              "      <th>Muito satisfeito(a)</th>\n",
              "      <td>1926</td>\n",
              "      <td>2682</td>\n",
              "    </tr>\n",
              "    <tr>\n",
              "      <th>Satisfeito(a)</th>\n",
              "      <td>3430</td>\n",
              "      <td>3490</td>\n",
              "    </tr>\n",
              "  </tbody>\n",
              "</table>\n",
              "</div>"
            ],
            "text/plain": [
              "Qual é o seu sexo?                           Feminino  Masculino\n",
              "Como você se sente em relação ao seu corpo?                     \n",
              "Indiferente                                       857        950\n",
              "Insatisfeito(a)                                  1540        786\n",
              "Muito insatisfeito(a)                             454        260\n",
              "Muito satisfeito(a)                              1926       2682\n",
              "Satisfeito(a)                                    3430       3490"
            ]
          },
          "metadata": {
            "tags": []
          }
        }
      ]
    },
    {
      "cell_type": "code",
      "metadata": {
        "colab": {
          "base_uri": "https://localhost:8080/"
        },
        "id": "tvpA9yJS68t9",
        "outputId": "53a1c4cf-71f8-4b26-ac57-ef06cba6cebc"
      },
      "source": [
        "# Teste qui-quadrado\n",
        "do_chi2_contingency(wanted_df)"
      ],
      "execution_count": null,
      "outputs": [
        {
          "output_type": "stream",
          "text": [
            "- Nível de significância: 0.05\n",
            "- P-valor: 5.549536555882974e-91\n",
            "- Graus de liberdade: 4\n",
            "- Valor qui-quadrado: 426.37676994605016\n",
            "\n",
            "- Resultado: rejeição da hipótese nula.\n"
          ],
          "name": "stdout"
        }
      ]
    },
    {
      "cell_type": "markdown",
      "metadata": {
        "id": "XfAF9ck259eA"
      },
      "source": [
        "Rejeitando a hipótese nula, temos então que **esses sentimentos em relação ao corpo são diferentes para cada sexo, com uma significância estatística alta**."
      ]
    },
    {
      "cell_type": "markdown",
      "metadata": {
        "id": "I9hokZ8hWxhm"
      },
      "source": [
        "#### **Como você se considera (massa corpórea)?**"
      ]
    },
    {
      "cell_type": "markdown",
      "metadata": {
        "id": "U2ZnuOtfWaRD"
      },
      "source": [
        "##### **Adolescentes no geral**"
      ]
    },
    {
      "cell_type": "markdown",
      "metadata": {
        "id": "KxIBwrY0KjiM"
      },
      "source": [
        "###### Tabela de frequências"
      ]
    },
    {
      "cell_type": "code",
      "metadata": {
        "colab": {
          "base_uri": "https://localhost:8080/",
          "height": 300
        },
        "id": "IXNiIYolv0kG",
        "outputId": "d863fa2c-d9d9-4624-f9a2-ea4af13f6cf4"
      },
      "source": [
        "show_freq_table('VB11001', pense_student)"
      ],
      "execution_count": null,
      "outputs": [
        {
          "output_type": "stream",
          "text": [
            "Quanto ao seu corpo, você se considera:  \n",
            "\n"
          ],
          "name": "stdout"
        },
        {
          "output_type": "display_data",
          "data": {
            "text/html": [
              "<div>\n",
              "<style scoped>\n",
              "    .dataframe tbody tr th:only-of-type {\n",
              "        vertical-align: middle;\n",
              "    }\n",
              "\n",
              "    .dataframe tbody tr th {\n",
              "        vertical-align: top;\n",
              "    }\n",
              "\n",
              "    .dataframe thead th {\n",
              "        text-align: right;\n",
              "    }\n",
              "</style>\n",
              "<table border=\"1\" class=\"dataframe\">\n",
              "  <thead>\n",
              "    <tr style=\"text-align: right;\">\n",
              "      <th></th>\n",
              "      <th>Frequência absoluta</th>\n",
              "      <th>Frequência relativa (%)</th>\n",
              "    </tr>\n",
              "    <tr>\n",
              "      <th>DESCRIÇÃO</th>\n",
              "      <th></th>\n",
              "      <th></th>\n",
              "    </tr>\n",
              "  </thead>\n",
              "  <tbody>\n",
              "    <tr>\n",
              "      <th>Normal</th>\n",
              "      <td>8822</td>\n",
              "      <td>53.29</td>\n",
              "    </tr>\n",
              "    <tr>\n",
              "      <th>Magro(a)</th>\n",
              "      <td>3261</td>\n",
              "      <td>19.70</td>\n",
              "    </tr>\n",
              "    <tr>\n",
              "      <th>Gordo(a)</th>\n",
              "      <td>2951</td>\n",
              "      <td>17.82</td>\n",
              "    </tr>\n",
              "    <tr>\n",
              "      <th>Muito magro(a)</th>\n",
              "      <td>952</td>\n",
              "      <td>5.75</td>\n",
              "    </tr>\n",
              "    <tr>\n",
              "      <th>Muito Gordo(a)</th>\n",
              "      <td>411</td>\n",
              "      <td>2.48</td>\n",
              "    </tr>\n",
              "    <tr>\n",
              "      <th>Não informado</th>\n",
              "      <td>159</td>\n",
              "      <td>0.96</td>\n",
              "    </tr>\n",
              "  </tbody>\n",
              "</table>\n",
              "</div>"
            ],
            "text/plain": [
              "                 Frequência absoluta  Frequência relativa (%)\n",
              "DESCRIÇÃO                                                    \n",
              "Normal                          8822                    53.29\n",
              "Magro(a)                        3261                    19.70\n",
              "Gordo(a)                        2951                    17.82\n",
              "Muito magro(a)                   952                     5.75\n",
              "Muito Gordo(a)                   411                     2.48\n",
              "Não informado                    159                     0.96"
            ]
          },
          "metadata": {
            "tags": []
          }
        }
      ]
    },
    {
      "cell_type": "markdown",
      "metadata": {
        "id": "AnKSkOBc6w-9"
      },
      "source": [
        "- **Aproximadamente 25% dos entrevistados responderam que se consideram magro ou muito magro.**\n",
        "\n",
        "- **Aproximadamente 20% dos entrevistados responderam que se consideram gordo ou muito gordo.**"
      ]
    },
    {
      "cell_type": "markdown",
      "metadata": {
        "id": "BS3iKtinK2t_"
      },
      "source": [
        "###### Teste qui-quadrado\n",
        "- $H_0$: as diferenças entre o número de impressões distintas em relação ao próprio corpo (massa corporal) não são significativas;\n",
        "\n",
        "- $H_1$: as diferenças entre o número de impressões distintas em relação ao próprio corpo (massa corporal) são significativas;"
      ]
    },
    {
      "cell_type": "code",
      "metadata": {
        "id": "hrh2e7cY7o8Y"
      },
      "source": [
        "wanted_df = make_freq_table('VB11001', pense_student)"
      ],
      "execution_count": null,
      "outputs": []
    },
    {
      "cell_type": "code",
      "metadata": {
        "colab": {
          "base_uri": "https://localhost:8080/",
          "height": 235
        },
        "id": "lbDaJCej8uFm",
        "outputId": "c47e8c37-8724-47bd-9105-ba6bfc1d9ea0"
      },
      "source": [
        "# Tabela sem o \"Não informado\"\n",
        "wanted_array = wanted_df[:-1]['Frequência absoluta']\n",
        "display(wanted_array.to_frame())"
      ],
      "execution_count": null,
      "outputs": [
        {
          "output_type": "display_data",
          "data": {
            "text/html": [
              "<div>\n",
              "<style scoped>\n",
              "    .dataframe tbody tr th:only-of-type {\n",
              "        vertical-align: middle;\n",
              "    }\n",
              "\n",
              "    .dataframe tbody tr th {\n",
              "        vertical-align: top;\n",
              "    }\n",
              "\n",
              "    .dataframe thead th {\n",
              "        text-align: right;\n",
              "    }\n",
              "</style>\n",
              "<table border=\"1\" class=\"dataframe\">\n",
              "  <thead>\n",
              "    <tr style=\"text-align: right;\">\n",
              "      <th></th>\n",
              "      <th>Frequência absoluta</th>\n",
              "    </tr>\n",
              "    <tr>\n",
              "      <th>DESCRIÇÃO</th>\n",
              "      <th></th>\n",
              "    </tr>\n",
              "  </thead>\n",
              "  <tbody>\n",
              "    <tr>\n",
              "      <th>Normal</th>\n",
              "      <td>8822</td>\n",
              "    </tr>\n",
              "    <tr>\n",
              "      <th>Magro(a)</th>\n",
              "      <td>3261</td>\n",
              "    </tr>\n",
              "    <tr>\n",
              "      <th>Gordo(a)</th>\n",
              "      <td>2951</td>\n",
              "    </tr>\n",
              "    <tr>\n",
              "      <th>Muito magro(a)</th>\n",
              "      <td>952</td>\n",
              "    </tr>\n",
              "    <tr>\n",
              "      <th>Muito Gordo(a)</th>\n",
              "      <td>411</td>\n",
              "    </tr>\n",
              "  </tbody>\n",
              "</table>\n",
              "</div>"
            ],
            "text/plain": [
              "                 Frequência absoluta\n",
              "DESCRIÇÃO                           \n",
              "Normal                          8822\n",
              "Magro(a)                        3261\n",
              "Gordo(a)                        2951\n",
              "Muito magro(a)                   952\n",
              "Muito Gordo(a)                   411"
            ]
          },
          "metadata": {
            "tags": []
          }
        }
      ]
    },
    {
      "cell_type": "code",
      "metadata": {
        "colab": {
          "base_uri": "https://localhost:8080/"
        },
        "id": "F4NNzL9E8x_8",
        "outputId": "5980caeb-afb4-4916-951d-9eabe8260f81"
      },
      "source": [
        "# Teste qui-quadrado\n",
        "do_chi2(wanted_array)"
      ],
      "execution_count": null,
      "outputs": [
        {
          "output_type": "stream",
          "text": [
            "- Nível de significância: 0.05\n",
            "- P-valor: 0.0\n",
            "- Graus de liberdade: 4\n",
            "- Valor qui-quadrado: 13561.355491858267\n",
            "\n",
            "- Resultado: rejeição da hipótese nula.\n"
          ],
          "name": "stdout"
        }
      ]
    },
    {
      "cell_type": "markdown",
      "metadata": {
        "id": "03e2lxIa9jso"
      },
      "source": [
        "Como rejeitamos a hipótese nula, temos que **as diferenças entre as respostas possuem uma significância estatística alta**."
      ]
    },
    {
      "cell_type": "markdown",
      "metadata": {
        "id": "9AgXcNmjLG1C"
      },
      "source": [
        "##### **Comparação entre os sexos**"
      ]
    },
    {
      "cell_type": "markdown",
      "metadata": {
        "id": "eHIdCxTLLZMD"
      },
      "source": [
        "###### Tabelas de contingência"
      ]
    },
    {
      "cell_type": "code",
      "metadata": {
        "colab": {
          "base_uri": "https://localhost:8080/",
          "height": 331
        },
        "id": "TGV-19UH9Dl0",
        "outputId": "98df761c-d9c1-4a11-9030-ef1f123c6924"
      },
      "source": [
        "show_pivot_table('VB11001', 'VB01001', pense_student)"
      ],
      "execution_count": null,
      "outputs": [
        {
          "output_type": "stream",
          "text": [
            "Tabela dinâmica entre \"VB11001\" e \"VB01001\"\n",
            "\n"
          ],
          "name": "stdout"
        },
        {
          "output_type": "display_data",
          "data": {
            "text/html": [
              "<div>\n",
              "<style scoped>\n",
              "    .dataframe tbody tr th:only-of-type {\n",
              "        vertical-align: middle;\n",
              "    }\n",
              "\n",
              "    .dataframe tbody tr th {\n",
              "        vertical-align: top;\n",
              "    }\n",
              "\n",
              "    .dataframe thead th {\n",
              "        text-align: right;\n",
              "    }\n",
              "</style>\n",
              "<table border=\"1\" class=\"dataframe\">\n",
              "  <thead>\n",
              "    <tr style=\"text-align: right;\">\n",
              "      <th>Qual é o seu sexo?</th>\n",
              "      <th>Feminino</th>\n",
              "      <th>Masculino</th>\n",
              "      <th>Total</th>\n",
              "    </tr>\n",
              "    <tr>\n",
              "      <th>Quanto ao seu corpo, você se considera:</th>\n",
              "      <th></th>\n",
              "      <th></th>\n",
              "      <th></th>\n",
              "    </tr>\n",
              "  </thead>\n",
              "  <tbody>\n",
              "    <tr>\n",
              "      <th>Gordo(a)</th>\n",
              "      <td>1722</td>\n",
              "      <td>1229</td>\n",
              "      <td>2951</td>\n",
              "    </tr>\n",
              "    <tr>\n",
              "      <th>Magro(a)</th>\n",
              "      <td>1478</td>\n",
              "      <td>1783</td>\n",
              "      <td>3261</td>\n",
              "    </tr>\n",
              "    <tr>\n",
              "      <th>Muito Gordo(a)</th>\n",
              "      <td>287</td>\n",
              "      <td>124</td>\n",
              "      <td>411</td>\n",
              "    </tr>\n",
              "    <tr>\n",
              "      <th>Muito magro(a)</th>\n",
              "      <td>542</td>\n",
              "      <td>410</td>\n",
              "      <td>952</td>\n",
              "    </tr>\n",
              "    <tr>\n",
              "      <th>Normal</th>\n",
              "      <td>4192</td>\n",
              "      <td>4630</td>\n",
              "      <td>8822</td>\n",
              "    </tr>\n",
              "    <tr>\n",
              "      <th>Não informado</th>\n",
              "      <td>48</td>\n",
              "      <td>111</td>\n",
              "      <td>159</td>\n",
              "    </tr>\n",
              "    <tr>\n",
              "      <th>Total</th>\n",
              "      <td>8269</td>\n",
              "      <td>8287</td>\n",
              "      <td>16556</td>\n",
              "    </tr>\n",
              "  </tbody>\n",
              "</table>\n",
              "</div>"
            ],
            "text/plain": [
              "Qual é o seu sexo?                        Feminino  Masculino  Total\n",
              "Quanto ao seu corpo, você se considera:                             \n",
              "Gordo(a)                                      1722       1229   2951\n",
              "Magro(a)                                      1478       1783   3261\n",
              "Muito Gordo(a)                                 287        124    411\n",
              "Muito magro(a)                                 542        410    952\n",
              "Normal                                        4192       4630   8822\n",
              "Não informado                                   48        111    159\n",
              "Total                                         8269       8287  16556"
            ]
          },
          "metadata": {
            "tags": []
          }
        }
      ]
    },
    {
      "cell_type": "code",
      "metadata": {
        "colab": {
          "base_uri": "https://localhost:8080/",
          "height": 300
        },
        "id": "XTeqp0eN9YJ8",
        "outputId": "fb9331eb-1178-40bc-a071-f6c78833705c"
      },
      "source": [
        "show_percentage_pivot_table('VB11001', 'VB01001', 'index', pense_student)"
      ],
      "execution_count": null,
      "outputs": [
        {
          "output_type": "stream",
          "text": [
            "Tabela dinâmica percentual por linha entre \"VB11001\" e \"VB01001\"\n",
            "\n"
          ],
          "name": "stdout"
        },
        {
          "output_type": "display_data",
          "data": {
            "text/html": [
              "<style  type=\"text/css\" >\n",
              "#T_9fcd8de6_594b_11eb_a1c8_0242ac1c0002row0_col0,#T_9fcd8de6_594b_11eb_a1c8_0242ac1c0002row1_col1,#T_9fcd8de6_594b_11eb_a1c8_0242ac1c0002row2_col0,#T_9fcd8de6_594b_11eb_a1c8_0242ac1c0002row3_col0,#T_9fcd8de6_594b_11eb_a1c8_0242ac1c0002row4_col1,#T_9fcd8de6_594b_11eb_a1c8_0242ac1c0002row5_col1{\n",
              "            background-color:  #08306b;\n",
              "            color:  #f1f1f1;\n",
              "        }#T_9fcd8de6_594b_11eb_a1c8_0242ac1c0002row0_col1,#T_9fcd8de6_594b_11eb_a1c8_0242ac1c0002row1_col0,#T_9fcd8de6_594b_11eb_a1c8_0242ac1c0002row2_col1,#T_9fcd8de6_594b_11eb_a1c8_0242ac1c0002row3_col1,#T_9fcd8de6_594b_11eb_a1c8_0242ac1c0002row4_col0,#T_9fcd8de6_594b_11eb_a1c8_0242ac1c0002row5_col0{\n",
              "            background-color:  #f7fbff;\n",
              "            color:  #000000;\n",
              "        }</style><table id=\"T_9fcd8de6_594b_11eb_a1c8_0242ac1c0002\" class='dataframe'><thead>    <tr>        <th class=\"index_name level0\" >Qual é o seu sexo?</th>        <th class=\"col_heading level0 col0\" >Feminino</th>        <th class=\"col_heading level0 col1\" >Masculino</th>    </tr>    <tr>        <th class=\"index_name level0\" >Quanto ao seu corpo, você se considera: </th>        <th class=\"blank\" ></th>        <th class=\"blank\" ></th>    </tr></thead><tbody>\n",
              "                <tr>\n",
              "                        <th id=\"T_9fcd8de6_594b_11eb_a1c8_0242ac1c0002level0_row0\" class=\"row_heading level0 row0\" >Gordo(a)</th>\n",
              "                        <td id=\"T_9fcd8de6_594b_11eb_a1c8_0242ac1c0002row0_col0\" class=\"data row0 col0\" >58.35</td>\n",
              "                        <td id=\"T_9fcd8de6_594b_11eb_a1c8_0242ac1c0002row0_col1\" class=\"data row0 col1\" >41.65</td>\n",
              "            </tr>\n",
              "            <tr>\n",
              "                        <th id=\"T_9fcd8de6_594b_11eb_a1c8_0242ac1c0002level0_row1\" class=\"row_heading level0 row1\" >Magro(a)</th>\n",
              "                        <td id=\"T_9fcd8de6_594b_11eb_a1c8_0242ac1c0002row1_col0\" class=\"data row1 col0\" >45.32</td>\n",
              "                        <td id=\"T_9fcd8de6_594b_11eb_a1c8_0242ac1c0002row1_col1\" class=\"data row1 col1\" >54.68</td>\n",
              "            </tr>\n",
              "            <tr>\n",
              "                        <th id=\"T_9fcd8de6_594b_11eb_a1c8_0242ac1c0002level0_row2\" class=\"row_heading level0 row2\" >Muito Gordo(a)</th>\n",
              "                        <td id=\"T_9fcd8de6_594b_11eb_a1c8_0242ac1c0002row2_col0\" class=\"data row2 col0\" >69.83</td>\n",
              "                        <td id=\"T_9fcd8de6_594b_11eb_a1c8_0242ac1c0002row2_col1\" class=\"data row2 col1\" >30.17</td>\n",
              "            </tr>\n",
              "            <tr>\n",
              "                        <th id=\"T_9fcd8de6_594b_11eb_a1c8_0242ac1c0002level0_row3\" class=\"row_heading level0 row3\" >Muito magro(a) </th>\n",
              "                        <td id=\"T_9fcd8de6_594b_11eb_a1c8_0242ac1c0002row3_col0\" class=\"data row3 col0\" >56.93</td>\n",
              "                        <td id=\"T_9fcd8de6_594b_11eb_a1c8_0242ac1c0002row3_col1\" class=\"data row3 col1\" >43.07</td>\n",
              "            </tr>\n",
              "            <tr>\n",
              "                        <th id=\"T_9fcd8de6_594b_11eb_a1c8_0242ac1c0002level0_row4\" class=\"row_heading level0 row4\" >Normal</th>\n",
              "                        <td id=\"T_9fcd8de6_594b_11eb_a1c8_0242ac1c0002row4_col0\" class=\"data row4 col0\" >47.52</td>\n",
              "                        <td id=\"T_9fcd8de6_594b_11eb_a1c8_0242ac1c0002row4_col1\" class=\"data row4 col1\" >52.48</td>\n",
              "            </tr>\n",
              "            <tr>\n",
              "                        <th id=\"T_9fcd8de6_594b_11eb_a1c8_0242ac1c0002level0_row5\" class=\"row_heading level0 row5\" >Não informado</th>\n",
              "                        <td id=\"T_9fcd8de6_594b_11eb_a1c8_0242ac1c0002row5_col0\" class=\"data row5 col0\" >30.19</td>\n",
              "                        <td id=\"T_9fcd8de6_594b_11eb_a1c8_0242ac1c0002row5_col1\" class=\"data row5 col1\" >69.81</td>\n",
              "            </tr>\n",
              "    </tbody></table>"
            ],
            "text/plain": [
              "<pandas.io.formats.style.Styler at 0x7f58e44f9668>"
            ]
          },
          "metadata": {
            "tags": []
          }
        }
      ]
    },
    {
      "cell_type": "markdown",
      "metadata": {
        "id": "yewfIellALJu"
      },
      "source": [
        "- **Das pessoas que responderam se sentir \"muito gordo(a)\", aproximadamente 70% foram do sexo feminino**;\n",
        "\n",
        "- **Das pessoas que responderam se sentir \"gordo(a)\" ou \"muito magro(a)\", quase 60% foram do sexo feminino**;\n",
        "\n",
        "- **Para a resposta \"magro(a)\", tivemos quase 55% para o sexo masculino**."
      ]
    },
    {
      "cell_type": "markdown",
      "metadata": {
        "id": "asi1w72ULfeA"
      },
      "source": [
        "###### Gráfico de barras"
      ]
    },
    {
      "cell_type": "code",
      "metadata": {
        "id": "Ag0BEmfb9k8y"
      },
      "source": [
        "# Tabela \"melted\"\n",
        "wanted_df = melt_pct_df('VB11001', 'VB01001', 'index', pense_student)"
      ],
      "execution_count": null,
      "outputs": []
    },
    {
      "cell_type": "code",
      "metadata": {
        "colab": {
          "base_uri": "https://localhost:8080/",
          "height": 568
        },
        "id": "0Gxsoxdb9p6L",
        "outputId": "eb8c3794-6f30-4d05-adb2-159dc443b16d"
      },
      "source": [
        "plt.figure(figsize=(12, 8))\n",
        "sns.barplot(x='Frequência relativa (%)', \n",
        "            y='Quanto ao seu corpo, você se considera: ',\n",
        "            data=wanted_df, hue='Qual é o seu sexo?',\n",
        "            palette=['crimson', 'cornflowerblue'])\n",
        "plt.xlim(0, 100)\n",
        "plt.legend(fontsize=12, bbox_to_anchor=(1.15, 0.79))\n",
        "plt.xticks(fontsize=12)\n",
        "plt.yticks(fontsize=12)\n",
        "plt.xlabel('\\nFrequência relativa (%)', fontsize=14)\n",
        "plt.ylabel('')\n",
        "plt.title('Consideração pelo corpo (massa corporal), separado por sexo - PeNSE 2015\\n',\n",
        "          fontsize=22)\n",
        "plt.grid(linestyle='--', axis='x')\n",
        "sns.despine()"
      ],
      "execution_count": null,
      "outputs": [
        {
          "output_type": "display_data",
          "data": {
            "image/png": "[encoded data removed]",
            "text/plain": [
              "<Figure size 864x576 with 1 Axes>"
            ]
          },
          "metadata": {
            "tags": []
          }
        }
      ]
    },
    {
      "cell_type": "markdown",
      "metadata": {
        "id": "PU8RBKOZLmSl"
      },
      "source": [
        "###### Teste qui-quadrado\n",
        "- $H_0$: As impressões em relação ao próprio corpo (massa corporal) são iguais entre os sexos.\n",
        "- $H_1$: As impressões em relação ao próprio corpo (massa corporal) são diferentes entre os sexos."
      ]
    },
    {
      "cell_type": "code",
      "metadata": {
        "colab": {
          "base_uri": "https://localhost:8080/",
          "height": 235
        },
        "id": "SulGcBFY_YXG",
        "outputId": "455e1ae7-7c30-4b42-94af-02b07cf47748"
      },
      "source": [
        "# Tabela a ser usada (sem o \"Não informado\")\n",
        "wanted_df = make_pivot_table('VB11001', 'VB01001', pense_student, \n",
        "                             margins=False)\n",
        "wanted_df = wanted_df[wanted_df.index != 'Não informado']\n",
        "display(wanted_df)"
      ],
      "execution_count": null,
      "outputs": [
        {
          "output_type": "display_data",
          "data": {
            "text/html": [
              "<div>\n",
              "<style scoped>\n",
              "    .dataframe tbody tr th:only-of-type {\n",
              "        vertical-align: middle;\n",
              "    }\n",
              "\n",
              "    .dataframe tbody tr th {\n",
              "        vertical-align: top;\n",
              "    }\n",
              "\n",
              "    .dataframe thead th {\n",
              "        text-align: right;\n",
              "    }\n",
              "</style>\n",
              "<table border=\"1\" class=\"dataframe\">\n",
              "  <thead>\n",
              "    <tr style=\"text-align: right;\">\n",
              "      <th>Qual é o seu sexo?</th>\n",
              "      <th>Feminino</th>\n",
              "      <th>Masculino</th>\n",
              "    </tr>\n",
              "    <tr>\n",
              "      <th>Quanto ao seu corpo, você se considera:</th>\n",
              "      <th></th>\n",
              "      <th></th>\n",
              "    </tr>\n",
              "  </thead>\n",
              "  <tbody>\n",
              "    <tr>\n",
              "      <th>Gordo(a)</th>\n",
              "      <td>1722</td>\n",
              "      <td>1229</td>\n",
              "    </tr>\n",
              "    <tr>\n",
              "      <th>Magro(a)</th>\n",
              "      <td>1478</td>\n",
              "      <td>1783</td>\n",
              "    </tr>\n",
              "    <tr>\n",
              "      <th>Muito Gordo(a)</th>\n",
              "      <td>287</td>\n",
              "      <td>124</td>\n",
              "    </tr>\n",
              "    <tr>\n",
              "      <th>Muito magro(a)</th>\n",
              "      <td>542</td>\n",
              "      <td>410</td>\n",
              "    </tr>\n",
              "    <tr>\n",
              "      <th>Normal</th>\n",
              "      <td>4192</td>\n",
              "      <td>4630</td>\n",
              "    </tr>\n",
              "  </tbody>\n",
              "</table>\n",
              "</div>"
            ],
            "text/plain": [
              "Qual é o seu sexo?                        Feminino  Masculino\n",
              "Quanto ao seu corpo, você se considera:                      \n",
              "Gordo(a)                                      1722       1229\n",
              "Magro(a)                                      1478       1783\n",
              "Muito Gordo(a)                                 287        124\n",
              "Muito magro(a)                                 542        410\n",
              "Normal                                        4192       4630"
            ]
          },
          "metadata": {
            "tags": []
          }
        }
      ]
    },
    {
      "cell_type": "code",
      "metadata": {
        "colab": {
          "base_uri": "https://localhost:8080/"
        },
        "id": "PDsLnIzb_pK3",
        "outputId": "917b8044-054c-4942-a4ed-3c40b2091f3d"
      },
      "source": [
        "# Teste qui-quadrado\n",
        "do_chi2_contingency(wanted_df)"
      ],
      "execution_count": null,
      "outputs": [
        {
          "output_type": "stream",
          "text": [
            "- Nível de significância: 0.05\n",
            "- P-valor: 1.7778312697042715e-45\n",
            "- Graus de liberdade: 4\n",
            "- Valor qui-quadrado: 215.45960172922736\n",
            "\n",
            "- Resultado: rejeição da hipótese nula.\n"
          ],
          "name": "stdout"
        }
      ]
    },
    {
      "cell_type": "markdown",
      "metadata": {
        "id": "m1m8ZydrCvUX"
      },
      "source": [
        "Rejeitando-se a hipótese nula, temos que **as impressões dos jovens em relação ao próprio corpo (massa corporal) são diferentes entre os sexos**."
      ]
    },
    {
      "cell_type": "markdown",
      "metadata": {
        "id": "roFFLeCoXIUh"
      },
      "source": [
        "#### **NOS ÚLTIMOS 30 DIAS, você vomitou ou tomou laxantes para perder peso ou evitar ganhar peso?**"
      ]
    },
    {
      "cell_type": "markdown",
      "metadata": {
        "id": "0C-fUh9FWcIj"
      },
      "source": [
        "##### **Adolescentes no geral**"
      ]
    },
    {
      "cell_type": "markdown",
      "metadata": {
        "id": "uBm_Td37NLgK"
      },
      "source": [
        "###### Tabela de frequências"
      ]
    },
    {
      "cell_type": "code",
      "metadata": {
        "colab": {
          "base_uri": "https://localhost:8080/",
          "height": 207
        },
        "id": "52i5GfRWwBh5",
        "outputId": "11a46c8a-9762-4f8a-c7e1-a34ccd55dbab"
      },
      "source": [
        "show_freq_table('VB11003', pense_student)"
      ],
      "execution_count": null,
      "outputs": [
        {
          "output_type": "stream",
          "text": [
            "NOS ÚLTIMOS 30 DIAS, você vomitou ou tomou laxantes para perder peso ou evitar ganhar peso?  \n",
            "\n"
          ],
          "name": "stdout"
        },
        {
          "output_type": "display_data",
          "data": {
            "text/html": [
              "<div>\n",
              "<style scoped>\n",
              "    .dataframe tbody tr th:only-of-type {\n",
              "        vertical-align: middle;\n",
              "    }\n",
              "\n",
              "    .dataframe tbody tr th {\n",
              "        vertical-align: top;\n",
              "    }\n",
              "\n",
              "    .dataframe thead th {\n",
              "        text-align: right;\n",
              "    }\n",
              "</style>\n",
              "<table border=\"1\" class=\"dataframe\">\n",
              "  <thead>\n",
              "    <tr style=\"text-align: right;\">\n",
              "      <th></th>\n",
              "      <th>Frequência absoluta</th>\n",
              "      <th>Frequência relativa (%)</th>\n",
              "    </tr>\n",
              "    <tr>\n",
              "      <th>DESCRIÇÃO</th>\n",
              "      <th></th>\n",
              "      <th></th>\n",
              "    </tr>\n",
              "  </thead>\n",
              "  <tbody>\n",
              "    <tr>\n",
              "      <th>Não</th>\n",
              "      <td>15107</td>\n",
              "      <td>91.25</td>\n",
              "    </tr>\n",
              "    <tr>\n",
              "      <th>Sim</th>\n",
              "      <td>1262</td>\n",
              "      <td>7.62</td>\n",
              "    </tr>\n",
              "    <tr>\n",
              "      <th>Não informado</th>\n",
              "      <td>187</td>\n",
              "      <td>1.13</td>\n",
              "    </tr>\n",
              "  </tbody>\n",
              "</table>\n",
              "</div>"
            ],
            "text/plain": [
              "               Frequência absoluta  Frequência relativa (%)\n",
              "DESCRIÇÃO                                                  \n",
              "Não                          15107                    91.25\n",
              "Sim                           1262                     7.62\n",
              "Não informado                  187                     1.13"
            ]
          },
          "metadata": {
            "tags": []
          }
        }
      ]
    },
    {
      "cell_type": "markdown",
      "metadata": {
        "id": "Hfbar-jUFFrB"
      },
      "source": [
        "- **Aproximadamente 7,5% das pessoas entrevistadas responderam ter vomitado ou tomado lanxante, recentemente, para perder ou evitar ganhar peso.**"
      ]
    },
    {
      "cell_type": "markdown",
      "metadata": {
        "id": "uk5DLa8KNQr-"
      },
      "source": [
        "###### Teste qui-quadrado\n",
        "- $H_0$: a diferença entre as frequências dos que vomitaram ou tomaram laxante e dos que não vomitaram ou não tomaram laxante para perder peso recentemente, não é significativa;\n",
        "\n",
        "- $H_1$: a diferença entre as frequências dos que vomitaram ou tomaram laxante e dos que não vomitaram ou não tomaram laxante para perder peso recentemente, é significativa;"
      ]
    },
    {
      "cell_type": "code",
      "metadata": {
        "id": "Jxe7L2W0ANCN"
      },
      "source": [
        "wanted_df = make_freq_table('VB11003', pense_student)"
      ],
      "execution_count": null,
      "outputs": []
    },
    {
      "cell_type": "code",
      "metadata": {
        "colab": {
          "base_uri": "https://localhost:8080/",
          "height": 142
        },
        "id": "da9R8nCZA8IC",
        "outputId": "223a5d27-654c-4e98-bfa7-df7b1812dde9"
      },
      "source": [
        "# Tabela sem o \"Não informado\"\n",
        "wanted_array = wanted_df[:-1]['Frequência absoluta']\n",
        "display(wanted_array.to_frame())"
      ],
      "execution_count": null,
      "outputs": [
        {
          "output_type": "display_data",
          "data": {
            "text/html": [
              "<div>\n",
              "<style scoped>\n",
              "    .dataframe tbody tr th:only-of-type {\n",
              "        vertical-align: middle;\n",
              "    }\n",
              "\n",
              "    .dataframe tbody tr th {\n",
              "        vertical-align: top;\n",
              "    }\n",
              "\n",
              "    .dataframe thead th {\n",
              "        text-align: right;\n",
              "    }\n",
              "</style>\n",
              "<table border=\"1\" class=\"dataframe\">\n",
              "  <thead>\n",
              "    <tr style=\"text-align: right;\">\n",
              "      <th></th>\n",
              "      <th>Frequência absoluta</th>\n",
              "    </tr>\n",
              "    <tr>\n",
              "      <th>DESCRIÇÃO</th>\n",
              "      <th></th>\n",
              "    </tr>\n",
              "  </thead>\n",
              "  <tbody>\n",
              "    <tr>\n",
              "      <th>Não</th>\n",
              "      <td>15107</td>\n",
              "    </tr>\n",
              "    <tr>\n",
              "      <th>Sim</th>\n",
              "      <td>1262</td>\n",
              "    </tr>\n",
              "  </tbody>\n",
              "</table>\n",
              "</div>"
            ],
            "text/plain": [
              "           Frequência absoluta\n",
              "DESCRIÇÃO                     \n",
              "Não                      15107\n",
              "Sim                       1262"
            ]
          },
          "metadata": {
            "tags": []
          }
        }
      ]
    },
    {
      "cell_type": "code",
      "metadata": {
        "colab": {
          "base_uri": "https://localhost:8080/"
        },
        "id": "NeJFqQjjA9V8",
        "outputId": "37a8ae49-ac01-4bd8-fc24-643dc346bd4f"
      },
      "source": [
        "# Teste qui-quadrado\n",
        "do_chi2(wanted_array)"
      ],
      "execution_count": null,
      "outputs": [
        {
          "output_type": "stream",
          "text": [
            "- Nível de significância: 0.05\n",
            "- P-valor: 0.0\n",
            "- Graus de liberdade: 1\n",
            "- Valor qui-quadrado: 11710.18541144847\n",
            "\n",
            "- Resultado: rejeição da hipótese nula.\n"
          ],
          "name": "stdout"
        }
      ]
    },
    {
      "cell_type": "markdown",
      "metadata": {
        "id": "oZXmwCF4_stf"
      },
      "source": [
        "Como rejeitamos a hipótese nula, temos que **as diferenças entre as respostas possuem uma significância estatística alta**."
      ]
    },
    {
      "cell_type": "markdown",
      "metadata": {
        "id": "rdWWm4J-N47t"
      },
      "source": [
        "##### **Comparação entre os sexos**"
      ]
    },
    {
      "cell_type": "markdown",
      "metadata": {
        "id": "2k8beVsaOBh8"
      },
      "source": [
        "###### Tabelas de contingência"
      ]
    },
    {
      "cell_type": "code",
      "metadata": {
        "colab": {
          "base_uri": "https://localhost:8080/",
          "height": 238
        },
        "id": "SV3lbO9pBD2s",
        "outputId": "fd97a938-13be-4932-8a87-6701e7d19f1b"
      },
      "source": [
        "show_pivot_table('VB11003', 'VB01001', pense_student)"
      ],
      "execution_count": null,
      "outputs": [
        {
          "output_type": "stream",
          "text": [
            "Tabela dinâmica entre \"VB11003\" e \"VB01001\"\n",
            "\n"
          ],
          "name": "stdout"
        },
        {
          "output_type": "display_data",
          "data": {
            "text/html": [
              "<div>\n",
              "<style scoped>\n",
              "    .dataframe tbody tr th:only-of-type {\n",
              "        vertical-align: middle;\n",
              "    }\n",
              "\n",
              "    .dataframe tbody tr th {\n",
              "        vertical-align: top;\n",
              "    }\n",
              "\n",
              "    .dataframe thead th {\n",
              "        text-align: right;\n",
              "    }\n",
              "</style>\n",
              "<table border=\"1\" class=\"dataframe\">\n",
              "  <thead>\n",
              "    <tr style=\"text-align: right;\">\n",
              "      <th>Qual é o seu sexo?</th>\n",
              "      <th>Feminino</th>\n",
              "      <th>Masculino</th>\n",
              "      <th>Total</th>\n",
              "    </tr>\n",
              "    <tr>\n",
              "      <th>NOS ÚLTIMOS 30 DIAS, você vomitou ou tomou laxantes para perder peso ou evitar ganhar peso?</th>\n",
              "      <th></th>\n",
              "      <th></th>\n",
              "      <th></th>\n",
              "    </tr>\n",
              "  </thead>\n",
              "  <tbody>\n",
              "    <tr>\n",
              "      <th>Não</th>\n",
              "      <td>7559</td>\n",
              "      <td>7548</td>\n",
              "      <td>15107</td>\n",
              "    </tr>\n",
              "    <tr>\n",
              "      <th>Não informado</th>\n",
              "      <td>64</td>\n",
              "      <td>123</td>\n",
              "      <td>187</td>\n",
              "    </tr>\n",
              "    <tr>\n",
              "      <th>Sim</th>\n",
              "      <td>646</td>\n",
              "      <td>616</td>\n",
              "      <td>1262</td>\n",
              "    </tr>\n",
              "    <tr>\n",
              "      <th>Total</th>\n",
              "      <td>8269</td>\n",
              "      <td>8287</td>\n",
              "      <td>16556</td>\n",
              "    </tr>\n",
              "  </tbody>\n",
              "</table>\n",
              "</div>"
            ],
            "text/plain": [
              "Qual é o seu sexo?                                  Feminino  Masculino  Total\n",
              "NOS ÚLTIMOS 30 DIAS, você vomitou ou tomou laxa...                            \n",
              "Não                                                     7559       7548  15107\n",
              "Não informado                                             64        123    187\n",
              "Sim                                                      646        616   1262\n",
              "Total                                                   8269       8287  16556"
            ]
          },
          "metadata": {
            "tags": []
          }
        }
      ]
    },
    {
      "cell_type": "code",
      "metadata": {
        "colab": {
          "base_uri": "https://localhost:8080/",
          "height": 207
        },
        "id": "FN3cuentBPHX",
        "outputId": "f199a775-25ae-4572-b8f2-e2e0ce807400"
      },
      "source": [
        "show_percentage_pivot_table('VB11003', 'VB01001', 'index', pense_student)"
      ],
      "execution_count": null,
      "outputs": [
        {
          "output_type": "stream",
          "text": [
            "Tabela dinâmica percentual por linha entre \"VB11003\" e \"VB01001\"\n",
            "\n"
          ],
          "name": "stdout"
        },
        {
          "output_type": "display_data",
          "data": {
            "text/html": [
              "<style  type=\"text/css\" >\n",
              "#T_a0566a30_594b_11eb_a1c8_0242ac1c0002row0_col0,#T_a0566a30_594b_11eb_a1c8_0242ac1c0002row1_col1,#T_a0566a30_594b_11eb_a1c8_0242ac1c0002row2_col0{\n",
              "            background-color:  #08306b;\n",
              "            color:  #f1f1f1;\n",
              "        }#T_a0566a30_594b_11eb_a1c8_0242ac1c0002row0_col1,#T_a0566a30_594b_11eb_a1c8_0242ac1c0002row1_col0,#T_a0566a30_594b_11eb_a1c8_0242ac1c0002row2_col1{\n",
              "            background-color:  #f7fbff;\n",
              "            color:  #000000;\n",
              "        }</style><table id=\"T_a0566a30_594b_11eb_a1c8_0242ac1c0002\" class='dataframe'><thead>    <tr>        <th class=\"index_name level0\" >Qual é o seu sexo?</th>        <th class=\"col_heading level0 col0\" >Feminino</th>        <th class=\"col_heading level0 col1\" >Masculino</th>    </tr>    <tr>        <th class=\"index_name level0\" >NOS ÚLTIMOS 30 DIAS, você vomitou ou tomou laxantes para perder peso ou evitar ganhar peso? </th>        <th class=\"blank\" ></th>        <th class=\"blank\" ></th>    </tr></thead><tbody>\n",
              "                <tr>\n",
              "                        <th id=\"T_a0566a30_594b_11eb_a1c8_0242ac1c0002level0_row0\" class=\"row_heading level0 row0\" >Não</th>\n",
              "                        <td id=\"T_a0566a30_594b_11eb_a1c8_0242ac1c0002row0_col0\" class=\"data row0 col0\" >50.04</td>\n",
              "                        <td id=\"T_a0566a30_594b_11eb_a1c8_0242ac1c0002row0_col1\" class=\"data row0 col1\" >49.96</td>\n",
              "            </tr>\n",
              "            <tr>\n",
              "                        <th id=\"T_a0566a30_594b_11eb_a1c8_0242ac1c0002level0_row1\" class=\"row_heading level0 row1\" >Não informado</th>\n",
              "                        <td id=\"T_a0566a30_594b_11eb_a1c8_0242ac1c0002row1_col0\" class=\"data row1 col0\" >34.22</td>\n",
              "                        <td id=\"T_a0566a30_594b_11eb_a1c8_0242ac1c0002row1_col1\" class=\"data row1 col1\" >65.78</td>\n",
              "            </tr>\n",
              "            <tr>\n",
              "                        <th id=\"T_a0566a30_594b_11eb_a1c8_0242ac1c0002level0_row2\" class=\"row_heading level0 row2\" >Sim</th>\n",
              "                        <td id=\"T_a0566a30_594b_11eb_a1c8_0242ac1c0002row2_col0\" class=\"data row2 col0\" >51.19</td>\n",
              "                        <td id=\"T_a0566a30_594b_11eb_a1c8_0242ac1c0002row2_col1\" class=\"data row2 col1\" >48.81</td>\n",
              "            </tr>\n",
              "    </tbody></table>"
            ],
            "text/plain": [
              "<pandas.io.formats.style.Styler at 0x7f58e44b5ef0>"
            ]
          },
          "metadata": {
            "tags": []
          }
        }
      ]
    },
    {
      "cell_type": "markdown",
      "metadata": {
        "id": "pEMzaaE4Gsg-"
      },
      "source": [
        "- **Aparentemente, não existem diferenças tão abruptas entre as respostas dos dois sexos.**"
      ]
    },
    {
      "cell_type": "markdown",
      "metadata": {
        "id": "mFZXbEezPkWJ"
      },
      "source": [
        "###### Gráfico de barras"
      ]
    },
    {
      "cell_type": "code",
      "metadata": {
        "id": "qAC2QtI8BZjS"
      },
      "source": [
        "# Tabela \"melted\"\n",
        "wanted_df = melt_pct_df('VB11003', 'VB01001', 'index', pense_student)"
      ],
      "execution_count": null,
      "outputs": []
    },
    {
      "cell_type": "code",
      "metadata": {
        "colab": {
          "base_uri": "https://localhost:8080/",
          "height": 595
        },
        "id": "frQBTrV-BegX",
        "outputId": "adc927b5-f52c-4876-f73f-5ceb316b2e84"
      },
      "source": [
        "plt.figure(figsize=(12, 8))\n",
        "sns.barplot(x='Frequência relativa (%)', \n",
        "            y='NOS ÚLTIMOS 30 DIAS, você vomitou ou tomou laxantes para perder peso ou evitar ganhar peso? ',\n",
        "            data=wanted_df, hue='Qual é o seu sexo?',\n",
        "            palette=['crimson', 'cornflowerblue'])\n",
        "plt.legend(fontsize=12, bbox_to_anchor=(1.15, 0.79))\n",
        "plt.xlim(0, 100)\n",
        "plt.xticks(fontsize=12)\n",
        "plt.yticks(fontsize=12)\n",
        "plt.xlabel('\\nFrequência relativa (%)', fontsize=14)\n",
        "plt.ylabel('')\n",
        "plt.title('NOS ÚLTIMOS 30 DIAS, você vomitou ou tomou laxantes para perder peso \\nou evitar ganhar peso? (separado por sexo) - PeNSE 2015\\n',\n",
        "          fontsize=22)\n",
        "plt.grid(linestyle='--', axis='x')\n",
        "sns.despine()"
      ],
      "execution_count": null,
      "outputs": [
        {
          "output_type": "display_data",
          "data": {
            "image/png": "[encoded data removed]",
            "text/plain": [
              "<Figure size 864x576 with 1 Axes>"
            ]
          },
          "metadata": {
            "tags": []
          }
        }
      ]
    },
    {
      "cell_type": "markdown",
      "metadata": {
        "id": "Yd6itlNRQl7N"
      },
      "source": [
        "###### Teste qui-quadrado\n",
        "- $H_0$: As frequências dos que vomitaram ou tomaram laxante recentemente e o caso oposto são iguais entre os sexos.\n",
        "\n",
        "- $H_1$: As frequências dos que vomitaram ou tomaram laxante recentemente e o caso oposto são diferentes entre os sexos.\n"
      ]
    },
    {
      "cell_type": "code",
      "metadata": {
        "colab": {
          "base_uri": "https://localhost:8080/",
          "height": 142
        },
        "id": "cmSg0faVB9iJ",
        "outputId": "f23a25cf-1dcc-4a65-e003-f0b5a66ee0a7"
      },
      "source": [
        "# Tabela a ser usada (sem o \"Não informado\")\n",
        "wanted_df = make_pivot_table('VB11003', 'VB01001', pense_student, \n",
        "                             margins=False)\n",
        "wanted_df = wanted_df[wanted_df.index != 'Não informado']\n",
        "display(wanted_df)"
      ],
      "execution_count": null,
      "outputs": [
        {
          "output_type": "display_data",
          "data": {
            "text/html": [
              "<div>\n",
              "<style scoped>\n",
              "    .dataframe tbody tr th:only-of-type {\n",
              "        vertical-align: middle;\n",
              "    }\n",
              "\n",
              "    .dataframe tbody tr th {\n",
              "        vertical-align: top;\n",
              "    }\n",
              "\n",
              "    .dataframe thead th {\n",
              "        text-align: right;\n",
              "    }\n",
              "</style>\n",
              "<table border=\"1\" class=\"dataframe\">\n",
              "  <thead>\n",
              "    <tr style=\"text-align: right;\">\n",
              "      <th>Qual é o seu sexo?</th>\n",
              "      <th>Feminino</th>\n",
              "      <th>Masculino</th>\n",
              "    </tr>\n",
              "    <tr>\n",
              "      <th>NOS ÚLTIMOS 30 DIAS, você vomitou ou tomou laxantes para perder peso ou evitar ganhar peso?</th>\n",
              "      <th></th>\n",
              "      <th></th>\n",
              "    </tr>\n",
              "  </thead>\n",
              "  <tbody>\n",
              "    <tr>\n",
              "      <th>Não</th>\n",
              "      <td>7559</td>\n",
              "      <td>7548</td>\n",
              "    </tr>\n",
              "    <tr>\n",
              "      <th>Sim</th>\n",
              "      <td>646</td>\n",
              "      <td>616</td>\n",
              "    </tr>\n",
              "  </tbody>\n",
              "</table>\n",
              "</div>"
            ],
            "text/plain": [
              "Qual é o seu sexo?                                  Feminino  Masculino\n",
              "NOS ÚLTIMOS 30 DIAS, você vomitou ou tomou laxa...                     \n",
              "Não                                                     7559       7548\n",
              "Sim                                                      646        616"
            ]
          },
          "metadata": {
            "tags": []
          }
        }
      ]
    },
    {
      "cell_type": "code",
      "metadata": {
        "colab": {
          "base_uri": "https://localhost:8080/"
        },
        "id": "kolraYzqCD7f",
        "outputId": "36eb4754-1ce2-4156-9cbd-3abad2ab7332"
      },
      "source": [
        "# Teste qui-quadrado\n",
        "do_chi2_contingency(wanted_df)"
      ],
      "execution_count": null,
      "outputs": [
        {
          "output_type": "stream",
          "text": [
            "- Nível de significância: 0.05\n",
            "- P-valor: 0.44897270116812815\n",
            "- Graus de liberdade: 1\n",
            "- Valor qui-quadrado: 0.5732440201183955\n",
            "\n",
            "- Resultado: aceitação da hipótese nula.\n"
          ],
          "name": "stdout"
        }
      ]
    },
    {
      "cell_type": "markdown",
      "metadata": {
        "id": "NXZINtiaHC-X"
      },
      "source": [
        "Como aceitamos a hipótese nula, então **com uma significância estatística, as frequências das respostas desta pergunta são iguais entre os sexos**."
      ]
    },
    {
      "cell_type": "markdown",
      "metadata": {
        "id": "xipqCR73XOnC"
      },
      "source": [
        "#### **NOS ÚLTIMOS 30 DIAS, você tomou algum remédio, fórmula ou outro produto para perder peso, sem acompanhamento médico?**\n"
      ]
    },
    {
      "cell_type": "markdown",
      "metadata": {
        "id": "uWHAHLkTWf3G"
      },
      "source": [
        "##### **Adolescentes no geral**"
      ]
    },
    {
      "cell_type": "markdown",
      "metadata": {
        "id": "My1zIiv5uN64"
      },
      "source": [
        "###### Tabela de frequências"
      ]
    },
    {
      "cell_type": "code",
      "metadata": {
        "colab": {
          "base_uri": "https://localhost:8080/",
          "height": 207
        },
        "id": "64UBscccwNp0",
        "outputId": "10f3dff2-feed-4cdc-a7dc-4ef1d6822070"
      },
      "source": [
        "show_freq_table('VB11004A', pense_student)"
      ],
      "execution_count": null,
      "outputs": [
        {
          "output_type": "stream",
          "text": [
            "NOS ÚLTIMOS 30 DIAS, você tomou algum remédio, fórmula ou outro produto para perder peso, sem acompanhamento médico? \n",
            "\n"
          ],
          "name": "stdout"
        },
        {
          "output_type": "display_data",
          "data": {
            "text/html": [
              "<div>\n",
              "<style scoped>\n",
              "    .dataframe tbody tr th:only-of-type {\n",
              "        vertical-align: middle;\n",
              "    }\n",
              "\n",
              "    .dataframe tbody tr th {\n",
              "        vertical-align: top;\n",
              "    }\n",
              "\n",
              "    .dataframe thead th {\n",
              "        text-align: right;\n",
              "    }\n",
              "</style>\n",
              "<table border=\"1\" class=\"dataframe\">\n",
              "  <thead>\n",
              "    <tr style=\"text-align: right;\">\n",
              "      <th></th>\n",
              "      <th>Frequência absoluta</th>\n",
              "      <th>Frequência relativa (%)</th>\n",
              "    </tr>\n",
              "    <tr>\n",
              "      <th>DESCRIÇÃO</th>\n",
              "      <th></th>\n",
              "      <th></th>\n",
              "    </tr>\n",
              "  </thead>\n",
              "  <tbody>\n",
              "    <tr>\n",
              "      <th>Não</th>\n",
              "      <td>15243</td>\n",
              "      <td>92.07</td>\n",
              "    </tr>\n",
              "    <tr>\n",
              "      <th>Sim</th>\n",
              "      <td>1108</td>\n",
              "      <td>6.69</td>\n",
              "    </tr>\n",
              "    <tr>\n",
              "      <th>Não informado</th>\n",
              "      <td>205</td>\n",
              "      <td>1.24</td>\n",
              "    </tr>\n",
              "  </tbody>\n",
              "</table>\n",
              "</div>"
            ],
            "text/plain": [
              "               Frequência absoluta  Frequência relativa (%)\n",
              "DESCRIÇÃO                                                  \n",
              "Não                          15243                    92.07\n",
              "Sim                           1108                     6.69\n",
              "Não informado                  205                     1.24"
            ]
          },
          "metadata": {
            "tags": []
          }
        }
      ]
    },
    {
      "cell_type": "markdown",
      "metadata": {
        "id": "3LmjBiL4Igai"
      },
      "source": [
        "- **Aproximadamente 6,5% das pessoas entrevistadas responderam ter tomado algum produto, recentemente, para perder peso, sem o acompanhamento médico.**"
      ]
    },
    {
      "cell_type": "markdown",
      "metadata": {
        "id": "g7ho9YaVuR0Z"
      },
      "source": [
        "###### Teste qui-quadrado\n",
        "- $H_0$: a diferença entre as frequências dos que tomaram algum produto ou não recentemente, sem acompanhamento médico, para perder peso, não é significativa;\n",
        "\n",
        "- $H_1$: a diferença entre as frequências dos que tomaram algum produto ou não recentemente, sem acompanhamento médico, para perder peso, é significativa;"
      ]
    },
    {
      "cell_type": "code",
      "metadata": {
        "id": "g83h_w63SpdR"
      },
      "source": [
        "wanted_df = make_freq_table('VB11004A', pense_student)"
      ],
      "execution_count": null,
      "outputs": []
    },
    {
      "cell_type": "code",
      "metadata": {
        "colab": {
          "base_uri": "https://localhost:8080/",
          "height": 142
        },
        "id": "IDWQdjBCSweg",
        "outputId": "7ada7ec0-fcc0-4b35-cc38-d729eca64c9a"
      },
      "source": [
        "# Tabela sem o \"Não informado\"\n",
        "wanted_array = wanted_df[:-1]['Frequência absoluta']\n",
        "display(wanted_array.to_frame())"
      ],
      "execution_count": null,
      "outputs": [
        {
          "output_type": "display_data",
          "data": {
            "text/html": [
              "<div>\n",
              "<style scoped>\n",
              "    .dataframe tbody tr th:only-of-type {\n",
              "        vertical-align: middle;\n",
              "    }\n",
              "\n",
              "    .dataframe tbody tr th {\n",
              "        vertical-align: top;\n",
              "    }\n",
              "\n",
              "    .dataframe thead th {\n",
              "        text-align: right;\n",
              "    }\n",
              "</style>\n",
              "<table border=\"1\" class=\"dataframe\">\n",
              "  <thead>\n",
              "    <tr style=\"text-align: right;\">\n",
              "      <th></th>\n",
              "      <th>Frequência absoluta</th>\n",
              "    </tr>\n",
              "    <tr>\n",
              "      <th>DESCRIÇÃO</th>\n",
              "      <th></th>\n",
              "    </tr>\n",
              "  </thead>\n",
              "  <tbody>\n",
              "    <tr>\n",
              "      <th>Não</th>\n",
              "      <td>15243</td>\n",
              "    </tr>\n",
              "    <tr>\n",
              "      <th>Sim</th>\n",
              "      <td>1108</td>\n",
              "    </tr>\n",
              "  </tbody>\n",
              "</table>\n",
              "</div>"
            ],
            "text/plain": [
              "           Frequência absoluta\n",
              "DESCRIÇÃO                     \n",
              "Não                      15243\n",
              "Sim                       1108"
            ]
          },
          "metadata": {
            "tags": []
          }
        }
      ]
    },
    {
      "cell_type": "code",
      "metadata": {
        "colab": {
          "base_uri": "https://localhost:8080/"
        },
        "id": "xLYtIULOS3h8",
        "outputId": "fd155f54-72c4-48bf-ac50-5503d94a13d0"
      },
      "source": [
        "# Teste qui-quadrado\n",
        "do_chi2(wanted_array)"
      ],
      "execution_count": null,
      "outputs": [
        {
          "output_type": "stream",
          "text": [
            "- Nível de significância: 0.05\n",
            "- P-valor: 0.0\n",
            "- Graus de liberdade: 1\n",
            "- Valor qui-quadrado: 12219.32756406336\n",
            "\n",
            "- Resultado: rejeição da hipótese nula.\n"
          ],
          "name": "stdout"
        }
      ]
    },
    {
      "cell_type": "markdown",
      "metadata": {
        "id": "_IXIA5Pj_u9j"
      },
      "source": [
        "Como rejeitamos a hipótese nula, temos que **as diferenças entre as respostas possuem uma significância estatística alta**."
      ]
    },
    {
      "cell_type": "markdown",
      "metadata": {
        "id": "Yd9uPhpLwGjo"
      },
      "source": [
        "##### **Comparação entre os sexos**"
      ]
    },
    {
      "cell_type": "markdown",
      "metadata": {
        "id": "FGLkJrywwY1w"
      },
      "source": [
        "###### Tabelas de contingência"
      ]
    },
    {
      "cell_type": "code",
      "metadata": {
        "colab": {
          "base_uri": "https://localhost:8080/",
          "height": 238
        },
        "id": "AjD2OCiOS7Y-",
        "outputId": "8f7910b0-abcc-43e7-f984-cbc364b5861b"
      },
      "source": [
        "show_pivot_table('VB11004A', 'VB01001', pense_student)"
      ],
      "execution_count": null,
      "outputs": [
        {
          "output_type": "stream",
          "text": [
            "Tabela dinâmica entre \"VB11004A\" e \"VB01001\"\n",
            "\n"
          ],
          "name": "stdout"
        },
        {
          "output_type": "display_data",
          "data": {
            "text/html": [
              "<div>\n",
              "<style scoped>\n",
              "    .dataframe tbody tr th:only-of-type {\n",
              "        vertical-align: middle;\n",
              "    }\n",
              "\n",
              "    .dataframe tbody tr th {\n",
              "        vertical-align: top;\n",
              "    }\n",
              "\n",
              "    .dataframe thead th {\n",
              "        text-align: right;\n",
              "    }\n",
              "</style>\n",
              "<table border=\"1\" class=\"dataframe\">\n",
              "  <thead>\n",
              "    <tr style=\"text-align: right;\">\n",
              "      <th>Qual é o seu sexo?</th>\n",
              "      <th>Feminino</th>\n",
              "      <th>Masculino</th>\n",
              "      <th>Total</th>\n",
              "    </tr>\n",
              "    <tr>\n",
              "      <th>NOS ÚLTIMOS 30 DIAS, você tomou algum remédio, fórmula ou outro produto para perder peso, sem acompanhamento médico?</th>\n",
              "      <th></th>\n",
              "      <th></th>\n",
              "      <th></th>\n",
              "    </tr>\n",
              "  </thead>\n",
              "  <tbody>\n",
              "    <tr>\n",
              "      <th>Não</th>\n",
              "      <td>7724</td>\n",
              "      <td>7519</td>\n",
              "      <td>15243</td>\n",
              "    </tr>\n",
              "    <tr>\n",
              "      <th>Não informado</th>\n",
              "      <td>75</td>\n",
              "      <td>130</td>\n",
              "      <td>205</td>\n",
              "    </tr>\n",
              "    <tr>\n",
              "      <th>Sim</th>\n",
              "      <td>470</td>\n",
              "      <td>638</td>\n",
              "      <td>1108</td>\n",
              "    </tr>\n",
              "    <tr>\n",
              "      <th>Total</th>\n",
              "      <td>8269</td>\n",
              "      <td>8287</td>\n",
              "      <td>16556</td>\n",
              "    </tr>\n",
              "  </tbody>\n",
              "</table>\n",
              "</div>"
            ],
            "text/plain": [
              "Qual é o seu sexo?                                  Feminino  Masculino  Total\n",
              "NOS ÚLTIMOS 30 DIAS, você tomou algum remédio, ...                            \n",
              "Não                                                     7724       7519  15243\n",
              "Não informado                                             75        130    205\n",
              "Sim                                                      470        638   1108\n",
              "Total                                                   8269       8287  16556"
            ]
          },
          "metadata": {
            "tags": []
          }
        }
      ]
    },
    {
      "cell_type": "code",
      "metadata": {
        "colab": {
          "base_uri": "https://localhost:8080/",
          "height": 207
        },
        "id": "zliUPwUiS-eG",
        "outputId": "1242ce42-2ffd-491c-a0e7-df25e0d848f4"
      },
      "source": [
        "show_percentage_pivot_table('VB11004A', 'VB01001', 'index', pense_student)"
      ],
      "execution_count": null,
      "outputs": [
        {
          "output_type": "stream",
          "text": [
            "Tabela dinâmica percentual por linha entre \"VB11004A\" e \"VB01001\"\n",
            "\n"
          ],
          "name": "stdout"
        },
        {
          "output_type": "display_data",
          "data": {
            "text/html": [
              "<style  type=\"text/css\" >\n",
              "#T_a0d6272a_594b_11eb_a1c8_0242ac1c0002row0_col0,#T_a0d6272a_594b_11eb_a1c8_0242ac1c0002row1_col1,#T_a0d6272a_594b_11eb_a1c8_0242ac1c0002row2_col1{\n",
              "            background-color:  #08306b;\n",
              "            color:  #f1f1f1;\n",
              "        }#T_a0d6272a_594b_11eb_a1c8_0242ac1c0002row0_col1,#T_a0d6272a_594b_11eb_a1c8_0242ac1c0002row1_col0,#T_a0d6272a_594b_11eb_a1c8_0242ac1c0002row2_col0{\n",
              "            background-color:  #f7fbff;\n",
              "            color:  #000000;\n",
              "        }</style><table id=\"T_a0d6272a_594b_11eb_a1c8_0242ac1c0002\" class='dataframe'><thead>    <tr>        <th class=\"index_name level0\" >Qual é o seu sexo?</th>        <th class=\"col_heading level0 col0\" >Feminino</th>        <th class=\"col_heading level0 col1\" >Masculino</th>    </tr>    <tr>        <th class=\"index_name level0\" >NOS ÚLTIMOS 30 DIAS, você tomou algum remédio, fórmula ou outro produto para perder peso, sem acompanhamento médico?</th>        <th class=\"blank\" ></th>        <th class=\"blank\" ></th>    </tr></thead><tbody>\n",
              "                <tr>\n",
              "                        <th id=\"T_a0d6272a_594b_11eb_a1c8_0242ac1c0002level0_row0\" class=\"row_heading level0 row0\" >Não</th>\n",
              "                        <td id=\"T_a0d6272a_594b_11eb_a1c8_0242ac1c0002row0_col0\" class=\"data row0 col0\" >50.67</td>\n",
              "                        <td id=\"T_a0d6272a_594b_11eb_a1c8_0242ac1c0002row0_col1\" class=\"data row0 col1\" >49.33</td>\n",
              "            </tr>\n",
              "            <tr>\n",
              "                        <th id=\"T_a0d6272a_594b_11eb_a1c8_0242ac1c0002level0_row1\" class=\"row_heading level0 row1\" >Não informado</th>\n",
              "                        <td id=\"T_a0d6272a_594b_11eb_a1c8_0242ac1c0002row1_col0\" class=\"data row1 col0\" >36.59</td>\n",
              "                        <td id=\"T_a0d6272a_594b_11eb_a1c8_0242ac1c0002row1_col1\" class=\"data row1 col1\" >63.41</td>\n",
              "            </tr>\n",
              "            <tr>\n",
              "                        <th id=\"T_a0d6272a_594b_11eb_a1c8_0242ac1c0002level0_row2\" class=\"row_heading level0 row2\" >Sim</th>\n",
              "                        <td id=\"T_a0d6272a_594b_11eb_a1c8_0242ac1c0002row2_col0\" class=\"data row2 col0\" >42.42</td>\n",
              "                        <td id=\"T_a0d6272a_594b_11eb_a1c8_0242ac1c0002row2_col1\" class=\"data row2 col1\" >57.58</td>\n",
              "            </tr>\n",
              "    </tbody></table>"
            ],
            "text/plain": [
              "<pandas.io.formats.style.Styler at 0x7f58e44f9978>"
            ]
          },
          "metadata": {
            "tags": []
          }
        }
      ]
    },
    {
      "cell_type": "markdown",
      "metadata": {
        "id": "yTv-E27kKP7R"
      },
      "source": [
        "- **Dos que responderam que tomaram algum produto para perder peso, recentemente, sem o acompanhamento médico, 57% aproximadamente foram do sexo masculino.**"
      ]
    },
    {
      "cell_type": "markdown",
      "metadata": {
        "id": "TJ8sSL9EweoM"
      },
      "source": [
        "###### Gráfico de barras"
      ]
    },
    {
      "cell_type": "code",
      "metadata": {
        "id": "LrB5NP_wTGlv"
      },
      "source": [
        "# Tabela \"melted\"\n",
        "wanted_df = melt_pct_df('VB11004A', 'VB01001', 'index', pense_student)"
      ],
      "execution_count": null,
      "outputs": []
    },
    {
      "cell_type": "code",
      "metadata": {
        "colab": {
          "base_uri": "https://localhost:8080/",
          "height": 595
        },
        "id": "M5RoStPcTIF5",
        "outputId": "7a5bce5a-9f6a-46e4-8e00-26b1fd90d0b1"
      },
      "source": [
        "plt.figure(figsize=(12, 8))\n",
        "sns.barplot(x='Frequência relativa (%)', \n",
        "            y='NOS ÚLTIMOS 30 DIAS, você tomou algum remédio, fórmula ou outro produto para perder peso, sem acompanhamento médico?',\n",
        "            data=wanted_df, hue='Qual é o seu sexo?',\n",
        "            palette=['crimson', 'cornflowerblue'])\n",
        "plt.legend(fontsize=12, bbox_to_anchor=(1.15, 0.79))\n",
        "plt.xlim(0, 100)\n",
        "plt.xticks(fontsize=12)\n",
        "plt.yticks(fontsize=12)\n",
        "plt.xlabel('\\nFrequência relativa (%)', fontsize=14)\n",
        "plt.ylabel('')\n",
        "plt.title('NOS ÚLTIMOS 30 DIAS, você tomou algum remédio, fórmula ou outro produto para perder peso, \\nsem acompanhamento médico? (separado por sexo) - PeNSE 2015\\n',\n",
        "          fontsize=22)\n",
        "plt.grid(linestyle='--', axis='x')\n",
        "sns.despine()"
      ],
      "execution_count": null,
      "outputs": [
        {
          "output_type": "display_data",
          "data": {
            "image/png": "[encoded data removed]",
            "text/plain": [
              "<Figure size 864x576 with 1 Axes>"
            ]
          },
          "metadata": {
            "tags": []
          }
        }
      ]
    },
    {
      "cell_type": "markdown",
      "metadata": {
        "id": "C-p1oMtkxUpY"
      },
      "source": [
        "###### Teste qui-quadrado\n",
        "- $H_0$: As frequências das respostas dos que tomaram algum produto recentemente e o caso oposto, para perder peso, são iguais entre os sexos.\n",
        "\n",
        "- $H_1$: As frequências das respostas dos que tomaram algum produto recentemente e o caso oposto, para perder peso, são diferentes entre os sexos."
      ]
    },
    {
      "cell_type": "code",
      "metadata": {
        "colab": {
          "base_uri": "https://localhost:8080/",
          "height": 142
        },
        "id": "Afb37-LiTPnZ",
        "outputId": "d762b438-d41c-42a3-fca5-80dd3fb27ea3"
      },
      "source": [
        "# Tabela a ser usada (sem o \"Não informado\")\n",
        "wanted_df = make_pivot_table('VB11004A', 'VB01001', pense_student, \n",
        "                             margins=False)\n",
        "wanted_df = wanted_df[wanted_df.index != 'Não informado']\n",
        "display(wanted_df)"
      ],
      "execution_count": null,
      "outputs": [
        {
          "output_type": "display_data",
          "data": {
            "text/html": [
              "<div>\n",
              "<style scoped>\n",
              "    .dataframe tbody tr th:only-of-type {\n",
              "        vertical-align: middle;\n",
              "    }\n",
              "\n",
              "    .dataframe tbody tr th {\n",
              "        vertical-align: top;\n",
              "    }\n",
              "\n",
              "    .dataframe thead th {\n",
              "        text-align: right;\n",
              "    }\n",
              "</style>\n",
              "<table border=\"1\" class=\"dataframe\">\n",
              "  <thead>\n",
              "    <tr style=\"text-align: right;\">\n",
              "      <th>Qual é o seu sexo?</th>\n",
              "      <th>Feminino</th>\n",
              "      <th>Masculino</th>\n",
              "    </tr>\n",
              "    <tr>\n",
              "      <th>NOS ÚLTIMOS 30 DIAS, você tomou algum remédio, fórmula ou outro produto para perder peso, sem acompanhamento médico?</th>\n",
              "      <th></th>\n",
              "      <th></th>\n",
              "    </tr>\n",
              "  </thead>\n",
              "  <tbody>\n",
              "    <tr>\n",
              "      <th>Não</th>\n",
              "      <td>7724</td>\n",
              "      <td>7519</td>\n",
              "    </tr>\n",
              "    <tr>\n",
              "      <th>Sim</th>\n",
              "      <td>470</td>\n",
              "      <td>638</td>\n",
              "    </tr>\n",
              "  </tbody>\n",
              "</table>\n",
              "</div>"
            ],
            "text/plain": [
              "Qual é o seu sexo?                                  Feminino  Masculino\n",
              "NOS ÚLTIMOS 30 DIAS, você tomou algum remédio, ...                     \n",
              "Não                                                     7724       7519\n",
              "Sim                                                      470        638"
            ]
          },
          "metadata": {
            "tags": []
          }
        }
      ]
    },
    {
      "cell_type": "code",
      "metadata": {
        "colab": {
          "base_uri": "https://localhost:8080/"
        },
        "id": "MoV8rOEVTubV",
        "outputId": "d8fa1f1f-4eda-47ed-a429-20db2e3b72f3"
      },
      "source": [
        "# Teste qui-quadrado\n",
        "do_chi2_contingency(wanted_df)"
      ],
      "execution_count": null,
      "outputs": [
        {
          "output_type": "stream",
          "text": [
            "- Nível de significância: 0.05\n",
            "- P-valor: 1.3333782319019513e-07\n",
            "- Graus de liberdade: 1\n",
            "- Valor qui-quadrado: 27.81716551605338\n",
            "\n",
            "- Resultado: rejeição da hipótese nula.\n"
          ],
          "name": "stdout"
        }
      ]
    },
    {
      "cell_type": "markdown",
      "metadata": {
        "id": "eaJEJTi1MYZ3"
      },
      "source": [
        "Como rejeitamos a hipótese nula, então podemos afirmar que, **com uma significância estatística, as frequências das respostas dos que tomaram algum produto recentemente e o caso oposto, para perder peso, são diferentes entre os sexos.**"
      ]
    },
    {
      "cell_type": "markdown",
      "metadata": {
        "id": "9USR4Rg2XZG6"
      },
      "source": [
        "#### **NOS ÚLTIMOS 30 DIAS, você tomou algum remédio, fórmula ou outro produto para ganhar peso ou massa muscular sem acompanhamento médico?**  "
      ]
    },
    {
      "cell_type": "markdown",
      "metadata": {
        "id": "n_MUoM2wWhx0"
      },
      "source": [
        "##### **Adolescentes no geral**"
      ]
    },
    {
      "cell_type": "markdown",
      "metadata": {
        "id": "E0DiV6lvx4vt"
      },
      "source": [
        "###### Tabela de frequências"
      ]
    },
    {
      "cell_type": "code",
      "metadata": {
        "colab": {
          "base_uri": "https://localhost:8080/",
          "height": 207
        },
        "id": "XjXWkLNdwbLs",
        "outputId": "a06834ea-913a-4fbc-d9f0-9e13c31b5881"
      },
      "source": [
        "show_freq_table('VB11005', pense_student)"
      ],
      "execution_count": null,
      "outputs": [
        {
          "output_type": "stream",
          "text": [
            "NOS ÚLTIMOS 30 DIAS, você tomou algum remédio, fórmula ou outro produto para ganhar peso ou massa muscular sem acompanhamento médico?  \n",
            "\n"
          ],
          "name": "stdout"
        },
        {
          "output_type": "display_data",
          "data": {
            "text/html": [
              "<div>\n",
              "<style scoped>\n",
              "    .dataframe tbody tr th:only-of-type {\n",
              "        vertical-align: middle;\n",
              "    }\n",
              "\n",
              "    .dataframe tbody tr th {\n",
              "        vertical-align: top;\n",
              "    }\n",
              "\n",
              "    .dataframe thead th {\n",
              "        text-align: right;\n",
              "    }\n",
              "</style>\n",
              "<table border=\"1\" class=\"dataframe\">\n",
              "  <thead>\n",
              "    <tr style=\"text-align: right;\">\n",
              "      <th></th>\n",
              "      <th>Frequência absoluta</th>\n",
              "      <th>Frequência relativa (%)</th>\n",
              "    </tr>\n",
              "    <tr>\n",
              "      <th>DESCRIÇÃO</th>\n",
              "      <th></th>\n",
              "      <th></th>\n",
              "    </tr>\n",
              "  </thead>\n",
              "  <tbody>\n",
              "    <tr>\n",
              "      <th>Não</th>\n",
              "      <td>15007</td>\n",
              "      <td>90.64</td>\n",
              "    </tr>\n",
              "    <tr>\n",
              "      <th>Sim</th>\n",
              "      <td>1321</td>\n",
              "      <td>7.98</td>\n",
              "    </tr>\n",
              "    <tr>\n",
              "      <th>Não informado</th>\n",
              "      <td>228</td>\n",
              "      <td>1.38</td>\n",
              "    </tr>\n",
              "  </tbody>\n",
              "</table>\n",
              "</div>"
            ],
            "text/plain": [
              "               Frequência absoluta  Frequência relativa (%)\n",
              "DESCRIÇÃO                                                  \n",
              "Não                          15007                    90.64\n",
              "Sim                           1321                     7.98\n",
              "Não informado                  228                     1.38"
            ]
          },
          "metadata": {
            "tags": []
          }
        }
      ]
    },
    {
      "cell_type": "markdown",
      "metadata": {
        "id": "ZudTFio4N8Bm"
      },
      "source": [
        "- **Aproximadamente 8% das pessoas entrevistadas relataram ter tomado algum produto, recentemente, para ganhar peso ou massa muscular, sem o acompanhamento médico.**"
      ]
    },
    {
      "cell_type": "markdown",
      "metadata": {
        "id": "DdB4zv14x8lL"
      },
      "source": [
        "###### Teste qui-quadrado\n",
        "- $H_0$: a diferença entre as frequências dos que tomaram algum produto ou não recentemente, sem acompanhamento médico, para ganhar peso ou massa muscular, não é significativa;\n",
        "\n",
        "- $H_1$: a diferença entre as frequências dos que tomaram algum produto ou não recentemente, sem acompanhamento médico, para ganhar peso ou massa muscular, é significativa;"
      ]
    },
    {
      "cell_type": "code",
      "metadata": {
        "id": "mb7tMYPdTTOq"
      },
      "source": [
        "wanted_df = make_freq_table('VB11005', pense_student)"
      ],
      "execution_count": null,
      "outputs": []
    },
    {
      "cell_type": "code",
      "metadata": {
        "colab": {
          "base_uri": "https://localhost:8080/",
          "height": 142
        },
        "id": "hiRGDFXFTW1N",
        "outputId": "016c1ffe-6ad9-4ece-a70e-c733048c4df3"
      },
      "source": [
        "# Tabela sem o \"Não informado\"\n",
        "wanted_array = wanted_df[:-1]['Frequência absoluta']\n",
        "display(wanted_array.to_frame())"
      ],
      "execution_count": null,
      "outputs": [
        {
          "output_type": "display_data",
          "data": {
            "text/html": [
              "<div>\n",
              "<style scoped>\n",
              "    .dataframe tbody tr th:only-of-type {\n",
              "        vertical-align: middle;\n",
              "    }\n",
              "\n",
              "    .dataframe tbody tr th {\n",
              "        vertical-align: top;\n",
              "    }\n",
              "\n",
              "    .dataframe thead th {\n",
              "        text-align: right;\n",
              "    }\n",
              "</style>\n",
              "<table border=\"1\" class=\"dataframe\">\n",
              "  <thead>\n",
              "    <tr style=\"text-align: right;\">\n",
              "      <th></th>\n",
              "      <th>Frequência absoluta</th>\n",
              "    </tr>\n",
              "    <tr>\n",
              "      <th>DESCRIÇÃO</th>\n",
              "      <th></th>\n",
              "    </tr>\n",
              "  </thead>\n",
              "  <tbody>\n",
              "    <tr>\n",
              "      <th>Não</th>\n",
              "      <td>15007</td>\n",
              "    </tr>\n",
              "    <tr>\n",
              "      <th>Sim</th>\n",
              "      <td>1321</td>\n",
              "    </tr>\n",
              "  </tbody>\n",
              "</table>\n",
              "</div>"
            ],
            "text/plain": [
              "           Frequência absoluta\n",
              "DESCRIÇÃO                     \n",
              "Não                      15007\n",
              "Sim                       1321"
            ]
          },
          "metadata": {
            "tags": []
          }
        }
      ]
    },
    {
      "cell_type": "code",
      "metadata": {
        "colab": {
          "base_uri": "https://localhost:8080/"
        },
        "id": "xFBJcPOOTYdl",
        "outputId": "1cb11fad-b174-4deb-c962-b82c89264131"
      },
      "source": [
        "# Teste qui-quadrado\n",
        "do_chi2(wanted_array)"
      ],
      "execution_count": null,
      "outputs": [
        {
          "output_type": "stream",
          "text": [
            "- Nível de significância: 0.05\n",
            "- P-valor: 0.0\n",
            "- Graus de liberdade: 1\n",
            "- Valor qui-quadrado: 11471.496570308673\n",
            "\n",
            "- Resultado: rejeição da hipótese nula.\n"
          ],
          "name": "stdout"
        }
      ]
    },
    {
      "cell_type": "markdown",
      "metadata": {
        "id": "FwcWZi5J_yxW"
      },
      "source": [
        "Como rejeitamos a hipótese nula, temos que **as diferenças entre as respostas possuem uma significância estatística alta**."
      ]
    },
    {
      "cell_type": "markdown",
      "metadata": {
        "id": "DlnS3P6gyUAA"
      },
      "source": [
        "##### **Comparação entre os sexos**"
      ]
    },
    {
      "cell_type": "markdown",
      "metadata": {
        "id": "PBCK0ZOZzp-F"
      },
      "source": [
        "###### Tabelas de contingência"
      ]
    },
    {
      "cell_type": "code",
      "metadata": {
        "colab": {
          "base_uri": "https://localhost:8080/",
          "height": 238
        },
        "id": "UMZtKubcTaTD",
        "outputId": "805cbf3c-2bae-4ed1-fe78-50e3155b6cb8"
      },
      "source": [
        "show_pivot_table('VB11005', 'VB01001', pense_student)"
      ],
      "execution_count": null,
      "outputs": [
        {
          "output_type": "stream",
          "text": [
            "Tabela dinâmica entre \"VB11005\" e \"VB01001\"\n",
            "\n"
          ],
          "name": "stdout"
        },
        {
          "output_type": "display_data",
          "data": {
            "text/html": [
              "<div>\n",
              "<style scoped>\n",
              "    .dataframe tbody tr th:only-of-type {\n",
              "        vertical-align: middle;\n",
              "    }\n",
              "\n",
              "    .dataframe tbody tr th {\n",
              "        vertical-align: top;\n",
              "    }\n",
              "\n",
              "    .dataframe thead th {\n",
              "        text-align: right;\n",
              "    }\n",
              "</style>\n",
              "<table border=\"1\" class=\"dataframe\">\n",
              "  <thead>\n",
              "    <tr style=\"text-align: right;\">\n",
              "      <th>Qual é o seu sexo?</th>\n",
              "      <th>Feminino</th>\n",
              "      <th>Masculino</th>\n",
              "      <th>Total</th>\n",
              "    </tr>\n",
              "    <tr>\n",
              "      <th>NOS ÚLTIMOS 30 DIAS, você tomou algum remédio, fórmula ou outro produto para ganhar peso ou massa muscular sem acompanhamento médico?</th>\n",
              "      <th></th>\n",
              "      <th></th>\n",
              "      <th></th>\n",
              "    </tr>\n",
              "  </thead>\n",
              "  <tbody>\n",
              "    <tr>\n",
              "      <th>Não</th>\n",
              "      <td>7703</td>\n",
              "      <td>7304</td>\n",
              "      <td>15007</td>\n",
              "    </tr>\n",
              "    <tr>\n",
              "      <th>Não informado</th>\n",
              "      <td>82</td>\n",
              "      <td>146</td>\n",
              "      <td>228</td>\n",
              "    </tr>\n",
              "    <tr>\n",
              "      <th>Sim</th>\n",
              "      <td>484</td>\n",
              "      <td>837</td>\n",
              "      <td>1321</td>\n",
              "    </tr>\n",
              "    <tr>\n",
              "      <th>Total</th>\n",
              "      <td>8269</td>\n",
              "      <td>8287</td>\n",
              "      <td>16556</td>\n",
              "    </tr>\n",
              "  </tbody>\n",
              "</table>\n",
              "</div>"
            ],
            "text/plain": [
              "Qual é o seu sexo?                                  Feminino  Masculino  Total\n",
              "NOS ÚLTIMOS 30 DIAS, você tomou algum remédio, ...                            \n",
              "Não                                                     7703       7304  15007\n",
              "Não informado                                             82        146    228\n",
              "Sim                                                      484        837   1321\n",
              "Total                                                   8269       8287  16556"
            ]
          },
          "metadata": {
            "tags": []
          }
        }
      ]
    },
    {
      "cell_type": "code",
      "metadata": {
        "colab": {
          "base_uri": "https://localhost:8080/",
          "height": 207
        },
        "id": "hOlJAOzlTckB",
        "outputId": "56b1f968-a3af-4841-f6d9-ff4277078d38"
      },
      "source": [
        "show_percentage_pivot_table('VB11005', 'VB01001', 'index', pense_student)"
      ],
      "execution_count": null,
      "outputs": [
        {
          "output_type": "stream",
          "text": [
            "Tabela dinâmica percentual por linha entre \"VB11005\" e \"VB01001\"\n",
            "\n"
          ],
          "name": "stdout"
        },
        {
          "output_type": "display_data",
          "data": {
            "text/html": [
              "<style  type=\"text/css\" >\n",
              "#T_a156841a_594b_11eb_a1c8_0242ac1c0002row0_col0,#T_a156841a_594b_11eb_a1c8_0242ac1c0002row1_col1,#T_a156841a_594b_11eb_a1c8_0242ac1c0002row2_col1{\n",
              "            background-color:  #08306b;\n",
              "            color:  #f1f1f1;\n",
              "        }#T_a156841a_594b_11eb_a1c8_0242ac1c0002row0_col1,#T_a156841a_594b_11eb_a1c8_0242ac1c0002row1_col0,#T_a156841a_594b_11eb_a1c8_0242ac1c0002row2_col0{\n",
              "            background-color:  #f7fbff;\n",
              "            color:  #000000;\n",
              "        }</style><table id=\"T_a156841a_594b_11eb_a1c8_0242ac1c0002\" class='dataframe'><thead>    <tr>        <th class=\"index_name level0\" >Qual é o seu sexo?</th>        <th class=\"col_heading level0 col0\" >Feminino</th>        <th class=\"col_heading level0 col1\" >Masculino</th>    </tr>    <tr>        <th class=\"index_name level0\" >NOS ÚLTIMOS 30 DIAS, você tomou algum remédio, fórmula ou outro produto para ganhar peso ou massa muscular sem acompanhamento médico? </th>        <th class=\"blank\" ></th>        <th class=\"blank\" ></th>    </tr></thead><tbody>\n",
              "                <tr>\n",
              "                        <th id=\"T_a156841a_594b_11eb_a1c8_0242ac1c0002level0_row0\" class=\"row_heading level0 row0\" >Não</th>\n",
              "                        <td id=\"T_a156841a_594b_11eb_a1c8_0242ac1c0002row0_col0\" class=\"data row0 col0\" >51.33</td>\n",
              "                        <td id=\"T_a156841a_594b_11eb_a1c8_0242ac1c0002row0_col1\" class=\"data row0 col1\" >48.67</td>\n",
              "            </tr>\n",
              "            <tr>\n",
              "                        <th id=\"T_a156841a_594b_11eb_a1c8_0242ac1c0002level0_row1\" class=\"row_heading level0 row1\" >Não informado</th>\n",
              "                        <td id=\"T_a156841a_594b_11eb_a1c8_0242ac1c0002row1_col0\" class=\"data row1 col0\" >35.96</td>\n",
              "                        <td id=\"T_a156841a_594b_11eb_a1c8_0242ac1c0002row1_col1\" class=\"data row1 col1\" >64.04</td>\n",
              "            </tr>\n",
              "            <tr>\n",
              "                        <th id=\"T_a156841a_594b_11eb_a1c8_0242ac1c0002level0_row2\" class=\"row_heading level0 row2\" >Sim</th>\n",
              "                        <td id=\"T_a156841a_594b_11eb_a1c8_0242ac1c0002row2_col0\" class=\"data row2 col0\" >36.64</td>\n",
              "                        <td id=\"T_a156841a_594b_11eb_a1c8_0242ac1c0002row2_col1\" class=\"data row2 col1\" >63.36</td>\n",
              "            </tr>\n",
              "    </tbody></table>"
            ],
            "text/plain": [
              "<pandas.io.formats.style.Styler at 0x7f58e44b5470>"
            ]
          },
          "metadata": {
            "tags": []
          }
        }
      ]
    },
    {
      "cell_type": "markdown",
      "metadata": {
        "id": "6o9lZ9CJOxqL"
      },
      "source": [
        "- **Um pouco mais que 60% dos que tomaram algum produto, recentemente, para ganhar peso ou massa muscular, sem o acompanhamento médico, foram do sexo masculino.**"
      ]
    },
    {
      "cell_type": "markdown",
      "metadata": {
        "id": "OuqowfafztJb"
      },
      "source": [
        "###### Gráfico de barras"
      ]
    },
    {
      "cell_type": "code",
      "metadata": {
        "id": "1pyflXvxTfhi"
      },
      "source": [
        "# Tabela \"melted\"\n",
        "wanted_df = melt_pct_df('VB11005', 'VB01001', 'index', pense_student)"
      ],
      "execution_count": null,
      "outputs": []
    },
    {
      "cell_type": "code",
      "metadata": {
        "colab": {
          "base_uri": "https://localhost:8080/",
          "height": 595
        },
        "id": "u58D2T1FThUt",
        "outputId": "b046d760-3ffc-4795-b97e-3984a8159e2d"
      },
      "source": [
        "plt.figure(figsize=(12, 8))\n",
        "sns.barplot(x='Frequência relativa (%)', \n",
        "            y='NOS ÚLTIMOS 30 DIAS, você tomou algum remédio, fórmula ou outro produto para ganhar peso ou massa muscular sem acompanhamento médico? ',\n",
        "            data=wanted_df, hue='Qual é o seu sexo?',\n",
        "            palette=['crimson', 'cornflowerblue'])\n",
        "plt.legend(fontsize=12, bbox_to_anchor=(1.15, 0.79))\n",
        "plt.xlim(0, 100)\n",
        "plt.xticks(fontsize=12)\n",
        "plt.yticks(fontsize=12)\n",
        "plt.xlabel('\\nFrequência relativa (%)', fontsize=14)\n",
        "plt.ylabel('')\n",
        "plt.title('NOS ÚLTIMOS 30 DIAS, você tomou algum remédio, fórmula ou outro produto para ganhar peso \\nou massa muscular sem acompanhamento médico? (separado por sexo) - PeNSE 2015\\n',\n",
        "          fontsize=22)\n",
        "plt.grid(linestyle='--', axis='x')\n",
        "sns.despine()"
      ],
      "execution_count": null,
      "outputs": [
        {
          "output_type": "display_data",
          "data": {
            "image/png": "[encoded data removed]",
            "text/plain": [
              "<Figure size 864x576 with 1 Axes>"
            ]
          },
          "metadata": {
            "tags": []
          }
        }
      ]
    },
    {
      "cell_type": "markdown",
      "metadata": {
        "id": "hFy5mwKaz7Ed"
      },
      "source": [
        "###### Teste qui-quadrado\n",
        "- $H_0$: As frequências das repostas dos que tomaram algum produto recentemente e o caso oposto, para ganhar peso ou massa muscular, são iguais entre os sexos.\n",
        "- $H_1$: As frequências dos que tomaram algum produto recentemente e o caso oposto, para ganhar peso ou massa muscular, são diferentes entre os sexos."
      ]
    },
    {
      "cell_type": "code",
      "metadata": {
        "colab": {
          "base_uri": "https://localhost:8080/",
          "height": 142
        },
        "id": "mcLFPptNTp8G",
        "outputId": "425a75e4-36d8-4327-81f5-31f1baacae64"
      },
      "source": [
        "# Tabela a ser usada (sem o \"Não informado\")\n",
        "wanted_df = make_pivot_table('VB11005', 'VB01001', pense_student, \n",
        "                             margins=False)\n",
        "wanted_df = wanted_df[wanted_df.index != 'Não informado']\n",
        "display(wanted_df)"
      ],
      "execution_count": null,
      "outputs": [
        {
          "output_type": "display_data",
          "data": {
            "text/html": [
              "<div>\n",
              "<style scoped>\n",
              "    .dataframe tbody tr th:only-of-type {\n",
              "        vertical-align: middle;\n",
              "    }\n",
              "\n",
              "    .dataframe tbody tr th {\n",
              "        vertical-align: top;\n",
              "    }\n",
              "\n",
              "    .dataframe thead th {\n",
              "        text-align: right;\n",
              "    }\n",
              "</style>\n",
              "<table border=\"1\" class=\"dataframe\">\n",
              "  <thead>\n",
              "    <tr style=\"text-align: right;\">\n",
              "      <th>Qual é o seu sexo?</th>\n",
              "      <th>Feminino</th>\n",
              "      <th>Masculino</th>\n",
              "    </tr>\n",
              "    <tr>\n",
              "      <th>NOS ÚLTIMOS 30 DIAS, você tomou algum remédio, fórmula ou outro produto para ganhar peso ou massa muscular sem acompanhamento médico?</th>\n",
              "      <th></th>\n",
              "      <th></th>\n",
              "    </tr>\n",
              "  </thead>\n",
              "  <tbody>\n",
              "    <tr>\n",
              "      <th>Não</th>\n",
              "      <td>7703</td>\n",
              "      <td>7304</td>\n",
              "    </tr>\n",
              "    <tr>\n",
              "      <th>Sim</th>\n",
              "      <td>484</td>\n",
              "      <td>837</td>\n",
              "    </tr>\n",
              "  </tbody>\n",
              "</table>\n",
              "</div>"
            ],
            "text/plain": [
              "Qual é o seu sexo?                                  Feminino  Masculino\n",
              "NOS ÚLTIMOS 30 DIAS, você tomou algum remédio, ...                     \n",
              "Não                                                     7703       7304\n",
              "Sim                                                      484        837"
            ]
          },
          "metadata": {
            "tags": []
          }
        }
      ]
    },
    {
      "cell_type": "code",
      "metadata": {
        "colab": {
          "base_uri": "https://localhost:8080/"
        },
        "id": "XkVMTV9RTxhS",
        "outputId": "6c435fdd-8921-4b20-9ded-2a28163eb0ff"
      },
      "source": [
        "# Teste qui-quadrado\n",
        "do_chi2_contingency(wanted_df)"
      ],
      "execution_count": null,
      "outputs": [
        {
          "output_type": "stream",
          "text": [
            "- Nível de significância: 0.05\n",
            "- P-valor: 1.8085427190334293e-24\n",
            "- Graus de liberdade: 1\n",
            "- Valor qui-quadrado: 104.22218408988218\n",
            "\n",
            "- Resultado: rejeição da hipótese nula.\n"
          ],
          "name": "stdout"
        }
      ]
    },
    {
      "cell_type": "markdown",
      "metadata": {
        "id": "svyRzImdPFG5"
      },
      "source": [
        "Como rejeitamos a hipótese nula, podemos afirmar que, **com uma significância estatística, as frequências das respotas dos que tomaram algum produto recentemente e o caso oposto, para ganhar peso ou massa muscular, são diferentes entre os sexos.**"
      ]
    },
    {
      "cell_type": "markdown",
      "metadata": {
        "id": "TZvhsGlg-hLQ"
      },
      "source": [
        "---\n",
        "## **Resumo e Conclusão do Projeto**\n",
        "\n",
        "Foi um projeto bem trabalhoso, principalmente porque **definir um escopo** para se seguir, dada a quantidade de variáveis, ou seja, assuntos que poderíamos nos aprofundar mais, era muito grande. Mas enfim, foi bem interessante me aprofundar nesse tema, é algo que muitas pessoas acabam deixando de lado, e ele deve ter sua devida atenção, ainda mais quando somos crianças.\n",
        "\n",
        "Abaixo ficarão listadas todas as conclusões que obtive desse meu projeto."
      ]
    },
    {
      "cell_type": "markdown",
      "metadata": {
        "id": "dW4hdllBrZZ3"
      },
      "source": [
        "### **EDA sobre o Bullying**\n"
      ]
    },
    {
      "cell_type": "markdown",
      "metadata": {
        "id": "86MgmmGur6MY"
      },
      "source": [
        "- **Dos 16.556 adolescentes entrevistados, 45,81% relataram que já sofreram bullying alguma vez na vida.**\n",
        "- **Aproximadamente 11% dos entrevistados que foram caçoados nos últimos 30 dias, tiveram como motivo principal a aparência do corpo e do rosto.**"
      ]
    },
    {
      "cell_type": "markdown",
      "metadata": {
        "id": "6CYTgG7RsTXo"
      },
      "source": [
        "### **EDA e Testes de Hipóteses Sobre a Imagem Corporal**"
      ]
    },
    {
      "cell_type": "markdown",
      "metadata": {
        "id": "HxlTAGPesY4B"
      },
      "source": [
        "#### **Imagem corporal é importante?**\n",
        "\n",
        "- **Aproximadamente 80% dos entrevistados responderam que a imagem corporal é importante ou muito importante;**\n",
        "\t- **As diferenças entre as respostas são estatisticamente significativas quando tratamos das pessoas nessa faixa etária**.\n",
        "- **Aparentemente, as pessoas entrevistadas do sexo feminino possuem uma preocupação um pouco maior com a imagem corporal.**\n",
        "\t- **Com uma significância estatística, as considerações pela imagem corporal é diferente entre os adolescentes do sexo masculino e feminino.**"
      ]
    },
    {
      "cell_type": "markdown",
      "metadata": {
        "id": "yBwOq5OUxWEM"
      },
      "source": [
        "#### **Como você se sente em relação ao seu corpo?**\n",
        "\n",
        "- **Aproximadamente 18% dos entrevistados se sentem insatisfeitos ou muito insatisfeitos em relação ao próprio corpo;**\n",
        "\t- **As diferenças entre as respostas possuem uma significância estatística alta**.\n",
        "- **Aparentemente, um pouco mais que 60% dos que responderam insatisfeitos ou muito insatisfeitos com o próprio corpo, foram do sexo feminino;**\n",
        "\t- **Esses sentimentos em relação ao corpo são diferentes para cada sexo, com uma significância estatística alta**."
      ]
    },
    {
      "cell_type": "markdown",
      "metadata": {
        "id": "12pVPgWuxZdl"
      },
      "source": [
        "#### **Como você se considera (massa corpórea)?**\n",
        "\n",
        "- **Aproximadamente 25% dos entrevistados responderam que se consideram magro ou muito magro;**\n",
        "- **Aproximadamente 20% dos entrevistados responderam que se consideram gordo ou muito gordo;**\n",
        "\t- **As diferenças entre as respostas possuem uma significância estatística alta**.\n",
        "- **Das pessoas que responderam se sentir \"muito gordo(a)\", aproximadamente 70% foram do sexo feminino**;\n",
        "- **Das pessoas que responderam se sentir \"gordo(a)\" ou \"muito magro(a)\", quase 60% foram do sexo feminino**;\n",
        "- **Para a resposta \"magro(a)\", tivemos quase 55% para o sexo masculino**.\n",
        "\t- **As impressões dos jovens em relação ao próprio corpo (massa corporal) são diferentes entre os sexos**."
      ]
    },
    {
      "cell_type": "markdown",
      "metadata": {
        "id": "RaLmIMT3xdTr"
      },
      "source": [
        "#### **NOS ÚLTIMOS 30 DIAS, você vomitou ou tomou laxantes para perder peso ou evitar ganhar peso?**\n",
        "\n",
        "- **Aproximadamente 7,5% das pessoas entrevistadas responderam ter vomitado ou tomado lanxante, recentemente, para perder ou evitar ganhar peso;**\n",
        "\t- **As diferenças entre as respostas possuem uma significância estatística alta**.\n",
        "- **Aparentemente, não existem diferenças tão abruptas entre as respostas dos dois sexos.**\n",
        "\t- **Com uma significância estatística, as frequências das respostas desta pergunta são iguais entre os sexos**."
      ]
    },
    {
      "cell_type": "markdown",
      "metadata": {
        "id": "1Y94Zxi3xgk7"
      },
      "source": [
        "#### **NOS ÚLTIMOS 30 DIAS, você tomou algum remédio, fórmula ou outro produto para perder peso, sem acompanhamento médico?**\n",
        "\n",
        "- **Aproximadamente 6,5% das pessoas entrevistadas responderam ter tomado algum produto, recentemente, para perder peso, sem o acompanhamento médico;**\n",
        "\t- **As diferenças entre as respostas possuem uma significância estatística alta**.\n",
        "- **Dos que responderam que tomaram algum produto para perder peso, recentemente, sem o acompanhamento médico, 57% aproximadamente foram do sexo masculino.**\n",
        "\t- **Com uma significância estatística, as frequências das respostas dos que tomaram algum produto recentemente e o caso oposto, para perder peso, são diferentes entre os sexos.**"
      ]
    },
    {
      "cell_type": "markdown",
      "metadata": {
        "id": "J-5ITSboxkWX"
      },
      "source": [
        "#### **NOS ÚLTIMOS 30 DIAS, você tomou algum remédio, fórmula ou outro produto para ganhar peso ou massa muscular sem acompanhamento médico?** \n",
        "\n",
        "- **Aproximadamente 8% das pessoas entrevistadas relataram ter tomado algum produto, recentemente, para ganhar peso ou massa muscular, sem o acompanhamento médico;**\n",
        "\t- **As diferenças entre as respostas possuem uma significância estatística alta**.\n",
        "- **Um pouco mais que 60% dos que tomaram algum produto, recentemente, para ganhar peso ou massa muscular, sem o acompanhamento médico, foram do sexo masculino.**\n",
        "\t- **Com uma significância estatística, as frequências das respotas dos que tomaram algum produto recentemente e o caso oposto, para ganhar peso ou massa muscular, são diferentes entre os sexos.**"
      ]
    },
    {
      "cell_type": "markdown",
      "metadata": {
        "id": "ZW0HI-ksWzqy"
      },
      "source": [
        "---\n",
        "## **Fontes**\n",
        "- Sobre imagem corporal:\n",
        "  - [O que é](https://vilamulher.com.br/familia/criancas/imagem-corporal-infantil-como-estimular-a-autoestima-m0516-720519.html);\n",
        "\n",
        "  - [Certos cuidados](http://gatda.com.br/index.php/2016/03/29/imagem-corporal-2/).\n",
        "\n",
        "- Sobre o PeNSE 2015:\n",
        "  - [Descrição](https://www.ibge.gov.br/estatisticas/sociais/educacao/9134-pesquisa-nacional-de-saude-do-escolar.html?=&t=o-que-e);\n",
        "  - [Base de dados](https://www.ibge.gov.br/estatisticas/sociais/educacao/9134-pesquisa-nacional-de-saude-do-escolar.html?=&t=downloads)."
      ]
    }
  ]
}